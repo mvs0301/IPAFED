{
 "cells": [
  {
   "cell_type": "markdown",
   "metadata": {},
   "source": [
    "<img src=\"./Img/sci.png\">\n",
    "\n",
    "### <center> Финансовый университет\n",
    "## <center>  Инструментальная поддержка анализа<br> финансово-экономических данных\n",
    "## <center> Тема 2. Базовые технологии для анализа данных\n",
    "\n",
    "Семинар<br>\n",
    "27 февраля 2021 года<br>\n",
    "Поток: ПМ18-1, ПМ18-2, ПМ18-3, ПМ18-4\n",
    "\n",
    "Преподаватель: Смирнов Михаил Викторович, mvsmirnov@fa.ru"
   ]
  },
  {
   "cell_type": "markdown",
   "metadata": {},
   "source": [
    "### Документация, справочные и учебные материалы:\n",
    "\n",
    "\n",
    "### Matplotlib\n",
    "\n",
    "<a href=\"https://matplotlib.org/stable/index.html\">Документация matplotlib</a> <br>\n",
    "<a href=\"https://matplotlib.org/stable/api/_as_gen/matplotlib.figure.Figure.html\">subplots</a><br>\n",
    "<a href=\"https://matplotlib.org/3.1.0/tutorials/colors/colormaps.html\">Сочетания цветов</a><br>\n",
    "<a href=\"https://matplotlib.org/stable/tutorials/index.html\">Tutorials</a><br>\n",
    "<a href=\"https://matplotlib.org/stable/gallery/index.html\">Галерея</a> <br>\n",
    "<a href=\"https://matplotlib.org/stable/api/_as_gen/matplotlib.pyplot.plot.html\">Функция matplotlib.pyplot.plot</a>\n",
    "\n",
    "\n",
    "### Seaborn\n",
    "https://seaborn.pydata.org/ <br>\n",
    "Пошаговые инструкции https://seaborn.pydata.org/tutorial.html <br>\n",
    "Галерея https://seaborn.pydata.org/examples/index.html\n",
    "\n",
    "### Plotly\n",
    "https://plot.ly/python/\n",
    "\n",
    "### Источники на русском языке\n",
    "Обзор https://pythonworld.ru/novosti-mira-python/scientific-graphics-in-python.html <br>\n",
    "Обзор https://pyprog.pro/mpl/mpl_short_guide.html <br>\n",
    "Открытытй курс машинного обучения от Хабра https://habr.com/ru/company/ods/blog/323210/ \n",
    "<br>\n",
    "Учебный курс по DataScience от<a href=\"https://skillfactory.ru/\"> SkillFactory</a>"
   ]
  },
  {
   "cell_type": "markdown",
   "metadata": {},
   "source": [
    "## Введение\n",
    "\n",
    "На этом семинаре мы будем учиться строить разные виды графиков. Исходным учебным набором данных является таблица <a href=\"./Data/FinancialSample.csv\">Financial Sample</a>, размещенная в открытом доступе в одном из разделов портала Microsoft для обучения работе с программными продуктами этой корпорации. Еще нам понадобится вспомогательная таблица <a href=\"./Data/Financial Sample Fields.csv\">Financial Sample Fields</a>, содержащая описание полей таблицы Financial Sample. Оба файла в CSV формате, будьте острожны, при их открытии. Если Вы хотите предварительно с ними ознакомиться, рекомендуется открывать эти файлы только в Блокноте Windows и не вносить в них никаких изменений, не сохранять их снова из интерфейса программ, в которых Вы их открываете."
   ]
  },
  {
   "cell_type": "markdown",
   "metadata": {},
   "source": [
    "## 1. Графические возможности Pandas\n",
    "\n",
    "Импортируем библиотеку _Pandas_ и загрузим в память компьютера учебный набор данных _Financial Sample_. Также загрузим таблицу _Financial Sample Fields_."
   ]
  },
  {
   "cell_type": "code",
   "execution_count": 1,
   "metadata": {},
   "outputs": [],
   "source": [
    "import pandas as pd"
   ]
  },
  {
   "cell_type": "code",
   "execution_count": 2,
   "metadata": {},
   "outputs": [
    {
     "data": {
      "text/html": [
       "<div>\n",
       "<style scoped>\n",
       "    .dataframe tbody tr th:only-of-type {\n",
       "        vertical-align: middle;\n",
       "    }\n",
       "\n",
       "    .dataframe tbody tr th {\n",
       "        vertical-align: top;\n",
       "    }\n",
       "\n",
       "    .dataframe thead th {\n",
       "        text-align: right;\n",
       "    }\n",
       "</style>\n",
       "<table border=\"1\" class=\"dataframe\">\n",
       "  <thead>\n",
       "    <tr style=\"text-align: right;\">\n",
       "      <th></th>\n",
       "      <th>Segment</th>\n",
       "      <th>Country</th>\n",
       "      <th>Product</th>\n",
       "      <th>DiscountBand</th>\n",
       "      <th>UnitsSold</th>\n",
       "      <th>ManufacturingPrice</th>\n",
       "      <th>SalePrice</th>\n",
       "      <th>GrossSales</th>\n",
       "      <th>Discounts</th>\n",
       "      <th>Sales</th>\n",
       "      <th>COGS</th>\n",
       "      <th>Profit</th>\n",
       "      <th>Date</th>\n",
       "      <th>MonthNumber</th>\n",
       "      <th>MonthName</th>\n",
       "      <th>Year</th>\n",
       "    </tr>\n",
       "  </thead>\n",
       "  <tbody>\n",
       "    <tr>\n",
       "      <th>0</th>\n",
       "      <td>Government</td>\n",
       "      <td>Canada</td>\n",
       "      <td>Carretera</td>\n",
       "      <td>None</td>\n",
       "      <td>1618.5</td>\n",
       "      <td>3</td>\n",
       "      <td>20</td>\n",
       "      <td>32370.0</td>\n",
       "      <td>0.0</td>\n",
       "      <td>32370.0</td>\n",
       "      <td>16185.0</td>\n",
       "      <td>16185.0</td>\n",
       "      <td>2014-01-01</td>\n",
       "      <td>1</td>\n",
       "      <td>January</td>\n",
       "      <td>2014</td>\n",
       "    </tr>\n",
       "    <tr>\n",
       "      <th>1</th>\n",
       "      <td>Government</td>\n",
       "      <td>Germany</td>\n",
       "      <td>Carretera</td>\n",
       "      <td>None</td>\n",
       "      <td>1321.0</td>\n",
       "      <td>3</td>\n",
       "      <td>20</td>\n",
       "      <td>26420.0</td>\n",
       "      <td>0.0</td>\n",
       "      <td>26420.0</td>\n",
       "      <td>13210.0</td>\n",
       "      <td>13210.0</td>\n",
       "      <td>2014-01-01</td>\n",
       "      <td>1</td>\n",
       "      <td>January</td>\n",
       "      <td>2014</td>\n",
       "    </tr>\n",
       "    <tr>\n",
       "      <th>2</th>\n",
       "      <td>Midmarket</td>\n",
       "      <td>France</td>\n",
       "      <td>Carretera</td>\n",
       "      <td>None</td>\n",
       "      <td>2178.0</td>\n",
       "      <td>3</td>\n",
       "      <td>15</td>\n",
       "      <td>32670.0</td>\n",
       "      <td>0.0</td>\n",
       "      <td>32670.0</td>\n",
       "      <td>21780.0</td>\n",
       "      <td>10890.0</td>\n",
       "      <td>2014-06-01</td>\n",
       "      <td>6</td>\n",
       "      <td>June</td>\n",
       "      <td>2014</td>\n",
       "    </tr>\n",
       "    <tr>\n",
       "      <th>3</th>\n",
       "      <td>Midmarket</td>\n",
       "      <td>Germany</td>\n",
       "      <td>Carretera</td>\n",
       "      <td>None</td>\n",
       "      <td>888.0</td>\n",
       "      <td>3</td>\n",
       "      <td>15</td>\n",
       "      <td>13320.0</td>\n",
       "      <td>0.0</td>\n",
       "      <td>13320.0</td>\n",
       "      <td>8880.0</td>\n",
       "      <td>4440.0</td>\n",
       "      <td>2014-06-01</td>\n",
       "      <td>6</td>\n",
       "      <td>June</td>\n",
       "      <td>2014</td>\n",
       "    </tr>\n",
       "    <tr>\n",
       "      <th>4</th>\n",
       "      <td>Midmarket</td>\n",
       "      <td>Mexico</td>\n",
       "      <td>Carretera</td>\n",
       "      <td>None</td>\n",
       "      <td>2470.0</td>\n",
       "      <td>3</td>\n",
       "      <td>15</td>\n",
       "      <td>37050.0</td>\n",
       "      <td>0.0</td>\n",
       "      <td>37050.0</td>\n",
       "      <td>24700.0</td>\n",
       "      <td>12350.0</td>\n",
       "      <td>2014-06-01</td>\n",
       "      <td>6</td>\n",
       "      <td>June</td>\n",
       "      <td>2014</td>\n",
       "    </tr>\n",
       "  </tbody>\n",
       "</table>\n",
       "</div>"
      ],
      "text/plain": [
       "      Segment  Country    Product DiscountBand  UnitsSold  ManufacturingPrice  \\\n",
       "0  Government   Canada  Carretera         None     1618.5                   3   \n",
       "1  Government  Germany  Carretera         None     1321.0                   3   \n",
       "2   Midmarket   France  Carretera         None     2178.0                   3   \n",
       "3   Midmarket  Germany  Carretera         None      888.0                   3   \n",
       "4   Midmarket   Mexico  Carretera         None     2470.0                   3   \n",
       "\n",
       "   SalePrice  GrossSales  Discounts    Sales     COGS   Profit        Date  \\\n",
       "0         20     32370.0        0.0  32370.0  16185.0  16185.0  2014-01-01   \n",
       "1         20     26420.0        0.0  26420.0  13210.0  13210.0  2014-01-01   \n",
       "2         15     32670.0        0.0  32670.0  21780.0  10890.0  2014-06-01   \n",
       "3         15     13320.0        0.0  13320.0   8880.0   4440.0  2014-06-01   \n",
       "4         15     37050.0        0.0  37050.0  24700.0  12350.0  2014-06-01   \n",
       "\n",
       "   MonthNumber MonthName  Year  \n",
       "0            1   January  2014  \n",
       "1            1   January  2014  \n",
       "2            6      June  2014  \n",
       "3            6      June  2014  \n",
       "4            6      June  2014  "
      ]
     },
     "execution_count": 2,
     "metadata": {},
     "output_type": "execute_result"
    }
   ],
   "source": [
    "df=pd.read_csv('./Data/FinancialSample.csv',sep=';')\n",
    "de=pd.read_csv('./Data/Financial Sample Fields.csv',sep=';')\n",
    "df.head()"
   ]
  },
  {
   "cell_type": "code",
   "execution_count": 3,
   "metadata": {},
   "outputs": [
    {
     "data": {
      "text/html": [
       "<div>\n",
       "<style scoped>\n",
       "    .dataframe tbody tr th:only-of-type {\n",
       "        vertical-align: middle;\n",
       "    }\n",
       "\n",
       "    .dataframe tbody tr th {\n",
       "        vertical-align: top;\n",
       "    }\n",
       "\n",
       "    .dataframe thead th {\n",
       "        text-align: right;\n",
       "    }\n",
       "</style>\n",
       "<table border=\"1\" class=\"dataframe\">\n",
       "  <thead>\n",
       "    <tr style=\"text-align: right;\">\n",
       "      <th></th>\n",
       "      <th>Name</th>\n",
       "      <th>Meaning</th>\n",
       "    </tr>\n",
       "  </thead>\n",
       "  <tbody>\n",
       "    <tr>\n",
       "      <th>0</th>\n",
       "      <td>Segment</td>\n",
       "      <td>Сегмент рынка</td>\n",
       "    </tr>\n",
       "    <tr>\n",
       "      <th>1</th>\n",
       "      <td>Country</td>\n",
       "      <td>Страна</td>\n",
       "    </tr>\n",
       "    <tr>\n",
       "      <th>2</th>\n",
       "      <td>Product</td>\n",
       "      <td>Сделано в</td>\n",
       "    </tr>\n",
       "    <tr>\n",
       "      <th>3</th>\n",
       "      <td>DiscountBand</td>\n",
       "      <td>Группа скидок</td>\n",
       "    </tr>\n",
       "    <tr>\n",
       "      <th>4</th>\n",
       "      <td>UnitsSold</td>\n",
       "      <td>Продано штук</td>\n",
       "    </tr>\n",
       "    <tr>\n",
       "      <th>5</th>\n",
       "      <td>ManufacturingPrice</td>\n",
       "      <td>Цена производства</td>\n",
       "    </tr>\n",
       "    <tr>\n",
       "      <th>6</th>\n",
       "      <td>SalePrice</td>\n",
       "      <td>Цена единицы товара</td>\n",
       "    </tr>\n",
       "    <tr>\n",
       "      <th>7</th>\n",
       "      <td>GrossSales</td>\n",
       "      <td>Валовая продажа</td>\n",
       "    </tr>\n",
       "    <tr>\n",
       "      <th>8</th>\n",
       "      <td>Discounts</td>\n",
       "      <td>Скидка</td>\n",
       "    </tr>\n",
       "    <tr>\n",
       "      <th>9</th>\n",
       "      <td>Sales</td>\n",
       "      <td>Стоимость партии товара</td>\n",
       "    </tr>\n",
       "    <tr>\n",
       "      <th>10</th>\n",
       "      <td>COGS</td>\n",
       "      <td>Себестоимость проданных товаров</td>\n",
       "    </tr>\n",
       "    <tr>\n",
       "      <th>11</th>\n",
       "      <td>Profit</td>\n",
       "      <td>Прибыль</td>\n",
       "    </tr>\n",
       "    <tr>\n",
       "      <th>12</th>\n",
       "      <td>Date</td>\n",
       "      <td>Дата</td>\n",
       "    </tr>\n",
       "    <tr>\n",
       "      <th>13</th>\n",
       "      <td>MonthNumber</td>\n",
       "      <td>Месяц номер</td>\n",
       "    </tr>\n",
       "    <tr>\n",
       "      <th>14</th>\n",
       "      <td>MonthName</td>\n",
       "      <td>Месяц</td>\n",
       "    </tr>\n",
       "    <tr>\n",
       "      <th>15</th>\n",
       "      <td>Year</td>\n",
       "      <td>Год</td>\n",
       "    </tr>\n",
       "  </tbody>\n",
       "</table>\n",
       "</div>"
      ],
      "text/plain": [
       "                  Name                          Meaning\n",
       "0              Segment                    Сегмент рынка\n",
       "1              Country                           Страна\n",
       "2              Product                        Сделано в\n",
       "3         DiscountBand                    Группа скидок\n",
       "4            UnitsSold                     Продано штук\n",
       "5   ManufacturingPrice                Цена производства\n",
       "6            SalePrice              Цена единицы товара\n",
       "7           GrossSales                  Валовая продажа\n",
       "8            Discounts                           Скидка\n",
       "9                Sales          Стоимость партии товара\n",
       "10                COGS  Себестоимость проданных товаров\n",
       "11              Profit                          Прибыль\n",
       "12                Date                             Дата\n",
       "13         MonthNumber                      Месяц номер\n",
       "14           MonthName                            Месяц\n",
       "15                Year                              Год"
      ]
     },
     "execution_count": 3,
     "metadata": {},
     "output_type": "execute_result"
    }
   ],
   "source": [
    "de"
   ]
  },
  {
   "cell_type": "code",
   "execution_count": 4,
   "metadata": {},
   "outputs": [
    {
     "name": "stdout",
     "output_type": "stream",
     "text": [
      "<class 'pandas.core.frame.DataFrame'>\n",
      "RangeIndex: 700 entries, 0 to 699\n",
      "Data columns (total 16 columns):\n",
      " #   Column              Non-Null Count  Dtype  \n",
      "---  ------              --------------  -----  \n",
      " 0   Segment             700 non-null    object \n",
      " 1   Country             700 non-null    object \n",
      " 2   Product             700 non-null    object \n",
      " 3   DiscountBand        700 non-null    object \n",
      " 4   UnitsSold           700 non-null    float64\n",
      " 5   ManufacturingPrice  700 non-null    int64  \n",
      " 6   SalePrice           700 non-null    int64  \n",
      " 7   GrossSales          700 non-null    float64\n",
      " 8   Discounts           700 non-null    float64\n",
      " 9   Sales               700 non-null    float64\n",
      " 10  COGS                700 non-null    float64\n",
      " 11  Profit              700 non-null    float64\n",
      " 12  Date                700 non-null    object \n",
      " 13  MonthNumber         700 non-null    int64  \n",
      " 14  MonthName           700 non-null    object \n",
      " 15  Year                700 non-null    int64  \n",
      "dtypes: float64(6), int64(4), object(6)\n",
      "memory usage: 87.6+ KB\n"
     ]
    }
   ],
   "source": [
    "df.info()"
   ]
  },
  {
   "cell_type": "markdown",
   "metadata": {},
   "source": [
    "## 1.1. Метод plot\n",
    "\n",
    "Для быстрого и корректного отображения графиков запустите на работу магическую команду. Эта команда позволяет автоматически выводить на экран все графики и диаграммы без использования дополнительных функций."
   ]
  },
  {
   "cell_type": "code",
   "execution_count": 5,
   "metadata": {},
   "outputs": [],
   "source": [
    "%matplotlib inline"
   ]
  },
  {
   "cell_type": "markdown",
   "metadata": {},
   "source": [
    "Функционал для создания всех известных типов графиков включен в Pandas и устанавливается на компьютер вместе с пакетом Anaconda по умолчанию. Если применить метод _plot_ к таблице, то будут выведены графики всех числовых столбцов."
   ]
  },
  {
   "cell_type": "code",
   "execution_count": 6,
   "metadata": {},
   "outputs": [
    {
     "data": {
      "text/plain": [
       "<matplotlib.axes._subplots.AxesSubplot at 0x22d8114b108>"
      ]
     },
     "execution_count": 6,
     "metadata": {},
     "output_type": "execute_result"
    },
    {
     "data": {
      "image/png": "[encoded data removed]",
      "text/plain": [
       "<Figure size 432x288 with 1 Axes>"
      ]
     },
     "metadata": {
      "needs_background": "light"
     },
     "output_type": "display_data"
    }
   ],
   "source": [
    "df.plot()"
   ]
  },
  {
   "cell_type": "markdown",
   "metadata": {},
   "source": [
    "Применим метод _plot_ не ко всему набору данных, а к одному столбцу, в качестве одного из параметров укажем тип диаграммы _hist_. Дополним параметрами _grid_ и _title_."
   ]
  },
  {
   "cell_type": "code",
   "execution_count": 5,
   "metadata": {
    "scrolled": true
   },
   "outputs": [
    {
     "data": {
      "text/plain": [
       "<matplotlib.axes._subplots.AxesSubplot at 0x207eb5a22c8>"
      ]
     },
     "execution_count": 5,
     "metadata": {},
     "output_type": "execute_result"
    },
    {
     "data": {
      "image/png": "[encoded data removed]",
      "text/plain": [
       "<Figure size 432x288 with 1 Axes>"
      ]
     },
     "metadata": {
      "needs_background": "light"
     },
     "output_type": "display_data"
    }
   ],
   "source": [
    "df['Profit'].plot(kind='hist',grid='True',title='Прибыль')"
   ]
  },
  {
   "cell_type": "markdown",
   "metadata": {},
   "source": [
    "Для работы с нечисловыми (категориальными) переменными их надо сначала обработать. С помощью _value_counts()_ сгруппируем по производителю, найдем число сделок в каждой группе. Используем тип графика _bar_."
   ]
  },
  {
   "cell_type": "code",
   "execution_count": 8,
   "metadata": {},
   "outputs": [
    {
     "data": {
      "text/plain": [
       "<matplotlib.axes._subplots.AxesSubplot at 0x207ebb07548>"
      ]
     },
     "execution_count": 8,
     "metadata": {},
     "output_type": "execute_result"
    },
    {
     "data": {
      "image/png": "[encoded data removed]",
      "text/plain": [
       "<Figure size 432x288 with 1 Axes>"
      ]
     },
     "metadata": {
      "needs_background": "light"
     },
     "output_type": "display_data"
    }
   ],
   "source": [
    "df['Product'].value_counts().plot(kind='bar',\n",
    "                                  grid=True,colormap='coolwarm',\n",
    "                                  title='Число сделок по производителям')"
   ]
  },
  {
   "cell_type": "markdown",
   "metadata": {},
   "source": [
    "### Задание 1.1.1.\n",
    "Постройте столбчатую диаграмму, отражающую средний размер скидки в разрезе по группе скидок для каждого производителя. Для горизонтального расположения столбцов диаграммы используйте `kind=barh`. Ожидается результат:\n",
    "\n",
    "<img src=\"./Img/img_sem_02.png\">"
   ]
  },
  {
   "cell_type": "markdown",
   "metadata": {},
   "source": [
    "### Задание 1.1.2.\n",
    "\n",
    "Напишите названия параметров, с помощью которых можно:\n",
    "\n",
    "1. Добавить на график заголовок.\n",
    "\n",
    "2. Добавить на график сетку.\n",
    "\n",
    "3. Настроить цветовую гамму графика.\n",
    "\n"
   ]
  },
  {
   "cell_type": "markdown",
   "metadata": {},
   "source": [
    "### Отображение двух показателей на графике\n",
    "\n",
    "Метод _plot_ позволяет использовать параметр _subplots,_ принимающий значения _True_ и _False_."
   ]
  },
  {
   "cell_type": "code",
   "execution_count": 9,
   "metadata": {},
   "outputs": [
    {
     "data": {
      "text/plain": [
       "array([<matplotlib.axes._subplots.AxesSubplot object at 0x0000022D8151BCC8>,\n",
       "       <matplotlib.axes._subplots.AxesSubplot object at 0x0000022D8153DB88>],\n",
       "      dtype=object)"
      ]
     },
     "execution_count": 9,
     "metadata": {},
     "output_type": "execute_result"
    },
    {
     "data": {
      "image/png": "[encoded data removed]",
      "text/plain": [
       "<Figure size 432x288 with 2 Axes>"
      ]
     },
     "metadata": {
      "needs_background": "light"
     },
     "output_type": "display_data"
    }
   ],
   "source": [
    "# Несколько графиков в одной рабочей области:\n",
    "df[['COGS', 'Sales']].plot(kind = 'hist', \n",
    "                               grid = True,\n",
    "                               subplots = True, \n",
    "                               title = ['Себестоимость', 'Продажи'], \n",
    "                               legend = False)"
   ]
  },
  {
   "cell_type": "markdown",
   "metadata": {},
   "source": [
    "Такой вариант показывает, в каких пределах изменяются показатели, но ничего не говорит о том, есть ли между ними связь. Для получения такой информации используется значение _'scatter'_ параметра _kind_."
   ]
  },
  {
   "cell_type": "code",
   "execution_count": 10,
   "metadata": {},
   "outputs": [
    {
     "data": {
      "text/plain": [
       "<matplotlib.axes._subplots.AxesSubplot at 0x22d8117e4c8>"
      ]
     },
     "execution_count": 10,
     "metadata": {},
     "output_type": "execute_result"
    },
    {
     "data": {
      "image/png": "[encoded data removed]",
      "text/plain": [
       "<Figure size 432x288 with 1 Axes>"
      ]
     },
     "metadata": {
      "needs_background": "light"
     },
     "output_type": "display_data"
    }
   ],
   "source": [
    "# Есть ли связь между показателями?\n",
    "df.plot(x = 'COGS', \n",
    "        y = 'Sales', \n",
    "        kind = 'scatter', \n",
    "        grid = True, \n",
    "        title = 'Себестоимость Vs Продажи')"
   ]
  },
  {
   "cell_type": "markdown",
   "metadata": {},
   "source": [
    "Совместим на графике несколько количественных и качественных показателей. Отобразим средние значения цены производства и цены едингицы товара в разрезе по виду скидки."
   ]
  },
  {
   "cell_type": "code",
   "execution_count": 18,
   "metadata": {},
   "outputs": [
    {
     "data": {
      "text/html": [
       "<div>\n",
       "<style scoped>\n",
       "    .dataframe tbody tr th:only-of-type {\n",
       "        vertical-align: middle;\n",
       "    }\n",
       "\n",
       "    .dataframe tbody tr th {\n",
       "        vertical-align: top;\n",
       "    }\n",
       "\n",
       "    .dataframe thead th {\n",
       "        text-align: right;\n",
       "    }\n",
       "</style>\n",
       "<table border=\"1\" class=\"dataframe\">\n",
       "  <thead>\n",
       "    <tr style=\"text-align: right;\">\n",
       "      <th></th>\n",
       "      <th>ManufacturingPrice</th>\n",
       "      <th>SalePrice</th>\n",
       "    </tr>\n",
       "    <tr>\n",
       "      <th>DiscountBand</th>\n",
       "      <th></th>\n",
       "      <th></th>\n",
       "    </tr>\n",
       "  </thead>\n",
       "  <tbody>\n",
       "    <tr>\n",
       "      <th>High</th>\n",
       "      <td>102.506122</td>\n",
       "      <td>115.579592</td>\n",
       "    </tr>\n",
       "    <tr>\n",
       "      <th>Low</th>\n",
       "      <td>82.887500</td>\n",
       "      <td>133.912500</td>\n",
       "    </tr>\n",
       "    <tr>\n",
       "      <th>Medium</th>\n",
       "      <td>100.289256</td>\n",
       "      <td>116.776860</td>\n",
       "    </tr>\n",
       "    <tr>\n",
       "      <th>None</th>\n",
       "      <td>92.226415</td>\n",
       "      <td>92.396226</td>\n",
       "    </tr>\n",
       "  </tbody>\n",
       "</table>\n",
       "</div>"
      ],
      "text/plain": [
       "              ManufacturingPrice   SalePrice\n",
       "DiscountBand                                \n",
       "High                  102.506122  115.579592\n",
       "Low                    82.887500  133.912500\n",
       "Medium                100.289256  116.776860\n",
       "None                   92.226415   92.396226"
      ]
     },
     "execution_count": 18,
     "metadata": {},
     "output_type": "execute_result"
    }
   ],
   "source": [
    "pvt=df.pivot_table(index=['DiscountBand'],\n",
    "                   values=['SalePrice','ManufacturingPrice'],aggfunc='mean')\n",
    "pvt"
   ]
  },
  {
   "cell_type": "code",
   "execution_count": 19,
   "metadata": {
    "scrolled": true
   },
   "outputs": [
    {
     "data": {
      "text/plain": [
       "<matplotlib.axes._subplots.AxesSubplot at 0x22d8298fdc8>"
      ]
     },
     "execution_count": 19,
     "metadata": {},
     "output_type": "execute_result"
    },
    {
     "data": {
      "image/png": "[encoded data removed]",
      "text/plain": [
       "<Figure size 432x288 with 1 Axes>"
      ]
     },
     "metadata": {
      "needs_background": "light"
     },
     "output_type": "display_data"
    }
   ],
   "source": [
    "pvt.plot(kind='bar',title='Средняя цена производства и продажи')"
   ]
  },
  {
   "cell_type": "markdown",
   "metadata": {},
   "source": [
    "### Задание 3\n",
    "Постройте столбчатую диаграмму числа сделок с группировкой по странам и производителям. <br>Ожидается результат:\n",
    "\n",
    "<img src=\"./Img/img_sem_03.png\">"
   ]
  },
  {
   "cell_type": "markdown",
   "metadata": {},
   "source": [
    "### Задание 4 \n",
    "Постройте график распределения средней цены продаж (Sales) по разным странам и сегментам рынка. <br> Ожидается результат:\n",
    "<img src=\"./Img/img_sem_04.png\">"
   ]
  },
  {
   "cell_type": "markdown",
   "metadata": {},
   "source": [
    "## 2.2. Объектно-ориентированный подход к созданию графиков\n",
    "\n",
    "Полный список методов к объекту axes в официальной документации <br>\n",
    "https://matplotlib.org/stable/api/axes_api.html\n",
    "\n",
    "Варианты форм маркеров <br>\n",
    "https://matplotlib.org/stable/api/markers_api.html\n",
    "\n",
    "Matplotlib - библиотека Python, обладающая широкими возможностями по созданию и отображению графической информации. Ее необходимо импортировать, включая модуль pyplot. Для корректного отображения графиков в ноутбуке выполним команду `%matplotlib inline`"
   ]
  },
  {
   "cell_type": "code",
   "execution_count": 62,
   "metadata": {},
   "outputs": [],
   "source": [
    "import pandas as pd\n",
    "import matplotlib.pyplot as plt\n",
    "%matplotlib inline\n",
    "\n",
    "df = pd.read_csv('tips.csv')"
   ]
  },
  {
   "cell_type": "markdown",
   "metadata": {},
   "source": [
    "Реализация объектно-ориентированного подхода начинается с создания объекта. В первой строке создается объект `fig`. Во второй строке создается координатная плоскость, которая нвачинается в левом нижнем углу (координаты 0,0) и занимет все отведенное место (ширина и высота равны 1)."
   ]
  },
  {
   "cell_type": "code",
   "execution_count": 63,
   "metadata": {},
   "outputs": [
    {
     "data": {
      "image/png": "[encoded data removed]",
      "text/plain": [
       "<Figure size 432x288 with 1 Axes>"
      ]
     },
     "metadata": {
      "needs_background": "light"
     },
     "output_type": "display_data"
    }
   ],
   "source": [
    "fig = plt.figure()\n",
    "axes = fig.add_axes([0, 0, 1, 1])"
   ]
  },
  {
   "cell_type": "markdown",
   "metadata": {},
   "source": [
    "Теперь в координатной плоскости можно разместить любую графическую информацию. Разместим гистограмму распределения суммы продаж. Добавим подписи осей абсцисс и ординат, заголовок диаграммы."
   ]
  },
  {
   "cell_type": "code",
   "execution_count": 68,
   "metadata": {},
   "outputs": [
    {
     "data": {
      "text/plain": [
       "Text(0, 0.5, 'Число сделок')"
      ]
     },
     "execution_count": 68,
     "metadata": {},
     "output_type": "execute_result"
    },
    {
     "data": {
      "image/png": "[encoded data removed]",
      "text/plain": [
       "<Figure size 432x288 with 1 Axes>"
      ]
     },
     "metadata": {
      "needs_background": "light"
     },
     "output_type": "display_data"
    }
   ],
   "source": [
    "fig=plt.figure()\n",
    "axes=fig.add_axes([0,0,1,1])\n",
    "axes.hist(df['total_bill'],bins=20,color='grey')\n",
    "axes.set_title('Сумма продаж')\n",
    "axes.set_xlabel('Сумма продаж')\n",
    "axes.set_ylabel('Число сделок')"
   ]
  },
  {
   "cell_type": "markdown",
   "metadata": {},
   "source": [
    "Вызов других методов объекта axis позволяет размещать на координатной плоскости другие типы диаграмм. Построим диаграмму разброса, отражающую связь между показателями валовой продажи и размером скидки."
   ]
  },
  {
   "cell_type": "code",
   "execution_count": 79,
   "metadata": {},
   "outputs": [
    {
     "data": {
      "text/plain": [
       "Text(0, 0.5, 'Discounts')"
      ]
     },
     "execution_count": 79,
     "metadata": {},
     "output_type": "execute_result"
    },
    {
     "data": {
      "image/png": "[encoded data removed]",
      "text/plain": [
       "<Figure size 432x288 with 1 Axes>"
      ]
     },
     "metadata": {
      "needs_background": "light"
     },
     "output_type": "display_data"
    }
   ],
   "source": [
    "fig=plt.figure()\n",
    "axes=fig.add_axes([0,0,1,1])\n",
    "axes.scatter(x=df['GrossSales'],y=df['Discounts'],marker='o')\n",
    "axes.set_title('Gross Sales Vs Discounts')\n",
    "axes.set_xlabel('Gross Sales')\n",
    "axes.set_ylabel('Discounts')"
   ]
  },
  {
   "cell_type": "markdown",
   "metadata": {},
   "source": [
    "### Задание 5\n",
    "\n",
    "Отметьте все варианты кода, в которых создаётся прямоугольная координатная плоскость, в которой высота больше ширины:\n",
    "- axes = fig.add_axes([0.2, 0.2, 0.5, 0.9])\n",
    "- axes = fig.add_axes([0, 0, 0.9, 0.5])\n",
    "- axes = fig.add_axes([0.1,0.1,1,2])\n",
    "- axes = fig.add_axes([2,0,0,2])"
   ]
  },
  {
   "cell_type": "markdown",
   "metadata": {},
   "source": [
    "### Задание 6\n",
    "\n",
    "<img src=\"./Img/img_sem_01.png\">\n",
    "\n",
    "По какому параметру отличаются два графика?\n",
    "- источник данных в датафрейме df\n",
    "- xlim\n",
    "- bins"
   ]
  },
  {
   "cell_type": "markdown",
   "metadata": {},
   "source": [
    "### Задание 7\n",
    "Какой метод следует использовать для создания датафрейма, содержащего информацию о минимальной и максимальной сумме (Sales) продаж по годам?\n",
    "- groupby()\n",
    "- value_counts()\n",
    "- sort_values()\n",
    "\n",
    "Напишите код, который выводит на экран эту информацию."
   ]
  },
  {
   "cell_type": "markdown",
   "metadata": {},
   "source": [
    "## 2.3. Использование нескольких систем координат"
   ]
  },
  {
   "cell_type": "code",
   "execution_count": 87,
   "metadata": {},
   "outputs": [
    {
     "data": {
      "image/png": "[encoded data removed]",
      "text/plain": [
       "<Figure size 432x288 with 2 Axes>"
      ]
     },
     "metadata": {
      "needs_background": "light"
     },
     "output_type": "display_data"
    }
   ],
   "source": [
    "fig=plt.figure()\n",
    "main_axes=fig.add_axes([0,0,1,1])\n",
    "insert_axes=fig.add_axes([0.6,0.6,0.38,0.38])"
   ]
  },
  {
   "cell_type": "markdown",
   "metadata": {},
   "source": [
    "### Создание вспомогательного графика\n",
    "\n",
    "Работу по размещению двух графиков в одном объекте начнём с создания вспомогательного датафрейма, содержащего информацию о медианной и максимальной прибыли в каждый месяц:"
   ]
  },
  {
   "cell_type": "code",
   "execution_count": 147,
   "metadata": {
    "scrolled": true
   },
   "outputs": [
    {
     "data": {
      "text/html": [
       "<div>\n",
       "<style scoped>\n",
       "    .dataframe tbody tr th:only-of-type {\n",
       "        vertical-align: middle;\n",
       "    }\n",
       "\n",
       "    .dataframe tbody tr th {\n",
       "        vertical-align: top;\n",
       "    }\n",
       "\n",
       "    .dataframe thead th {\n",
       "        text-align: right;\n",
       "    }\n",
       "</style>\n",
       "<table border=\"1\" class=\"dataframe\">\n",
       "  <thead>\n",
       "    <tr style=\"text-align: right;\">\n",
       "      <th></th>\n",
       "      <th>MonthNumber</th>\n",
       "      <th>mean</th>\n",
       "      <th>median</th>\n",
       "    </tr>\n",
       "  </thead>\n",
       "  <tbody>\n",
       "    <tr>\n",
       "      <th>0</th>\n",
       "      <td>1</td>\n",
       "      <td>23257.962286</td>\n",
       "      <td>13210.000</td>\n",
       "    </tr>\n",
       "    <tr>\n",
       "      <th>1</th>\n",
       "      <td>2</td>\n",
       "      <td>32815.639714</td>\n",
       "      <td>11106.100</td>\n",
       "    </tr>\n",
       "    <tr>\n",
       "      <th>2</th>\n",
       "      <td>3</td>\n",
       "      <td>19139.053429</td>\n",
       "      <td>8654.800</td>\n",
       "    </tr>\n",
       "    <tr>\n",
       "      <th>3</th>\n",
       "      <td>4</td>\n",
       "      <td>26570.987714</td>\n",
       "      <td>17577.000</td>\n",
       "    </tr>\n",
       "    <tr>\n",
       "      <th>4</th>\n",
       "      <td>5</td>\n",
       "      <td>23675.430286</td>\n",
       "      <td>7771.500</td>\n",
       "    </tr>\n",
       "    <tr>\n",
       "      <th>5</th>\n",
       "      <td>6</td>\n",
       "      <td>21053.626000</td>\n",
       "      <td>10890.000</td>\n",
       "    </tr>\n",
       "    <tr>\n",
       "      <th>6</th>\n",
       "      <td>7</td>\n",
       "      <td>26396.162286</td>\n",
       "      <td>6836.250</td>\n",
       "    </tr>\n",
       "    <tr>\n",
       "      <th>7</th>\n",
       "      <td>8</td>\n",
       "      <td>22601.897714</td>\n",
       "      <td>14105.000</td>\n",
       "    </tr>\n",
       "    <tr>\n",
       "      <th>8</th>\n",
       "      <td>9</td>\n",
       "      <td>25524.789571</td>\n",
       "      <td>11356.225</td>\n",
       "    </tr>\n",
       "    <tr>\n",
       "      <th>9</th>\n",
       "      <td>10</td>\n",
       "      <td>24569.864429</td>\n",
       "      <td>6731.840</td>\n",
       "    </tr>\n",
       "    <tr>\n",
       "      <th>10</th>\n",
       "      <td>11</td>\n",
       "      <td>19572.892857</td>\n",
       "      <td>10710.500</td>\n",
       "    </tr>\n",
       "    <tr>\n",
       "      <th>11</th>\n",
       "      <td>12</td>\n",
       "      <td>25879.333143</td>\n",
       "      <td>8993.000</td>\n",
       "    </tr>\n",
       "  </tbody>\n",
       "</table>\n",
       "</div>"
      ],
      "text/plain": [
       "    MonthNumber          mean     median\n",
       "0             1  23257.962286  13210.000\n",
       "1             2  32815.639714  11106.100\n",
       "2             3  19139.053429   8654.800\n",
       "3             4  26570.987714  17577.000\n",
       "4             5  23675.430286   7771.500\n",
       "5             6  21053.626000  10890.000\n",
       "6             7  26396.162286   6836.250\n",
       "7             8  22601.897714  14105.000\n",
       "8             9  25524.789571  11356.225\n",
       "9            10  24569.864429   6731.840\n",
       "10           11  19572.892857  10710.500\n",
       "11           12  25879.333143   8993.000"
      ]
     },
     "execution_count": 147,
     "metadata": {},
     "output_type": "execute_result"
    }
   ],
   "source": [
    "sales_per_month = df.groupby(by = 'MonthNumber')['Profit'].agg(['mean','median']).reset_index()\n",
    "sales_per_month"
   ]
  },
  {
   "cell_type": "markdown",
   "metadata": {},
   "source": [
    "К объекту main_axes применим метод hist, для объекта insert_axes используем метод bar."
   ]
  },
  {
   "cell_type": "code",
   "execution_count": 148,
   "metadata": {
    "scrolled": true
   },
   "outputs": [
    {
     "data": {
      "text/plain": [
       "<BarContainer object of 12 artists>"
      ]
     },
     "execution_count": 148,
     "metadata": {},
     "output_type": "execute_result"
    },
    {
     "data": {
      "image/png": "[encoded data removed]",
      "text/plain": [
       "<Figure size 432x288 with 2 Axes>"
      ]
     },
     "metadata": {
      "needs_background": "light"
     },
     "output_type": "display_data"
    }
   ],
   "source": [
    "fig=plt.figure()\n",
    "\n",
    "main_axes=fig.add_axes([0,0,1,1])\n",
    "main_axes.hist(df['Profit'])\n",
    "\n",
    "insert_axes=fig.add_axes([0.6,0.6,0.38,0.38])\n",
    "insert_axes.bar(x=sales_per_month['MonthNumber'],height=sales_per_month['mean'],color='lightblue')\n",
    "insert_axes.bar(x=sales_per_month['MonthNumber'],height=sales_per_month['median'],color='orange')"
   ]
  },
  {
   "cell_type": "markdown",
   "metadata": {},
   "source": [
    "Столбцы накладываются друг на друга"
   ]
  },
  {
   "cell_type": "code",
   "execution_count": 150,
   "metadata": {},
   "outputs": [
    {
     "data": {
      "text/plain": [
       "Text(0.5, 1.0, 'Среднее и медианное значения прибыли')"
      ]
     },
     "execution_count": 150,
     "metadata": {},
     "output_type": "execute_result"
    },
    {
     "data": {
      "image/png": "[encoded data removed]",
      "text/plain": [
       "<Figure size 432x288 with 2 Axes>"
      ]
     },
     "metadata": {
      "needs_background": "light"
     },
     "output_type": "display_data"
    }
   ],
   "source": [
    "fig=plt.figure()\n",
    "\n",
    "main_axes=fig.add_axes([0,0,1,1])\n",
    "main_axes.hist(df['Profit'])\n",
    "main_axes.set_title('Прибыль')\n",
    "\n",
    "insert_axes=fig.add_axes([0.5,0.5,0.38,0.38])\n",
    "insert_axes.bar(x=sales_per_month['MonthNumber'],height=sales_per_month['mean'],align='edge',width=-0.4,color='lightblue')\n",
    "insert_axes.bar(x=sales_per_month['MonthNumber'],height=sales_per_month['median'],align='edge',width=0.4,color='orange')\n",
    "insert_axes.set_xlabel('Месяц')\n",
    "insert_axes.set_ylabel('Прибыль')\n",
    "insert_axes.set_title('Среднее и медианное значения прибыли')"
   ]
  },
  {
   "cell_type": "markdown",
   "metadata": {},
   "source": [
    "### Задание 8\n",
    "Выберите правильный набор параметров, позволяющий разместить вспомогательную координатную плоскость так, как на рисунке:\n",
    "\n",
    "- insert_axes = fig.add_axes([0.5, 0.5, 0.5, 0.5])\n",
    "- insert_axes = fig.add_axes([0.2, 0.2, 0.6, 0.6])\n",
    "- insert_axes = fig.add_axes([0.6, 0.6, 0.2, 0.2]) "
   ]
  },
  {
   "cell_type": "code",
   "execution_count": 27,
   "metadata": {},
   "outputs": [
    {
     "data": {
      "image/png": "[encoded data removed]",
      "text/plain": [
       "<Figure size 432x288 with 2 Axes>"
      ]
     },
     "metadata": {
      "needs_background": "light"
     },
     "output_type": "display_data"
    }
   ],
   "source": [
    "fig=plt.figure()\n",
    "main_axes=fig.add_axes([0,0,1,1])\n",
    "ins_axes=fig.add_axes([0.2, 0.2, 0.6, 0.6])"
   ]
  },
  {
   "cell_type": "markdown",
   "metadata": {},
   "source": [
    "### Добавление легенды\n",
    "Легенда добавляется с помощью метода _legend_ объекта _axis_. Для корректного отображения легенды требуется парметр _label_. Место размещения легенды на координатной плоскости задается параметром _loc_.\n",
    "\n",
    "Чтобы легенда не перекрывала часть данных, устанавливаем максимальное значение оси ординат с помощью метода set_ylim() объекта axes."
   ]
  }
 ],
 "metadata": {
  "kernelspec": {
   "display_name": "Python 3",
   "language": "python",
   "name": "python3"
  },
  "language_info": {
   "codemirror_mode": {
    "name": "ipython",
    "version": 3
   },
   "file_extension": ".py",
   "mimetype": "text/x-python",
   "name": "python",
   "nbconvert_exporter": "python",
   "pygments_lexer": "ipython3",
   "version": "3.7.6"
  }
 },
 "nbformat": 4,
 "nbformat_minor": 4
}
