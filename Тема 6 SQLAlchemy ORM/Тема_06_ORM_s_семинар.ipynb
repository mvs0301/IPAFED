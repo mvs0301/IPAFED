{
 "cells": [
  {
   "cell_type": "markdown",
   "metadata": {},
   "source": [
    "<img src=..\\Img\\sci.png>\n",
    "\n",
    "### Финансовый университет\n",
    "\n",
    "##  Инструментальная поддержка анализа финансово-экономических данных\n",
    "\n",
    "## Тема 6. Работа с базами данных в Пайтон: объектно-реляционное сопоставление\n",
    "\n",
    "Семинар<br>\n",
    "22 мая 2021 года<br>\n",
    "Поток: ПМ18-1, ПМ18-2, ПМ18-3, ПМ18-4\n",
    "\n",
    "Преподаватель: Смирнов Михаил Викторович, доцент Департамента анализа данных и машинного обучения Финансового университета при Правительстве Российской Федерации. mvsmirnov@fa.ru\n",
    "\n",
    "Москва - 2021"
   ]
  },
  {
   "cell_type": "markdown",
   "metadata": {},
   "source": [
    "База данных Чайнук https://www.sqlitetutorial.net/sqlite-sample-database/\n",
    "\n",
    "<img src=\"./Img/Chinook.jpeg\" style=\"width:800px;height:460px\"/>"
   ]
  },
  {
   "cell_type": "markdown",
   "metadata": {},
   "source": [
    "# Задания\n",
    "\n",
    "Выполните задания с помощью методов SQL Alchemy ORM\n",
    "\n",
    "1. Создайте отображение БД Чайнук\n",
    "2. Создайте запрос, выводящий на печать имя, идентификатор и страну клиента для всех клиентов не из США.\n",
    "3. Создайте запрос, результатом которого являются счета (Invoices) бразильских покупателей. Результат должен содержать полное имя покапателя, идентификатор счета, дату оплаты и страну, указанную в счете."
   ]
  }
 ],
 "metadata": {
  "kernelspec": {
   "display_name": "Python 3",
   "language": "python",
   "name": "python3"
  },
  "language_info": {
   "codemirror_mode": {
    "name": "ipython",
    "version": 3
   },
   "file_extension": ".py",
   "mimetype": "text/x-python",
   "name": "python",
   "nbconvert_exporter": "python",
   "pygments_lexer": "ipython3",
   "version": "3.7.6"
  }
 },
 "nbformat": 4,
 "nbformat_minor": 4
}
