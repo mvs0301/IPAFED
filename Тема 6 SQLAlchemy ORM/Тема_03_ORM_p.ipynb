{
 "cells": [
  {
   "cell_type": "markdown",
   "metadata": {},
   "source": [
    "<img src=.\\Img\\sci.png>\n",
    "\n",
    "### Финансовый университет\n",
    "\n",
    "##  Инструментальная поддержка анализа финансово-экономических данных\n",
    "\n",
    "## Тема 6. Работа с базами данных в Пайтон: объектно-реляционное сопоставление\n",
    "\n",
    "Лекция<br>\n",
    "15 мая 2021 года<br>\n",
    "Поток: ПМ18-1, ПМ18-2, ПМ18-3, ПМ18-4\n",
    "\n",
    "Преподаватель: Смирнов Михаил Викторович, доцент Департамента анализа данных и машинного обучения Финансового университета при Правительстве Российской Федерации. mvsmirnov@fa.ru\n",
    "\n",
    "Москва - 2021\n",
    "\n",
    "При подготовке материалов учебных занятий использовались источники\n",
    "- Essential SQLAlchemy: Mapping Python to Databases 2nd Edition. Jason Myers, Rick Copeland. O'Reilly Media, Inc. 2015.\n",
    "- Астахова И.Ф., Мельников В.М., Толстобров А.П., Фертиков В.В. СУБД: язык SQL в примерах и задачах.—М.:ФИЗМАТЛИТ, 2009. — 168 с. — ISBN 978-5-9221-0816-4.\n",
    "\n",
    "В ряде учебных примеров использованы данные <a href=\"http://insideairbnb.com/get-the-data.html\">Inside Airbnb</a>\n",
    "    \n"
   ]
  },
  {
   "cell_type": "markdown",
   "metadata": {},
   "source": [
    "<a id=Ref></a>\n",
    "# Оглавление\n",
    "\n",
    "[Введение](#Intro)<br>\n",
    "[6.1. Определение таблиц через классы ORM](#T_3_1)<br>\n",
    "[6.2. Сеанс](#T_3_2)<br>\n",
    "[6.3. Вставка данных](#T_3_3)<br>\n",
    "[6.4. Запросы](#T_3_4)<br>\n",
    "[6.5. Отображение](#T_3_5)<br>\n",
    "[6.6. Сеанс](#T_3_6)<br>\n"
   ]
  },
  {
   "cell_type": "markdown",
   "metadata": {},
   "source": [
    "<a id=Intro></a>\n",
    "# Введение\n",
    "[<= ](#Ref)||[ К оглавлению ](#Ref)||[ =>](#T_3_1)\n",
    "\n",
    "ORM - Object-relational mapping - Объектно-реляционное сопоставление (отображение)\n",
    "\n",
    "SQLAlchemy ORM обеспечивает эффективный способ привязки схемы и операций базы данных к объектам данных.\n",
    "\n",
    "В SQLAlchemy Core мы создавали контейнер метаданных, а затем объявляли объект *Table*, связанный с этими метаданными. В SQLAlchemy ORM мы будем определять класс, который наследуется от специального базового класса *declarative_base*. Этот базовый класс объединяет контейнер метаданных и средство сопоставления, которое сопоставляет наш класс с таблицей базы данных. Он также сопоставляет экземпляры класса с записями в этой таблице."
   ]
  },
  {
   "cell_type": "markdown",
   "metadata": {},
   "source": [
    "<a id=T_3_1></a>\n",
    "[<= ](#Intro)||[ К оглавлению ](#Ref)||[ =>](#T_3_2)\n",
    "\n",
    "# 6.1. Определение таблиц через классы ORM\n",
    "\n",
    "ORM классы должны:\n",
    "- Происходить от класса *declarative_base*.\n",
    "- Содержать `__tablename__`, которое является именем таблицы базы данных.\n",
    "- Содержать один или несколько атрибутов, которые являются объектами *Column*.\n",
    "- Содержать атрибуты, составляющие первичный ключ.\n",
    "\n",
    "Изучим требование, связанное с атрибутами. Определение столбцов в классе ORM похоже на определение столбцов в объекте *Table*, которое мы изучили в теме SQLAlchemy Core. Однако есть важное отличие. При определении столбцов в классе ORM в качестве имени столбца будет установлено имя атрибута класса, которому он назначен. Все остальное, что связано с типами данных и столбцами, применимо и здесь.\n",
    "\n",
    "<img src=\"./Img/Listings_ORM_Schema.png\">\n",
    "\n",
    "<br><br>\n",
    "Определим таблицу *listings* как класс ORM"
   ]
  },
  {
   "cell_type": "code",
   "execution_count": 1,
   "metadata": {},
   "outputs": [],
   "source": [
    "from sqlalchemy.ext.declarative import declarative_base\n",
    "from sqlalchemy import (Table, Column, \n",
    "                        Integer, Numeric, String, Boolean,\n",
    "                        ForeignKey, ForeignKeyConstraint, CheckConstraint)\n",
    "\n",
    "from datetime import datetime\n",
    "from sqlalchemy import DateTime\n",
    "\n",
    "Base = declarative_base()"
   ]
  },
  {
   "cell_type": "code",
   "execution_count": 2,
   "metadata": {},
   "outputs": [],
   "source": [
    "class Listing(Base):\n",
    "    __tablename__ = 'listings'\n",
    "\n",
    "    listing_id = Column(Integer(), primary_key = True)\n",
    "    listing_name = Column(String(50), index = True, nullable = False)\n",
    "    listing_url = Column(String(50))\n",
    "    host_id = Column(Integer())\n",
    "    neighbourhood_id = Column(Integer())\n",
    "    amenities = Column(String(250))\n",
    "    property_type_id = Column(Integer())\n",
    "    room_type_id = Column(Integer())\n",
    "    bedrooms = Column(Integer())\n",
    "    beds = Column(Integer())\n",
    "    price = Column('price',Numeric(7,2))\n",
    "    \n",
    "    __table_args__ = (\n",
    "        ForeignKeyConstraint(['neighbourhood_id'],['neighbourhoods.neigh_id']),\n",
    "        ForeignKeyConstraint(['property_type_id'], ['property_types.property_type_id']),\n",
    "        ForeignKeyConstraint(['room_type_id'], ['room_types.room_type_id']),\n",
    "        CheckConstraint('price >= 0.00', name='listing_price_positive')\n",
    "    )\n",
    "    "
   ]
  },
  {
   "cell_type": "markdown",
   "metadata": {},
   "source": [
    "В этом примере *Base* - экземпляр класса *declarative_base()*. Затем создается дочерний класс *Listings*. Определяется имя таблицы 'listings'. Определяются атрибуты, устанавливается первичный ключ. Обратимся к свойству `__table__` класса."
   ]
  },
  {
   "cell_type": "code",
   "execution_count": 3,
   "metadata": {},
   "outputs": [
    {
     "data": {
      "text/plain": [
       "Table('listings', MetaData(bind=None), Column('listing_id', Integer(), table=<listings>, primary_key=True, nullable=False), Column('listing_name', String(length=50), table=<listings>, nullable=False), Column('listing_url', String(length=50), table=<listings>), Column('host_id', Integer(), table=<listings>), Column('neighbourhood_id', Integer(), ForeignKey('neighbourhoods.neigh_id'), table=<listings>), Column('amenities', String(length=250), table=<listings>), Column('property_type_id', Integer(), ForeignKey('property_types.property_type_id'), table=<listings>), Column('room_type_id', Integer(), ForeignKey('room_types.room_type_id'), table=<listings>), Column('bedrooms', Integer(), table=<listings>), Column('beds', Integer(), table=<listings>), Column('price', Numeric(precision=7, scale=2), table=<listings>), schema=None)"
      ]
     },
     "execution_count": 3,
     "metadata": {},
     "output_type": "execute_result"
    }
   ],
   "source": [
    "Listing.__table__"
   ]
  },
  {
   "cell_type": "markdown",
   "metadata": {},
   "source": [
    "Создадим класс для клиентов"
   ]
  },
  {
   "cell_type": "code",
   "execution_count": 4,
   "metadata": {},
   "outputs": [],
   "source": [
    "from datetime import datetime\n",
    "from sqlalchemy import DateTime\n",
    "\n",
    "class User(Base):\n",
    "    __tablename__ = 'users'\n",
    "    \n",
    "    user_id = Column(Integer(), primary_key = True)\n",
    "    username = Column(String(15), nullable = False, unique = True)\n",
    "    email_address = Column(String(255), nullable = False)\n",
    "    phone = Column(String(20), nullable = False)\n",
    "    password = Column(String(25), nullable = False)\n",
    "    created_on = Column(DateTime(), default = datetime.now)\n",
    "    updated_on = Column(DateTime(), default = datetime.now, onupdate=datetime.now)"
   ]
  },
  {
   "cell_type": "markdown",
   "metadata": {},
   "source": [
    "Здесь мы определили несколько атрибутов, которые не могут оставаться пустыми. Требуется уникальное значение *username*. Для атрибута *updated_on* мы установили текущее время по умолчанию, если время не указано. Использование *onupdate* приведет к установке текущего времени при обновлении любого атрибута записи."
   ]
  },
  {
   "cell_type": "markdown",
   "metadata": {},
   "source": [
    "## 6.1.1. Ключи, ограничения, индексы\n",
    "\n",
    "Ранее, в разделе *Core*, мы изучили, что ключи и ограничения могут задаваться как в составе элемента *Column()* конструктора *Table*, так и в явном виде. Например, в *line_items* атрибут *order_id* является внешним ключом, тода\n",
    "\n",
    "`ForeignKeyConstraint(['order_id'], ['order.order_id'])`. \n",
    "\n",
    "В ORM также существует для этого два способа, но так как конструктор *Table* здесь не используется, то применяются свойства класса. \n",
    "\n",
    "```\n",
    "user_id = Column(Integer(), ForeignKey('users.user_id'))\n",
    "```\n",
    "\n",
    "Для задания ограничения в явном виде в классе используется `__table_args__`\n",
    "\n",
    "```\n",
    "class SomeDataClass(Base):\n",
    "    __tablename__ = 'somedatatable'\n",
    "    __table_args__ = (ForeignKeyConstraint(['id'], ['other_table.id']),\n",
    "                      CheckConstraint(price >= 0.00', name='unit_cost_positive'))\n",
    "```\n",
    "В данном примере значением `__table_args__` является кортеж.\n",
    "\n",
    "### Задание 6.1.1.1.\n",
    "Создать классы *Order, Line_item, Host, Neighbourhood, Room_type, Property_type*. Создать базу данных *Listings.db*"
   ]
  },
  {
   "cell_type": "code",
   "execution_count": 5,
   "metadata": {},
   "outputs": [],
   "source": [
    "# Ваш код здесь\n"
   ]
  },
  {
   "cell_type": "code",
   "execution_count": 6,
   "metadata": {},
   "outputs": [],
   "source": [
    "class Order(Base):\n",
    "\n",
    "    __tablename__ = 'orders'\n",
    "    order_id = Column(Integer(), primary_key = True)\n",
    "    user_id = Column(Integer())\n",
    "    \n",
    "    __table_args__ = (ForeignKeyConstraint(['user_id'], ['users.user_id']),)"
   ]
  },
  {
   "cell_type": "code",
   "execution_count": 7,
   "metadata": {},
   "outputs": [
    {
     "data": {
      "text/plain": [
       "Table('orders', MetaData(bind=None), Column('order_id', Integer(), table=<orders>, primary_key=True, nullable=False), Column('user_id', Integer(), ForeignKey('users.user_id'), table=<orders>), schema=None)"
      ]
     },
     "execution_count": 7,
     "metadata": {},
     "output_type": "execute_result"
    }
   ],
   "source": [
    "Order.__table__"
   ]
  },
  {
   "cell_type": "code",
   "execution_count": 8,
   "metadata": {},
   "outputs": [],
   "source": [
    "class Line_item(Base):\n",
    "    \n",
    "    __tablename__ = 'line_items'\n",
    "    item_id = Column(Integer(), primary_key = True)\n",
    "    order_id = Column(Integer(), ForeignKey('orders.order_id'))\n",
    "    listing_id = Column(Integer(), ForeignKey('listings.listing_id'))\n",
    "    item_start_date = Column(DateTime(), nullable = False, default = datetime.now)\n",
    "    item_end_date = Column('item_end_date', DateTime(), nullable = False)"
   ]
  },
  {
   "cell_type": "code",
   "execution_count": 9,
   "metadata": {},
   "outputs": [
    {
     "data": {
      "text/plain": [
       "Table('line_items', MetaData(bind=None), Column('item_id', Integer(), table=<line_items>, primary_key=True, nullable=False), Column('order_id', Integer(), ForeignKey('orders.order_id'), table=<line_items>), Column('listing_id', Integer(), ForeignKey('listings.listing_id'), table=<line_items>), Column('item_start_date', DateTime(), table=<line_items>, nullable=False, default=ColumnDefault(<function datetime.now at 0x000001E4A72E30D8>)), Column('item_end_date', DateTime(), table=<line_items>, nullable=False), schema=None)"
      ]
     },
     "execution_count": 9,
     "metadata": {},
     "output_type": "execute_result"
    }
   ],
   "source": [
    "Line_item.__table__"
   ]
  },
  {
   "cell_type": "code",
   "execution_count": 10,
   "metadata": {},
   "outputs": [],
   "source": [
    "class Host(Base):\n",
    "    \n",
    "    __tablename__ = 'hosts'\n",
    "    host_id = Column(Integer(), primary_key = True)\n",
    "    host_name = Column(String(50), nullable = False)"
   ]
  },
  {
   "cell_type": "code",
   "execution_count": 11,
   "metadata": {},
   "outputs": [],
   "source": [
    "class Neighbourhood(Base):\n",
    "    \n",
    "    __tablename__ = 'neighbourhoods'\n",
    "    neigh_id = Column(Integer(), primary_key = True)\n",
    "    neigh_name = Column(String(50), nullable = False, unique = True)"
   ]
  },
  {
   "cell_type": "code",
   "execution_count": 12,
   "metadata": {},
   "outputs": [],
   "source": [
    "class Room_type(Base):\n",
    "    \n",
    "    __tablename__ = 'room_types'\n",
    "    room_type_id = Column(Integer(), primary_key = True)\n",
    "    room_type_name = Column(String(50), nullable = False)"
   ]
  },
  {
   "cell_type": "code",
   "execution_count": 13,
   "metadata": {},
   "outputs": [],
   "source": [
    "class Property_type(Base):\n",
    "    \n",
    "    __tablename__ = 'property_types'\n",
    "    property_type_id = Column(Integer(), primary_key = True)\n",
    "    property_type_name = Column(String(50), nullable = False)"
   ]
  },
  {
   "cell_type": "markdown",
   "metadata": {},
   "source": [
    "## 6.1.2. Сохранение схемы"
   ]
  },
  {
   "cell_type": "code",
   "execution_count": 14,
   "metadata": {},
   "outputs": [],
   "source": [
    "from sqlalchemy import create_engine\n",
    "engine = create_engine('sqlite:///:memory:') # a) В памяти\n",
    "#engine = create_engine('sqlite:///Listings.db') # b) На диске\n",
    "\n",
    "Base.metadata.create_all(engine)"
   ]
  },
  {
   "cell_type": "markdown",
   "metadata": {},
   "source": [
    "## 6.1.3. Связи\n",
    "В *ORM* имеются некоторые различия при связывании таблиц по сравнению с *Core*. *ORM* также использует *ForeignKey* для ограничения и связывания объектов. Однако *ORM* использует директиву *relationship* чтобы предоставить свойство доступа к связанному объекту. Это добавляет некоторые накладные расходы при использовании *ORM*; однако плюсы перевешивают недостатки. В примере показано, как определить связи с помощью методов *relationship* и *backref*.\n",
    "```\n",
    "from sqlalchemy.orm import relationship, backref\n",
    "\n",
    "class Orders(Base):\n",
    "    __tablename__='orders'\n",
    "    order_id=Column(Integer(), primary_key=True)\n",
    "    user_id=Column(Integer(), ForeignKey('users.user_id'))\n",
    "\n",
    "    User=relationship('Users', backref=backref('orders', order_by=order_id))\n",
    "```\n",
    "Таким образом, в классе *Orders*, устанавливается отношение «один ко многим» с классом *Users*. Мы можем связать пользователя с его заказом, обратившись к свойству *user*. Это отношение также устанавливает свойство *orders* в классе *Users* через аргумент ключевого слова *backref*, которое упорядочивается по *order_id*. Директиве *relationship* требуется целевой класс для отношения, и она может дополнительно включать обратное отношение для целевого класса. *SQLAlchemy* знает, как сопоставить заданный нами *ForeignKey* с классом, который мы определили в отношении. В этом примере команда `ForeignKey(users.user_id)` сопоставляется с классом *User* через атрибут `__tablename__` пользователей и формирует связь. В строке \n",
    "```\n",
    "User=relationship('Users', backref=backref('orders', order_by=order_id))\n",
    "```\n",
    "устанавливается связь *один ко многим*.\n",
    "\n",
    "Также возможно установить взаимно-однозначное отношение *один к одному*. В следующем примере класс *Line_items* имеет взаимно-однозначное отношение с классом *Listings*. Аргумент ключевого слова `uselist = False` определяет его как взаимно однозначное отношение. Здесь используется более простая обратная ссылка, поскольку нам не нужно контролировать порядок.\n",
    "```\n",
    "class Line_items(Base):\n",
    "    \n",
    "    __tablename__='line_items'\n",
    "    item_id=Column(Integer(), primary_key=True)\n",
    "    order_id=Column(Integer(), ForeignKey('orders.order_id'))\n",
    "    listing_id=Column(Integer(), ForeignKey('listings.listing_id'))\n",
    "    item_start_date=Column(DateTime(), nullable=False, default=datetime.now)\n",
    "    item_end_date=Column('item_end_date', DateTime(), nullable=False)\n",
    "    \n",
    "    Order=relationship(\"Orders\", backref=backref('line_items', order_by=line_item_id))\n",
    "    Listing=relationship(\"Listings\", uselist=False))\n",
    "```"
   ]
  },
  {
   "cell_type": "markdown",
   "metadata": {},
   "source": [
    "<a id=T_3_2></a>\n",
    "[<= ](#T_3_1)||[ К оглавлению ](#Ref)||[ =>](#T_3_3)\n",
    "# 6.2. Сеанс\n",
    "\n",
    "Сеанс - это способ взаимодействия ORM SQLAlchemy с базой данных. Он \"обертывает\" соединение с базой данных через механизм и предоставляет карту идентификации для объектов, которые вы загружаете через сеанс или связываете с сеансом. Карта идентификации - это структура данных, подобная кешу, которая содержит уникальный список объектов, определяемый таблицей объекта и первичным ключом. Сеанс также \"обертывает\" транзакцию, и эта транзакция будет открыта до тех пор, пока сеанс не будет зафиксирован или не пройзойдет откат, что очень похоже на процесс, описанный в теме *Core*.\n",
    "\n",
    "Для нового сеанса SQLAlchemy предоставляет класс *sessionmaker*, чтобы гарантировать, что сеансы могут быть созданы с одинаковыми параметрами во всем приложении. SQLAlchemy делает это путем создания класса сеанса (Session), который настроен в соответствии с аргументами, переданными в класс *sessionmaker*, который следует использовать только один раз в глобальной области действия приложения и рассматривать как параметр конфигурации. Создадим новый сеанс, связанный с базой данных SQLite в памяти:"
   ]
  },
  {
   "cell_type": "code",
   "execution_count": 1,
   "metadata": {},
   "outputs": [],
   "source": [
    "from sqlalchemy import create_engine\n",
    "from sqlalchemy.orm import sessionmaker # 1 \n",
    "\n",
    "#engine = create_engine('sqlite:///:memory:') # 2a\n",
    "engine = create_engine('sqlite:///Listings.db') # 2b\n",
    "\n",
    "Session = sessionmaker(bind=engine) # 3\n",
    "\n",
    "session = Session() # 4"
   ]
  },
  {
   "cell_type": "markdown",
   "metadata": {},
   "source": [
    "1. Импорт модуля создания сеанса *sessionmaker*.\n",
    "2. База данных SQLite a) в памяти, b) на диске.\n",
    "3. Определение класса сеанса с привязкой к механизму.\n",
    "4. Создание сеанса.\n",
    "\n",
    "Теперь у нас есть сеанс, который мы можем использовать для взаимодействия с базой данных. Определим классы таблиц базы данных. Дополнительно добавим методы `__repr__`, чтобы упростить просмотр и воссоздание экземпляров объектов."
   ]
  },
  {
   "cell_type": "code",
   "execution_count": 2,
   "metadata": {},
   "outputs": [],
   "source": [
    "from datetime import datetime\n",
    "\n",
    "from sqlalchemy import (Table, Column, \n",
    "                        Integer, Numeric, String, Boolean, DateTime,\n",
    "                        ForeignKey, ForeignKeyConstraint, CheckConstraint)\n",
    "\n",
    "from sqlalchemy.ext.declarative import declarative_base\n",
    "from sqlalchemy.orm import relationship, backref\n",
    "\n",
    "Base = declarative_base()\n",
    "\n",
    "\n",
    "class User(Base):\n",
    "    __tablename__ = 'users'\n",
    "    \n",
    "    user_id = Column(Integer(), primary_key = True)\n",
    "    username = Column(String(15), nullable = False, unique = True)\n",
    "    email_address = Column(String(255), nullable = False)\n",
    "    phone = Column(String(20), nullable = False)\n",
    "    password = Column(String(25), nullable = False)\n",
    "    created_on = Column(DateTime(), default = datetime.now)\n",
    "    updated_on = Column(DateTime(), default = datetime.now, onupdate = datetime.now)\n",
    "\n",
    "    def __repr__(self):\n",
    "        return \"User(username='{self.username}', \" \\\n",
    "                     \"email_address='{self.email_address}', \" \\\n",
    "                     \"phone='{self.phone}', \" \\\n",
    "                     \"password='{self.password}')\".format(self=self)\n",
    "\n",
    "    \n",
    "class Order(Base):\n",
    "\n",
    "    __tablename__ = 'orders'\n",
    "    order_id = Column(Integer(), primary_key = True)\n",
    "    user_id = Column(Integer())\n",
    "    created_on = Column(DateTime(), default = datetime.now)\n",
    "    \n",
    "    __table_args__ = (ForeignKeyConstraint(['user_id'], ['users.user_id']),)\n",
    "    \n",
    "    User=relationship(\"User\", backref=backref('orders', order_by=order_id))\n",
    "    \n",
    "    def __repr__(self):\n",
    "        return \"Order(user_id='{self.user_id}', \" \\\n",
    "                    \"user_id='{self.user_id}', \" \\\n",
    "                    \"created_on='{self.created_on}')\".format(self=self)\n",
    "    \n",
    "\n",
    "class Line_item(Base):\n",
    "    \n",
    "    __tablename__ = 'line_items'\n",
    "    item_id = Column(Integer(), primary_key = True)\n",
    "    order_id = Column(Integer(), ForeignKey('orders.order_id'))\n",
    "    listing_id = Column(Integer(), ForeignKey('listings.listing_id'))\n",
    "    item_start_date = Column(DateTime(), nullable = False, default = datetime.now)\n",
    "    item_end_date = Column('item_end_date', DateTime(), nullable = False)\n",
    "    \n",
    "    Order=relationship(\"Order\", backref=backref('line_items', order_by=item_id))\n",
    "    Listing=relationship(\"Listing\", uselist=False)\n",
    "    \n",
    "    def __repr__(self):\n",
    "        return \"Line_item(order_id='{self.order_id}', \" \\\n",
    "                        \"listing_id='{self.listing_id}', \" \\\n",
    "                        \"item_start_date='{self.item_start_date}', \" \\\n",
    "                        \"item_end_date='{self.item_end_date}')\".format(self=self)\n",
    "\n",
    "\n",
    "class Host(Base):\n",
    "    \n",
    "    __tablename__ = 'hosts'\n",
    "    host_id = Column(Integer(), primary_key = True)\n",
    "    host_name = Column(String(50), nullable = False)\n",
    "    def __repr__(self):\n",
    "        return \"Host(host_id='{self.host_name}')\".format(self=self)\n",
    "    \n",
    "    \n",
    "class Neighbourhood(Base):\n",
    "    \n",
    "    __tablename__ = 'neighbourhoods'\n",
    "    neigh_id = Column(Integer(), primary_key = True)\n",
    "    neigh_name = Column(String(50), nullable = False, unique = True)\n",
    "    def __repr__(self):\n",
    "        return \"Neighbourhood(neigh_name='{self.neigh_name}')\".format(self=self)\n",
    "    \n",
    "    \n",
    "class Room_type(Base):\n",
    "    \n",
    "    __tablename__ = 'room_types'\n",
    "    room_type_id = Column(Integer(), primary_key = True)\n",
    "    room_type_name = Column(String(50), nullable = False)\n",
    "    def __repr__(self):\n",
    "        return \"Room_type(room_type_name='{self.room_type_name}')\".format(self=self)"
   ]
  },
  {
   "cell_type": "markdown",
   "metadata": {},
   "source": [
    "### Задание 6.2.1.\n",
    "\n",
    "Создайте класс *Property_type* для справочника типов собственности *property_types*"
   ]
  },
  {
   "cell_type": "code",
   "execution_count": 3,
   "metadata": {},
   "outputs": [],
   "source": [
    "# Ваш код здесь\n"
   ]
  },
  {
   "cell_type": "code",
   "execution_count": 4,
   "metadata": {},
   "outputs": [],
   "source": [
    "class Property_type(Base):\n",
    "    \n",
    "    __tablename__ = 'property_types'\n",
    "    property_type_id = Column(Integer(), primary_key = True)\n",
    "    property_type_name = Column(String(50), nullable = False)\n",
    "    def __repr__(self):\n",
    "        return \"Property_type(property_type_name='{self.property_type_name}')\".format(self=self)"
   ]
  },
  {
   "cell_type": "markdown",
   "metadata": {},
   "source": [
    "### Задание 6.2.2.\n",
    "Создайте класс *Listing* с отношениями к классам *Host, Neighbourhood, Room_type, Property_type, Line_item* и методами `__repr__`"
   ]
  },
  {
   "cell_type": "code",
   "execution_count": 5,
   "metadata": {},
   "outputs": [],
   "source": [
    "# Ваш код здесь\n"
   ]
  },
  {
   "cell_type": "code",
   "execution_count": 6,
   "metadata": {},
   "outputs": [],
   "source": [
    "class Listing(Base):\n",
    "    __tablename__ = 'listings'\n",
    "\n",
    "    listing_id = Column(Integer(), primary_key = True)\n",
    "    listing_name = Column(String(50), index = True, nullable = False)\n",
    "    listing_url = Column(String(50))\n",
    "    host_id = Column(Integer())\n",
    "    neighbourhood_id = Column(Integer())\n",
    "    amenities = Column(String(250))\n",
    "    property_type_id = Column(Integer())\n",
    "    room_type_id = Column(Integer())\n",
    "    bedrooms = Column(Integer())\n",
    "    beds = Column(Integer())\n",
    "    price = Column('price',Numeric(7,2))\n",
    "    \n",
    "    __table_args__ = (\n",
    "        ForeignKeyConstraint(['neighbourhood_id'],['neighbourhoods.neigh_id']),\n",
    "        ForeignKeyConstraint(['property_type_id'], ['property_types.property_type_id']),\n",
    "        ForeignKeyConstraint(['room_type_id'], ['room_types.room_type_id']),\n",
    "        ForeignKeyConstraint(['host_id'], ['hosts.host_id']),\n",
    "        CheckConstraint('price >= 0.00', name='listing_price_positive')\n",
    "    )\n",
    "    \n",
    "    Host=relationship('Host', backref=backref('listings', order_by=listing_id))\n",
    "    Neighbourhood=relationship('Neighbourhood', backref=backref('listings', order_by=listing_id))\n",
    "    Property_type=relationship('Property_type', backref=backref('listings', order_by=listing_id))\n",
    "    Room_type=relationship('Room_type', backref=backref('listings', order_by=listing_id))\n",
    "\n",
    "    \n",
    "    def __repr__(self):\n",
    "        return \"Listing(listing_name='{self.listing_name}', \" \\\n",
    "                       \"listing_url='{self.listing_url}', \" \\\n",
    "                       \"amenities='{self.amenities}', \" \\\n",
    "                       \"bedrooms='{self.bedrooms}', \" \\\n",
    "                       \"price='{self.price}')\".format(self=self)"
   ]
  },
  {
   "cell_type": "code",
   "execution_count": 7,
   "metadata": {},
   "outputs": [],
   "source": [
    "Base.metadata.create_all(engine)"
   ]
  },
  {
   "cell_type": "markdown",
   "metadata": {},
   "source": [
    "<a id=T_3_3></a>\n",
    "[<= ](#T_3_2)||[ К оглавлению ](#Ref)||[ =>](#T_3_4)\n",
    "\n",
    "# 6.3. Вставка данных"
   ]
  },
  {
   "cell_type": "code",
   "execution_count": 8,
   "metadata": {},
   "outputs": [],
   "source": [
    "import pandas as pd"
   ]
  },
  {
   "cell_type": "code",
   "execution_count": 9,
   "metadata": {
    "scrolled": true
   },
   "outputs": [
    {
     "data": {
      "text/html": [
       "<div>\n",
       "<style scoped>\n",
       "    .dataframe tbody tr th:only-of-type {\n",
       "        vertical-align: middle;\n",
       "    }\n",
       "\n",
       "    .dataframe tbody tr th {\n",
       "        vertical-align: top;\n",
       "    }\n",
       "\n",
       "    .dataframe thead th {\n",
       "        text-align: right;\n",
       "    }\n",
       "</style>\n",
       "<table border=\"1\" class=\"dataframe\">\n",
       "  <thead>\n",
       "    <tr style=\"text-align: right;\">\n",
       "      <th></th>\n",
       "      <th>id</th>\n",
       "      <th>listing_url</th>\n",
       "      <th>name</th>\n",
       "      <th>host_id</th>\n",
       "      <th>host_name</th>\n",
       "      <th>host_is_superhost</th>\n",
       "      <th>neighbourhood_cleansed</th>\n",
       "      <th>property_type</th>\n",
       "      <th>room_type</th>\n",
       "      <th>bathrooms_text</th>\n",
       "      <th>...</th>\n",
       "      <th>first_review</th>\n",
       "      <th>last_review</th>\n",
       "      <th>review_scores_rating</th>\n",
       "      <th>review_scores_accuracy</th>\n",
       "      <th>review_scores_cleanliness</th>\n",
       "      <th>review_scores_checkin</th>\n",
       "      <th>review_scores_communication</th>\n",
       "      <th>review_scores_location</th>\n",
       "      <th>review_scores_value</th>\n",
       "      <th>reviews_per_month</th>\n",
       "    </tr>\n",
       "  </thead>\n",
       "  <tbody>\n",
       "    <tr>\n",
       "      <th>0</th>\n",
       "      <td>20168</td>\n",
       "      <td>https://www.airbnb.com/rooms/20168</td>\n",
       "      <td>Studio with private bathroom in the centre 1</td>\n",
       "      <td>59484</td>\n",
       "      <td>Alexander</td>\n",
       "      <td>f</td>\n",
       "      <td>Centrum-Oost</td>\n",
       "      <td>Private room in townhouse</td>\n",
       "      <td>Private room</td>\n",
       "      <td>1 private bath</td>\n",
       "      <td>...</td>\n",
       "      <td>2010-03-02</td>\n",
       "      <td>2020-04-09</td>\n",
       "      <td>89</td>\n",
       "      <td>10.0</td>\n",
       "      <td>10.0</td>\n",
       "      <td>10.0</td>\n",
       "      <td>10.0</td>\n",
       "      <td>10.0</td>\n",
       "      <td>9.0</td>\n",
       "      <td>2.58</td>\n",
       "    </tr>\n",
       "  </tbody>\n",
       "</table>\n",
       "<p>1 rows × 25 columns</p>\n",
       "</div>"
      ],
      "text/plain": [
       "      id                         listing_url  \\\n",
       "0  20168  https://www.airbnb.com/rooms/20168   \n",
       "\n",
       "                                           name  host_id  host_name  \\\n",
       "0  Studio with private bathroom in the centre 1    59484  Alexander   \n",
       "\n",
       "  host_is_superhost neighbourhood_cleansed              property_type  \\\n",
       "0                 f           Centrum-Oost  Private room in townhouse   \n",
       "\n",
       "      room_type  bathrooms_text  ...  first_review  last_review  \\\n",
       "0  Private room  1 private bath  ...    2010-03-02   2020-04-09   \n",
       "\n",
       "  review_scores_rating  review_scores_accuracy  review_scores_cleanliness  \\\n",
       "0                   89                    10.0                       10.0   \n",
       "\n",
       "  review_scores_checkin review_scores_communication  review_scores_location  \\\n",
       "0                  10.0                        10.0                    10.0   \n",
       "\n",
       "   review_scores_value  reviews_per_month  \n",
       "0                  9.0               2.58  \n",
       "\n",
       "[1 rows x 25 columns]"
      ]
     },
     "execution_count": 9,
     "metadata": {},
     "output_type": "execute_result"
    }
   ],
   "source": [
    "df = pd.read_csv('./Data/ListingsAm.csv', sep=\";\")\n",
    "df.head(1)"
   ]
  },
  {
   "cell_type": "code",
   "execution_count": 10,
   "metadata": {
    "scrolled": false
   },
   "outputs": [
    {
     "name": "stdout",
     "output_type": "stream",
     "text": [
      "<class 'pandas.core.frame.DataFrame'>\n",
      "RangeIndex: 3535 entries, 0 to 3534\n",
      "Data columns (total 25 columns):\n",
      " #   Column                       Non-Null Count  Dtype  \n",
      "---  ------                       --------------  -----  \n",
      " 0   id                           3535 non-null   int64  \n",
      " 1   listing_url                  3535 non-null   object \n",
      " 2   name                         3532 non-null   object \n",
      " 3   host_id                      3535 non-null   int64  \n",
      " 4   host_name                    3535 non-null   object \n",
      " 5   host_is_superhost            3535 non-null   object \n",
      " 6   neighbourhood_cleansed       3535 non-null   object \n",
      " 7   property_type                3535 non-null   object \n",
      " 8   room_type                    3535 non-null   object \n",
      " 9   bathrooms_text               3534 non-null   object \n",
      " 10  bedrooms                     3366 non-null   float64\n",
      " 11  beds                         3532 non-null   float64\n",
      " 12  amenities                    3535 non-null   object \n",
      " 13  price                        3535 non-null   float64\n",
      " 14  number_of_reviews            3535 non-null   int64  \n",
      " 15  first_review                 3535 non-null   object \n",
      " 16  last_review                  3535 non-null   object \n",
      " 17  review_scores_rating         3535 non-null   int64  \n",
      " 18  review_scores_accuracy       3534 non-null   float64\n",
      " 19  review_scores_cleanliness    3534 non-null   float64\n",
      " 20  review_scores_checkin        3534 non-null   float64\n",
      " 21  review_scores_communication  3535 non-null   float64\n",
      " 22  review_scores_location       3535 non-null   float64\n",
      " 23  review_scores_value          3535 non-null   float64\n",
      " 24  reviews_per_month            3535 non-null   float64\n",
      "dtypes: float64(10), int64(4), object(11)\n",
      "memory usage: 690.6+ KB\n"
     ]
    }
   ],
   "source": [
    "df.info()"
   ]
  },
  {
   "cell_type": "markdown",
   "metadata": {},
   "source": [
    "В наборе имеется несколько строк с пустыми названиями объектов. Включение таких объектов в базу данных запрещено, так как установлено ограничение - запрет на пустое название объекта. Удалим такие строки. Сначала распечатаем их."
   ]
  },
  {
   "cell_type": "code",
   "execution_count": 11,
   "metadata": {
    "scrolled": false
   },
   "outputs": [
    {
     "data": {
      "text/html": [
       "<div>\n",
       "<style scoped>\n",
       "    .dataframe tbody tr th:only-of-type {\n",
       "        vertical-align: middle;\n",
       "    }\n",
       "\n",
       "    .dataframe tbody tr th {\n",
       "        vertical-align: top;\n",
       "    }\n",
       "\n",
       "    .dataframe thead th {\n",
       "        text-align: right;\n",
       "    }\n",
       "</style>\n",
       "<table border=\"1\" class=\"dataframe\">\n",
       "  <thead>\n",
       "    <tr style=\"text-align: right;\">\n",
       "      <th></th>\n",
       "      <th>id</th>\n",
       "      <th>listing_url</th>\n",
       "      <th>name</th>\n",
       "      <th>host_id</th>\n",
       "      <th>host_name</th>\n",
       "      <th>host_is_superhost</th>\n",
       "      <th>neighbourhood_cleansed</th>\n",
       "      <th>property_type</th>\n",
       "      <th>room_type</th>\n",
       "      <th>bathrooms_text</th>\n",
       "      <th>...</th>\n",
       "      <th>first_review</th>\n",
       "      <th>last_review</th>\n",
       "      <th>review_scores_rating</th>\n",
       "      <th>review_scores_accuracy</th>\n",
       "      <th>review_scores_cleanliness</th>\n",
       "      <th>review_scores_checkin</th>\n",
       "      <th>review_scores_communication</th>\n",
       "      <th>review_scores_location</th>\n",
       "      <th>review_scores_value</th>\n",
       "      <th>reviews_per_month</th>\n",
       "    </tr>\n",
       "  </thead>\n",
       "  <tbody>\n",
       "    <tr>\n",
       "      <th>833</th>\n",
       "      <td>6893255</td>\n",
       "      <td>https://www.airbnb.com/rooms/6893255</td>\n",
       "      <td>NaN</td>\n",
       "      <td>4223835</td>\n",
       "      <td>Tosca</td>\n",
       "      <td>f</td>\n",
       "      <td>De Baarsjes - Oud-West</td>\n",
       "      <td>Entire condominium</td>\n",
       "      <td>Entire home/apt</td>\n",
       "      <td>1 bath</td>\n",
       "      <td>...</td>\n",
       "      <td>2015-06-21</td>\n",
       "      <td>2019-12-30</td>\n",
       "      <td>94</td>\n",
       "      <td>10.0</td>\n",
       "      <td>9.0</td>\n",
       "      <td>9.0</td>\n",
       "      <td>9.0</td>\n",
       "      <td>9.0</td>\n",
       "      <td>9.0</td>\n",
       "      <td>0.27</td>\n",
       "    </tr>\n",
       "    <tr>\n",
       "      <th>905</th>\n",
       "      <td>7452777</td>\n",
       "      <td>https://www.airbnb.com/rooms/7452777</td>\n",
       "      <td>NaN</td>\n",
       "      <td>13561102</td>\n",
       "      <td>Eva</td>\n",
       "      <td>f</td>\n",
       "      <td>De Baarsjes - Oud-West</td>\n",
       "      <td>Entire apartment</td>\n",
       "      <td>Entire home/apt</td>\n",
       "      <td>1 bath</td>\n",
       "      <td>...</td>\n",
       "      <td>2015-08-03</td>\n",
       "      <td>2016-09-26</td>\n",
       "      <td>97</td>\n",
       "      <td>10.0</td>\n",
       "      <td>10.0</td>\n",
       "      <td>10.0</td>\n",
       "      <td>10.0</td>\n",
       "      <td>9.0</td>\n",
       "      <td>9.0</td>\n",
       "      <td>0.11</td>\n",
       "    </tr>\n",
       "    <tr>\n",
       "      <th>1320</th>\n",
       "      <td>12200500</td>\n",
       "      <td>https://www.airbnb.com/rooms/12200500</td>\n",
       "      <td>NaN</td>\n",
       "      <td>65597646</td>\n",
       "      <td>Yasmine</td>\n",
       "      <td>f</td>\n",
       "      <td>De Pijp - Rivierenbuurt</td>\n",
       "      <td>Entire apartment</td>\n",
       "      <td>Entire home/apt</td>\n",
       "      <td>1 bath</td>\n",
       "      <td>...</td>\n",
       "      <td>2016-05-29</td>\n",
       "      <td>2017-06-18</td>\n",
       "      <td>100</td>\n",
       "      <td>10.0</td>\n",
       "      <td>10.0</td>\n",
       "      <td>10.0</td>\n",
       "      <td>9.0</td>\n",
       "      <td>10.0</td>\n",
       "      <td>9.0</td>\n",
       "      <td>0.11</td>\n",
       "    </tr>\n",
       "  </tbody>\n",
       "</table>\n",
       "<p>3 rows × 25 columns</p>\n",
       "</div>"
      ],
      "text/plain": [
       "            id                            listing_url name   host_id  \\\n",
       "833    6893255   https://www.airbnb.com/rooms/6893255  NaN   4223835   \n",
       "905    7452777   https://www.airbnb.com/rooms/7452777  NaN  13561102   \n",
       "1320  12200500  https://www.airbnb.com/rooms/12200500  NaN  65597646   \n",
       "\n",
       "     host_name host_is_superhost   neighbourhood_cleansed       property_type  \\\n",
       "833      Tosca                 f   De Baarsjes - Oud-West  Entire condominium   \n",
       "905        Eva                 f   De Baarsjes - Oud-West    Entire apartment   \n",
       "1320   Yasmine                 f  De Pijp - Rivierenbuurt    Entire apartment   \n",
       "\n",
       "            room_type bathrooms_text  ...  first_review  last_review  \\\n",
       "833   Entire home/apt         1 bath  ...    2015-06-21   2019-12-30   \n",
       "905   Entire home/apt         1 bath  ...    2015-08-03   2016-09-26   \n",
       "1320  Entire home/apt         1 bath  ...    2016-05-29   2017-06-18   \n",
       "\n",
       "     review_scores_rating  review_scores_accuracy  review_scores_cleanliness  \\\n",
       "833                    94                    10.0                        9.0   \n",
       "905                    97                    10.0                       10.0   \n",
       "1320                  100                    10.0                       10.0   \n",
       "\n",
       "     review_scores_checkin review_scores_communication  \\\n",
       "833                    9.0                         9.0   \n",
       "905                   10.0                        10.0   \n",
       "1320                  10.0                         9.0   \n",
       "\n",
       "      review_scores_location  review_scores_value  reviews_per_month  \n",
       "833                      9.0                  9.0               0.27  \n",
       "905                      9.0                  9.0               0.11  \n",
       "1320                    10.0                  9.0               0.11  \n",
       "\n",
       "[3 rows x 25 columns]"
      ]
     },
     "execution_count": 11,
     "metadata": {},
     "output_type": "execute_result"
    }
   ],
   "source": [
    "df[df['name'].isna()]"
   ]
  },
  {
   "cell_type": "markdown",
   "metadata": {},
   "source": [
    "Теперь удалим эти записи"
   ]
  },
  {
   "cell_type": "code",
   "execution_count": 12,
   "metadata": {},
   "outputs": [],
   "source": [
    "to_drop_idx = list(df[df['name'].isna()].index)\n",
    "df.drop(to_drop_idx, axis=0, inplace=True)"
   ]
  },
  {
   "cell_type": "markdown",
   "metadata": {},
   "source": [
    "Также мы видим, что в части записей информация о bedrooms и beds отсутствует. Установим нулевые значения."
   ]
  },
  {
   "cell_type": "code",
   "execution_count": 13,
   "metadata": {},
   "outputs": [],
   "source": [
    "df['beds'].fillna(0, inplace=True)\n",
    "df['bedrooms'].fillna(0, inplace=True)"
   ]
  },
  {
   "cell_type": "markdown",
   "metadata": {},
   "source": [
    "Подготовим справочник районов"
   ]
  },
  {
   "cell_type": "code",
   "execution_count": 14,
   "metadata": {
    "scrolled": false
   },
   "outputs": [
    {
     "data": {
      "text/plain": [
       "{1: 'Bijlmer-Centrum',\n",
       " 2: 'Bos en Lommer',\n",
       " 3: 'Buitenveldert - Zuidas',\n",
       " 4: 'Centrum-Oost',\n",
       " 5: 'Centrum-West',\n",
       " 6: 'De Aker - Nieuw Sloten',\n",
       " 7: 'De Baarsjes - Oud-West',\n",
       " 8: 'De Pijp - Rivierenbuurt',\n",
       " 9: 'Geuzenveld - Slotermeer',\n",
       " 10: 'IJburg - Zeeburgereiland',\n",
       " 11: 'Noord-Oost',\n",
       " 12: 'Noord-West',\n",
       " 13: 'Oostelijk Havengebied - Indische Buurt',\n",
       " 14: 'Osdorp',\n",
       " 15: 'Oud-Noord',\n",
       " 16: 'Oud-Oost',\n",
       " 17: 'Slotervaart',\n",
       " 18: 'Watergraafsmeer',\n",
       " 19: 'Westerpark',\n",
       " 20: 'Zuid'}"
      ]
     },
     "execution_count": 14,
     "metadata": {},
     "output_type": "execute_result"
    }
   ],
   "source": [
    "neigh_df = df[\"neighbourhood_cleansed\"].value_counts().sort_index().reset_index()\n",
    "neigh_df.index = range(1, len(neigh_df)+1)\n",
    "neigh_dict = neigh_df[\"index\"].to_dict()\n",
    "neigh_dict"
   ]
  },
  {
   "cell_type": "code",
   "execution_count": 15,
   "metadata": {},
   "outputs": [
    {
     "name": "stdout",
     "output_type": "stream",
     "text": [
      "20 Zuid\n"
     ]
    }
   ],
   "source": [
    "for key, value in neigh_dict.items():\n",
    "    w = Neighbourhood(neigh_id = key, neigh_name = value)\n",
    "    session.add(w)\n",
    "session.commit()\n",
    "\n",
    "print(w.neigh_id, w.neigh_name)"
   ]
  },
  {
   "cell_type": "markdown",
   "metadata": {},
   "source": [
    "### Задание 6.3.1.\n",
    "Наполнить данными справочники владельцев недвижимости, типов комнат и типов собственности. При создании справочника владельцев в качестве значения первичного ключа указать значение индекса владельца из *ListingsAm.csv*\n",
    "\n",
    "Чтобы добавить запись, содержащую значения нескольких столбцов, например первичного ключа и названия, можно в одном выражении указать несколько параметров класса таблицы:\n",
    "\n",
    "```\n",
    "w=ClassName(Column_1=value_1, Column_2=value_2, ... Column_n=value_n)\n",
    "sesseion.add(w)\n",
    "```"
   ]
  },
  {
   "cell_type": "code",
   "execution_count": 16,
   "metadata": {},
   "outputs": [],
   "source": [
    "# Ваш код здесь\n"
   ]
  },
  {
   "cell_type": "code",
   "execution_count": 17,
   "metadata": {
    "scrolled": true
   },
   "outputs": [
    {
     "data": {
      "text/plain": [
       "host_id  host_name      \n",
       "47517    Geert Alexander    1\n",
       "58458    Dre                1\n",
       "59484    Alexander          1\n",
       "61977    Marjolein          1\n",
       "81046    Fabienne           1\n",
       "Name: host_id, dtype: int64"
      ]
     },
     "execution_count": 17,
     "metadata": {},
     "output_type": "execute_result"
    }
   ],
   "source": [
    "H=df[['host_id','host_name']].groupby([\"host_id\", \"host_name\"])['host_id'].count()\n",
    "H.head()"
   ]
  },
  {
   "cell_type": "code",
   "execution_count": 18,
   "metadata": {
    "scrolled": true
   },
   "outputs": [
    {
     "data": {
      "text/plain": [
       "(331113200, 'Jennifer')"
      ]
     },
     "execution_count": 18,
     "metadata": {},
     "output_type": "execute_result"
    }
   ],
   "source": [
    "for item in H.index:\n",
    "    w = Host(host_id=item[0], host_name=item[1])\n",
    "    session.add(w)\n",
    "session.commit()\n",
    "w.host_id, w.host_name"
   ]
  },
  {
   "cell_type": "markdown",
   "metadata": {},
   "source": [
    "Проверка, сколько записей в таблице *hosts*."
   ]
  },
  {
   "cell_type": "code",
   "execution_count": 19,
   "metadata": {},
   "outputs": [
    {
     "name": "stdout",
     "output_type": "stream",
     "text": [
      "SELECT count() AS count_1 \n",
      "FROM hosts\n"
     ]
    },
    {
     "data": {
      "text/plain": [
       "3110"
      ]
     },
     "execution_count": 19,
     "metadata": {},
     "output_type": "execute_result"
    }
   ],
   "source": [
    "from sqlalchemy.sql import select, func\n",
    "connection=engine.connect()\n",
    "s=select([func.count(Host.__table__)])\n",
    "print(str(s))\n",
    "rp = connection.execute(s)\n",
    "rp.scalar()"
   ]
  },
  {
   "cell_type": "markdown",
   "metadata": {},
   "source": [
    "Наполнение справочника типов комнат"
   ]
  },
  {
   "cell_type": "code",
   "execution_count": 20,
   "metadata": {},
   "outputs": [
    {
     "data": {
      "text/plain": [
       "(4, 'Shared room')"
      ]
     },
     "execution_count": 20,
     "metadata": {},
     "output_type": "execute_result"
    }
   ],
   "source": [
    "room_type_df = df[\"room_type\"].value_counts().sort_index().reset_index()\n",
    "room_type_df.index = range(1, len(room_type_df)+1)\n",
    "room_type_dict=room_type_df[\"index\"].to_dict()\n",
    "\n",
    "for value in room_type_dict.values():\n",
    "    w = Room_type(room_type_name = value)\n",
    "    session.add(w)\n",
    "\n",
    "session.commit()\n",
    "w.room_type_id, w.room_type_name"
   ]
  },
  {
   "cell_type": "markdown",
   "metadata": {},
   "source": [
    "Наполнение справочников типов собственности"
   ]
  },
  {
   "cell_type": "code",
   "execution_count": 21,
   "metadata": {},
   "outputs": [
    {
     "data": {
      "text/plain": [
       "(42, 'Tiny house')"
      ]
     },
     "execution_count": 21,
     "metadata": {},
     "output_type": "execute_result"
    }
   ],
   "source": [
    "property_type_df = df[\"property_type\"].value_counts().sort_index().reset_index()\n",
    "property_type_df.index = range(1, len(property_type_df)+1)\n",
    "property_type_dict = property_type_df[\"index\"].to_dict()\n",
    "\n",
    "for value in property_type_dict.values():\n",
    "    w = Property_type(property_type_name = value)\n",
    "    session.add(w)\n",
    "\n",
    "session.commit()\n",
    "w.property_type_id, w.property_type_name"
   ]
  },
  {
   "cell_type": "markdown",
   "metadata": {},
   "source": [
    "### Задание 6.3.2.\n",
    "\n",
    "Наполнить данными таблицу *listings*"
   ]
  },
  {
   "cell_type": "code",
   "execution_count": 22,
   "metadata": {},
   "outputs": [],
   "source": [
    "# Ваш код здесь"
   ]
  },
  {
   "cell_type": "code",
   "execution_count": 23,
   "metadata": {
    "scrolled": false
   },
   "outputs": [
    {
     "data": {
      "text/html": [
       "<div>\n",
       "<style scoped>\n",
       "    .dataframe tbody tr th:only-of-type {\n",
       "        vertical-align: middle;\n",
       "    }\n",
       "\n",
       "    .dataframe tbody tr th {\n",
       "        vertical-align: top;\n",
       "    }\n",
       "\n",
       "    .dataframe thead th {\n",
       "        text-align: right;\n",
       "    }\n",
       "</style>\n",
       "<table border=\"1\" class=\"dataframe\">\n",
       "  <thead>\n",
       "    <tr style=\"text-align: right;\">\n",
       "      <th></th>\n",
       "      <th>id</th>\n",
       "      <th>listing_url</th>\n",
       "      <th>name</th>\n",
       "      <th>host_id</th>\n",
       "      <th>host_name</th>\n",
       "      <th>host_is_superhost</th>\n",
       "      <th>neighbourhood_cleansed</th>\n",
       "      <th>property_type</th>\n",
       "      <th>room_type</th>\n",
       "      <th>bathrooms_text</th>\n",
       "      <th>...</th>\n",
       "      <th>first_review</th>\n",
       "      <th>last_review</th>\n",
       "      <th>review_scores_rating</th>\n",
       "      <th>review_scores_accuracy</th>\n",
       "      <th>review_scores_cleanliness</th>\n",
       "      <th>review_scores_checkin</th>\n",
       "      <th>review_scores_communication</th>\n",
       "      <th>review_scores_location</th>\n",
       "      <th>review_scores_value</th>\n",
       "      <th>reviews_per_month</th>\n",
       "    </tr>\n",
       "  </thead>\n",
       "  <tbody>\n",
       "    <tr>\n",
       "      <th>0</th>\n",
       "      <td>20168</td>\n",
       "      <td>https://www.airbnb.com/rooms/20168</td>\n",
       "      <td>Studio with private bathroom in the centre 1</td>\n",
       "      <td>59484</td>\n",
       "      <td>Alexander</td>\n",
       "      <td>f</td>\n",
       "      <td>Centrum-Oost</td>\n",
       "      <td>Private room in townhouse</td>\n",
       "      <td>Private room</td>\n",
       "      <td>1 private bath</td>\n",
       "      <td>...</td>\n",
       "      <td>2010-03-02</td>\n",
       "      <td>2020-04-09</td>\n",
       "      <td>89</td>\n",
       "      <td>10.0</td>\n",
       "      <td>10.0</td>\n",
       "      <td>10.0</td>\n",
       "      <td>10.0</td>\n",
       "      <td>10.0</td>\n",
       "      <td>9.0</td>\n",
       "      <td>2.58</td>\n",
       "    </tr>\n",
       "  </tbody>\n",
       "</table>\n",
       "<p>1 rows × 25 columns</p>\n",
       "</div>"
      ],
      "text/plain": [
       "      id                         listing_url  \\\n",
       "0  20168  https://www.airbnb.com/rooms/20168   \n",
       "\n",
       "                                           name  host_id  host_name  \\\n",
       "0  Studio with private bathroom in the centre 1    59484  Alexander   \n",
       "\n",
       "  host_is_superhost neighbourhood_cleansed              property_type  \\\n",
       "0                 f           Centrum-Oost  Private room in townhouse   \n",
       "\n",
       "      room_type  bathrooms_text  ...  first_review  last_review  \\\n",
       "0  Private room  1 private bath  ...    2010-03-02   2020-04-09   \n",
       "\n",
       "  review_scores_rating  review_scores_accuracy  review_scores_cleanliness  \\\n",
       "0                   89                    10.0                       10.0   \n",
       "\n",
       "  review_scores_checkin review_scores_communication  review_scores_location  \\\n",
       "0                  10.0                        10.0                    10.0   \n",
       "\n",
       "   review_scores_value  reviews_per_month  \n",
       "0                  9.0               2.58  \n",
       "\n",
       "[1 rows x 25 columns]"
      ]
     },
     "execution_count": 23,
     "metadata": {},
     "output_type": "execute_result"
    }
   ],
   "source": [
    "df.head(1)"
   ]
  },
  {
   "cell_type": "markdown",
   "metadata": {},
   "source": [
    "В процессе работы выдается предупреждение о том, что тип данных \"десятичное число\" не поддерживается напрямую. Чтобы отключить такие сообщения, выполним команду\n",
    "```\n",
    "import warnings; warnings.simplefilter('ignore')\n",
    "```"
   ]
  },
  {
   "cell_type": "code",
   "execution_count": 24,
   "metadata": {
    "scrolled": true
   },
   "outputs": [
    {
     "name": "stdout",
     "output_type": "stream",
     "text": [
      "45854789 https://www.airbnb.com/rooms/45854789 The Weber Collection - Luxurieus Design Studio - 8 178187873 4 11 1\n"
     ]
    }
   ],
   "source": [
    "import warnings; warnings.simplefilter('ignore')\n",
    "\n",
    "neigh_dict_reversed = {}\n",
    "for key, value in neigh_dict.items():\n",
    "    neigh_dict_reversed[value] = key\n",
    "\n",
    "property_type_dict_reversed = {}\n",
    "for key, value in property_type_dict.items():\n",
    "    property_type_dict_reversed[value] = key\n",
    "\n",
    "room_type_dict_reversed = {}\n",
    "for key, value in room_type_dict.items():\n",
    "    room_type_dict_reversed[value] = key\n",
    "    \n",
    "for row in df.index[::]:\n",
    "    w = Listing(\n",
    "        listing_id = int(df.loc[row, 'id']),\n",
    "        listing_name = df.loc[row, 'name'],\n",
    "        listing_url = df.loc[row, 'listing_url'],\n",
    "        host_id = int(df.loc[row, 'host_id']),\n",
    "        neighbourhood_id = int(neigh_dict_reversed[df.loc[row, 'neighbourhood_cleansed']]),\n",
    "        amenities = df.loc[row, 'amenities'],\n",
    "        property_type_id = int(property_type_dict_reversed[df.loc[row, 'property_type']]),\n",
    "        room_type_id = int(room_type_dict_reversed[df.loc[row, 'room_type']]),\n",
    "        bedrooms = int(df.loc[row, 'bedrooms']),\n",
    "        beds = int(df.loc[row, 'beds']),\n",
    "        price = int(df.loc[row, 'price'])\n",
    "    )\n",
    "    \n",
    "    session.add(w)\n",
    "\n",
    "session.commit()\n",
    "print(w.listing_id, w.listing_url, w.listing_name, \n",
    "      w.host_id, w.neighbourhood_id, w.property_type_id, w.room_type_id)"
   ]
  },
  {
   "cell_type": "markdown",
   "metadata": {},
   "source": [
    "## Наполнение таблиц *users, orders, line_items*\n",
    "\n",
    "Таблица *users*"
   ]
  },
  {
   "cell_type": "code",
   "execution_count": 25,
   "metadata": {},
   "outputs": [
    {
     "data": {
      "text/plain": [
       "Table('users', MetaData(bind=None), Column('user_id', Integer(), table=<users>, primary_key=True, nullable=False), Column('username', String(length=15), table=<users>, nullable=False), Column('email_address', String(length=255), table=<users>, nullable=False), Column('phone', String(length=20), table=<users>, nullable=False), Column('password', String(length=25), table=<users>, nullable=False), Column('created_on', DateTime(), table=<users>, default=ColumnDefault(<function datetime.now at 0x0000024A45355E58>)), Column('updated_on', DateTime(), table=<users>, onupdate=ColumnDefault(<function datetime.now at 0x0000024A45355288>), default=ColumnDefault(<function datetime.now at 0x0000024A45355048>)), schema=None)"
      ]
     },
     "execution_count": 25,
     "metadata": {},
     "output_type": "execute_result"
    }
   ],
   "source": [
    "User.__table__"
   ]
  },
  {
   "cell_type": "code",
   "execution_count": 26,
   "metadata": {},
   "outputs": [
    {
     "name": "stdout",
     "output_type": "stream",
     "text": [
      "5 Svetlana svetaivanova@microsoft.com +7-812-555-48-71 SD%@OUsdc7 2021-05-12 20:30:52.611917 2021-05-12 20:30:52.618951\n"
     ]
    }
   ],
   "source": [
    "user_list=[(1,'Nicolas','nicolas@rambler.ru','+7-929-616-88-77','@#$%890'),\n",
    "           (2,'Lida','lidaok@gmail.com','+7-929-616-88-77','yyT$%333'),\n",
    "           (3,'Vera','lveramuns@gmail.com','+7-353-214-12-90','yyT$%333'),\n",
    "           (4,'Ivan','ivaturgenev@yandex.ru','+7-047-121-89-95','tT6^7&#20Oy'),\n",
    "           (5,'Svetlana','svetaivanova@microsoft.com','+7-812-555-48-71','SD%@OUsdc7')\n",
    "          ]\n",
    "\n",
    "for item in user_list:\n",
    "    w = User(\n",
    "        user_id=item[0],\n",
    "        username=item[1],\n",
    "        email_address=item[2],\n",
    "        phone=item[3],\n",
    "        password=item[4],\n",
    "        created_on=datetime.now()\n",
    "    )\n",
    "    session.add(w)\n",
    "session.commit()\n",
    "\n",
    "print(w.user_id, w.username, w.email_address, \n",
    "      w.phone, w.password, w.created_on, w.updated_on)"
   ]
  },
  {
   "cell_type": "markdown",
   "metadata": {},
   "source": [
    "Таблица *orders*"
   ]
  },
  {
   "cell_type": "code",
   "execution_count": 27,
   "metadata": {},
   "outputs": [
    {
     "data": {
      "text/plain": [
       "Table('orders', MetaData(bind=None), Column('order_id', Integer(), table=<orders>, primary_key=True, nullable=False), Column('user_id', Integer(), ForeignKey('users.user_id'), table=<orders>), Column('created_on', DateTime(), table=<orders>, default=ColumnDefault(<function datetime.now at 0x0000024A45331678>)), schema=None)"
      ]
     },
     "execution_count": 27,
     "metadata": {},
     "output_type": "execute_result"
    }
   ],
   "source": [
    "Order.__table__"
   ]
  },
  {
   "cell_type": "code",
   "execution_count": 28,
   "metadata": {},
   "outputs": [
    {
     "name": "stdout",
     "output_type": "stream",
     "text": [
      "12 5 2021-05-09 00:00:00\n"
     ]
    }
   ],
   "source": [
    "order_list = [(1,1,'2020-05-01'),(2,1,'2020-05-02'),\n",
    "              (3,2,'2020-05-03'),(4,3,'2020-05-04'),\n",
    "              (5,3,'2020-05-05'),(6,4,'2020-05-06'),\n",
    "              (7,4,'2020-05-07'),(8,4,'2020-05-08'),\n",
    "              (9,5,'2020-05-09'),(10,5,'2020-05-10'),\n",
    "              (11,5,'2021-05-09'),(12,5,'2021-05-09')]\n",
    "\n",
    "for item in order_list:\n",
    "    w = Order(\n",
    "        order_id=item[0],\n",
    "        user_id=item[1],\n",
    "        created_on=datetime.strptime(item[2], '%Y-%m-%d')\n",
    "    )\n",
    "    session.add(w)\n",
    "session.commit()\n",
    "\n",
    "print(w.order_id, w.user_id, w.created_on)"
   ]
  },
  {
   "cell_type": "markdown",
   "metadata": {},
   "source": [
    "Таблица *line_items*"
   ]
  },
  {
   "cell_type": "code",
   "execution_count": 29,
   "metadata": {},
   "outputs": [
    {
     "data": {
      "text/plain": [
       "Table('line_items', MetaData(bind=None), Column('item_id', Integer(), table=<line_items>, primary_key=True, nullable=False), Column('order_id', Integer(), ForeignKey('orders.order_id'), table=<line_items>), Column('listing_id', Integer(), ForeignKey('listings.listing_id'), table=<line_items>), Column('item_start_date', DateTime(), table=<line_items>, nullable=False, default=ColumnDefault(<function datetime.now at 0x0000024A45331438>)), Column('item_end_date', DateTime(), table=<line_items>, nullable=False), schema=None)"
      ]
     },
     "execution_count": 29,
     "metadata": {},
     "output_type": "execute_result"
    }
   ],
   "source": [
    "Line_item.__table__"
   ]
  },
  {
   "cell_type": "code",
   "execution_count": 30,
   "metadata": {},
   "outputs": [
    {
     "name": "stdout",
     "output_type": "stream",
     "text": [
      "9 7 3908795 2020-09-02 00:00:00 2020-09-12 00:00:00\n"
     ]
    }
   ],
   "source": [
    "line_list=[(1,1,20168,'2020-05-07','2020-05-17'),\n",
    "           (2,1,27886,'2020-05-17','2020-05-27'),\n",
    "           (3,2,28871,'2020-08-01','2020-08-10'),\n",
    "           (4,3,29051,'2020-02-06','2020-03-17'),\n",
    "           (5,4,2550571,'2020-04-07','2020-06-01'),\n",
    "           (6,4,18225467,'2020-05-07','2020-06-01'),\n",
    "           (7,5,3908795,'2020-07-07','2020-08-19'),\n",
    "           (8,6,16550704,'2020-08-03','2020-08-11'),\n",
    "           (9,7,3908795,'2020-09-02','2020-09-12'),\n",
    "          ]\n",
    "\n",
    "for jtem in line_list:\n",
    "    w = Line_item(\n",
    "        item_id=jtem[0],\n",
    "        order_id=jtem[1],\n",
    "        listing_id=jtem[2],\n",
    "        item_start_date=datetime.strptime(jtem[3],'%Y-%m-%d'),\n",
    "        item_end_date=datetime.strptime(jtem[4],'%Y-%m-%d')\n",
    "    )\n",
    "    session.add(w)\n",
    "session.commit()\n",
    "\n",
    "print(w.item_id, w.order_id, w.listing_id, w.item_start_date, w.item_end_date)"
   ]
  },
  {
   "cell_type": "markdown",
   "metadata": {},
   "source": [
    "<a id=T_3_4></a>\n",
    "[<= ](#T_3_3)||[ К оглавлению ](#Ref)||[ =>](#T_3_5)\n",
    "# 6.4. Запросы\n",
    "\n",
    "### Методы *first(), all(), one().* Ограничение *limit()*."
   ]
  },
  {
   "cell_type": "code",
   "execution_count": 31,
   "metadata": {},
   "outputs": [
    {
     "data": {
      "text/plain": [
       "[Room_type(room_type_name='Entire home/apt'),\n",
       " Room_type(room_type_name='Hotel room'),\n",
       " Room_type(room_type_name='Private room'),\n",
       " Room_type(room_type_name='Shared room')]"
      ]
     },
     "execution_count": 31,
     "metadata": {},
     "output_type": "execute_result"
    }
   ],
   "source": [
    "session.query(Room_type).all()"
   ]
  },
  {
   "cell_type": "code",
   "execution_count": 32,
   "metadata": {},
   "outputs": [
    {
     "data": {
      "text/plain": [
       "[Property_type(property_type_name='Boat'),\n",
       " Property_type(property_type_name='Entire apartment'),\n",
       " Property_type(property_type_name='Entire bed and breakfast')]"
      ]
     },
     "execution_count": 32,
     "metadata": {},
     "output_type": "execute_result"
    }
   ],
   "source": [
    "session.query(Property_type).limit(3).all()"
   ]
  },
  {
   "cell_type": "code",
   "execution_count": 33,
   "metadata": {
    "scrolled": true
   },
   "outputs": [
    {
     "data": {
      "text/plain": [
       "(1, 'Bijlmer-Centrum')"
      ]
     },
     "execution_count": 33,
     "metadata": {},
     "output_type": "execute_result"
    }
   ],
   "source": [
    "session.query(Neighbourhood.neigh_id, Neighbourhood.neigh_name).first()"
   ]
  },
  {
   "cell_type": "code",
   "execution_count": 34,
   "metadata": {},
   "outputs": [
    {
     "data": {
      "text/plain": [
       "[(1, 'Bijlmer-Centrum'),\n",
       " (2, 'Bos en Lommer'),\n",
       " (3, 'Buitenveldert - Zuidas'),\n",
       " (4, 'Centrum-Oost'),\n",
       " (5, 'Centrum-West'),\n",
       " (6, 'De Aker - Nieuw Sloten'),\n",
       " (7, 'De Baarsjes - Oud-West')]"
      ]
     },
     "execution_count": 34,
     "metadata": {},
     "output_type": "execute_result"
    }
   ],
   "source": [
    "session.query(Neighbourhood.neigh_id, Neighbourhood.neigh_name).limit(7).all()"
   ]
  },
  {
   "cell_type": "code",
   "execution_count": 35,
   "metadata": {},
   "outputs": [
    {
     "name": "stdout",
     "output_type": "stream",
     "text": [
      "Entire home/apt 1\n",
      "Hotel room 2\n",
      "Private room 3\n",
      "Shared room 4\n"
     ]
    }
   ],
   "source": [
    "for item in session.query(Room_type):\n",
    "    print(item.room_type_name, item.room_type_id)"
   ]
  },
  {
   "cell_type": "code",
   "execution_count": 36,
   "metadata": {
    "scrolled": true
   },
   "outputs": [
    {
     "data": {
      "text/plain": [
       "Listing(listing_name='Studio with private bathroom in the centre 1', listing_url='https://www.airbnb.com/rooms/20168', amenities='[\"Wifi\", \"Hot water\", \"Hangers\", \"Host greets you\", \"Long term stays allowed\", \"Carbon monoxide alarm\", \"Fire extinguisher\", \"Dedicated workspace\", \"Paid parking off premises\", \"Essentials\", \"Bed linens\", \"Hair dryer\", \"TV\", \"Heating\", \"Refrigerator\", \"Free street parking\", \"Smoke alarm\"]', bedrooms='1', price='236.00')"
      ]
     },
     "execution_count": 36,
     "metadata": {},
     "output_type": "execute_result"
    }
   ],
   "source": [
    "session.query(Listing).limit(1).one()"
   ]
  },
  {
   "cell_type": "code",
   "execution_count": 37,
   "metadata": {},
   "outputs": [
    {
     "data": {
      "text/plain": [
       "[(20168, 4, 59484), (27886, 5, 97647), (28871, 4, 124245)]"
      ]
     },
     "execution_count": 37,
     "metadata": {},
     "output_type": "execute_result"
    }
   ],
   "source": [
    "session.query(Listing.listing_id, Listing.neighbourhood_id, Listing.host_id).limit(3).all()"
   ]
  },
  {
   "cell_type": "code",
   "execution_count": 38,
   "metadata": {},
   "outputs": [
    {
     "data": {
      "text/plain": [
       "[(47517, Host(host_id='Geert Alexander')),\n",
       " (58458, Host(host_id='Dre')),\n",
       " (59484, Host(host_id='Alexander'))]"
      ]
     },
     "execution_count": 38,
     "metadata": {},
     "output_type": "execute_result"
    }
   ],
   "source": [
    "session.query(Host.host_id, Host).limit(3).all()"
   ]
  },
  {
   "cell_type": "markdown",
   "metadata": {},
   "source": [
    "Другие методы: *scalar()*"
   ]
  },
  {
   "cell_type": "markdown",
   "metadata": {},
   "source": [
    "## 6.4.1. Ограничение числа строк запроса\n",
    "\n",
    "В предыдущих примерах мы использовали метод *first()*, чтобы вернуть только одну строку. Хотя наш *query()* дал нам одну запрошенную строку, фактический запрос прошел и получил доступ ко всем результатам, а не только к отдельной записи. Если мы хотим ограничить запрос, мы можем использовать нотацию среза массива вместо оператора *limit*."
   ]
  },
  {
   "cell_type": "code",
   "execution_count": 39,
   "metadata": {},
   "outputs": [
    {
     "data": {
      "text/plain": [
       "[(20168, 3, 31, 4, 59484),\n",
       " (27886, 3, 26, 5, 97647),\n",
       " (28871, 3, 16, 4, 124245),\n",
       " (29051, 3, 16, 4, 124245)]"
      ]
     },
     "execution_count": 39,
     "metadata": {},
     "output_type": "execute_result"
    }
   ],
   "source": [
    "session.query(Listing.listing_id, \n",
    "              Listing.room_type_id,\n",
    "              Listing.property_type_id,\n",
    "              Listing.neighbourhood_id,\n",
    "              Listing.host_id\n",
    "             )[:4]"
   ]
  },
  {
   "cell_type": "markdown",
   "metadata": {},
   "source": [
    "## 6.4.2. Упорядочивание\n",
    "\n",
    "Упорядочивание по возрастанию"
   ]
  },
  {
   "cell_type": "code",
   "execution_count": 40,
   "metadata": {},
   "outputs": [
    {
     "data": {
      "text/plain": [
       "[(29480289, '\"I cannot stop bragging how good it is\" Apartment', 5),\n",
       " (5801370, \"'Bike' Room Canal District A'dam\", 5),\n",
       " (37585995, \"'Off the grid' stylish typical ADAM 'North' house\", 12),\n",
       " (34227246, '(#2) Superb Guest room & Balcony (Long-term only)', 7)]"
      ]
     },
     "execution_count": 40,
     "metadata": {},
     "output_type": "execute_result"
    }
   ],
   "source": [
    "session.query(Listing.listing_id, \n",
    "              Listing.listing_name,\n",
    "              Listing.neighbourhood_id\n",
    "             ).order_by(Listing.listing_name)[:4]"
   ]
  },
  {
   "cell_type": "markdown",
   "metadata": {},
   "source": [
    "Упорядочивание по убыванию"
   ]
  },
  {
   "cell_type": "code",
   "execution_count": 41,
   "metadata": {},
   "outputs": [
    {
     "name": "stdout",
     "output_type": "stream",
     "text": [
      "🏡 Modern and cozy townhouse with green garden - 2\n",
      "⭐ LUXURIOUS & MODERN APARTMENT AMSTERDAM - 13\n",
      "☆stylish and spacious Apt in great area w balcony☆ - 20\n",
      "☆Lovely & spacious  2 persons apt in De Pijp☆ - 8\n"
     ]
    }
   ],
   "source": [
    "for item in session.query(Listing.listing_id, \n",
    "                  Listing.listing_name,\n",
    "                  Listing.neighbourhood_id\n",
    "                 ).order_by(Listing.listing_name.desc())[:4]:\n",
    "    print('{} - {}'.format(item.listing_name, item.neighbourhood_id))"
   ]
  },
  {
   "cell_type": "markdown",
   "metadata": {},
   "source": [
    "## 6.4.3. Встроенные функции\n",
    "\n",
    "SQLAlchemy также может использовать встроенные функции SQL, поддерживаемые базой данных. Две наиболее часто используемые функции - это *sum()* и *count()*. Чтобы использовать эти функции нужно импортировать модуль *sqlalchemy.func*."
   ]
  },
  {
   "cell_type": "code",
   "execution_count": 42,
   "metadata": {
    "scrolled": true
   },
   "outputs": [
    {
     "name": "stdout",
     "output_type": "stream",
     "text": [
      "557116.00\n"
     ]
    }
   ],
   "source": [
    "from sqlalchemy import func\n",
    "rec_sum=session.query(func.sum(Listing.price)).scalar()\n",
    "print(rec_sum)"
   ]
  },
  {
   "cell_type": "markdown",
   "metadata": {},
   "source": [
    "Метод *scalar()* возвращает значение крайнего левого столбца первой строки. В предыдущем примере результатом является одно число. Если использовать метод *first()* для аналогичного запроса, то результатом станет кортеж."
   ]
  },
  {
   "cell_type": "code",
   "execution_count": 43,
   "metadata": {
    "scrolled": false
   },
   "outputs": [
    {
     "name": "stdout",
     "output_type": "stream",
     "text": [
      "(3532,)\n"
     ]
    }
   ],
   "source": [
    "rec_count=session.query(func.count(Listing.listing_id)).first()\n",
    "print(rec_count)"
   ]
  },
  {
   "cell_type": "markdown",
   "metadata": {},
   "source": [
    "Результат функции содержится в столбце с автоматически сформированным именем, таким как *count_1*. Чтобы присовить столбцу результата другое имя и использовать его в дальнейшем, испольльзуем функцию *label().*"
   ]
  },
  {
   "cell_type": "code",
   "execution_count": 44,
   "metadata": {},
   "outputs": [
    {
     "name": "stdout",
     "output_type": "stream",
     "text": [
      "(Decimal('557116.00'),)\n",
      "['overall_price']\n",
      "557116.00\n"
     ]
    }
   ],
   "source": [
    "rec_count=session.query(func.sum(Listing.price).label('overall_price')).first()\n",
    "print(rec_count)\n",
    "print(rec_count.keys())\n",
    "print(rec_count.overall_price)"
   ]
  },
  {
   "cell_type": "markdown",
   "metadata": {},
   "source": [
    "## 6.4.4. Фильтрация\n",
    "\n",
    "Фильтрация осуществляется посредством \"пристегивания\" к запросу выражения фильтрации с помощью метода *filter()*. Обычно такое выражение содержит столбец, оператор и значение или другой столбец. Можно прикреплять к запросу несколько фильтров или перечислять условия фильтрации через запятую в одном фильтре. Для фильтрации используют методы *filter()* и *filter_by*.\n",
    "\n",
    "## Метод *filter()*"
   ]
  },
  {
   "cell_type": "code",
   "execution_count": 45,
   "metadata": {
    "scrolled": true
   },
   "outputs": [
    {
     "name": "stdout",
     "output_type": "stream",
     "text": [
      "[(2117442,\n",
      "  Listing(listing_name='Classic sailing ship in Amsterdam', listing_url='https://www.airbnb.com/rooms/2117442', amenities='[\"Oven\", \"Iron\", \"Hot water\", \"Private entrance\", \"Host greets you\", \"Long term stays allowed\", \"Fire extinguisher\", \"Luggage dropoff allowed\", \"Dedicated workspace\", \"Dryer\", \"Essentials\", \"Kitchen\", \"First aid kit\", \"Hair dryer\", \"Heating\", \"Washer\", \"Smoke alarm\", \"Stove\"]', bedrooms='6', price='550.00')),\n",
      " (8142900,\n",
      "  Listing(listing_name='Historical Canal House near ANNE FRANK House', listing_url='https://www.airbnb.com/rooms/8142900', amenities='[\"Children\\u2019s books and toys\", \"Microwave\", \"Carbon monoxide alarm\", \"First aid kit\", \"Refrigerator\", \"Dishes and silverware\", \"Smoke alarm\", \"High chair\", \"Oven\", \"Children\\u2019s dinnerware\", \"Private entrance\", \"Babysitter recommendations\", \"Cable TV\", \"TV\", \"Stove\", \"Wifi\", \"Pocket wifi\", \"Hot water\", \"Coffee maker\", \"Hangers\", \"Shampoo\", \"Bathtub\", \"Luggage dropoff allowed\", \"Kitchen\", \"Cooking basics\", \"Indoor fireplace\", \"Garden or backyard\", \"Iron\", \"Dishwasher\", \"Host greets you\", \"Baby safety gates\", \"Dedicated workspace\", \"Paid parking off premises\", \"Dryer\", \"Essentials\", \"Bed linens\", \"Extra pillows and blankets\", \"Hair dryer\", \"Heating\", \"Waterfront\", \"Washer\"]', bedrooms='6', price='550.00')),\n",
      " (15542104,\n",
      "  Listing(listing_name='Beautiful Villa Oud-Zuid/Centre, 6 bedrooms 1500m3', listing_url='https://www.airbnb.com/rooms/15542104', amenities='[\"Children\\u2019s books and toys\", \"Microwave\", \"Carbon monoxide alarm\", \"First aid kit\", \"Refrigerator\", \"Dishes and silverware\", \"Smoke alarm\", \"Game console\", \"Oven\", \"Patio or balcony\", \"Children\\u2019s dinnerware\", \"Babysitter recommendations\", \"Cable TV\", \"TV\", \"Stove\", \"Wifi\", \"Pocket wifi\", \"Hot water\", \"Coffee maker\", \"Hangers\", \"Fire extinguisher\", \"Shampoo\", \"Bathtub\", \"Luggage dropoff allowed\", \"Kitchen\", \"Cooking basics\", \"Indoor fireplace\", \"Garden or backyard\", \"Iron\", \"Room-darkening shades\", \"Dishwasher\", \"Dedicated workspace\", \"Paid parking off premises\", \"Dryer\", \"Essentials\", \"Heating\", \"Washer\"]', bedrooms='6', price='625.00'))]\n"
     ]
    }
   ],
   "source": [
    "from pprint import pprint\n",
    "record=session.query(Listing.listing_id, Listing).filter(Listing.bedrooms==6).all()\n",
    "pprint(record)"
   ]
  },
  {
   "cell_type": "code",
   "execution_count": 46,
   "metadata": {
    "scrolled": true
   },
   "outputs": [
    {
     "name": "stdout",
     "output_type": "stream",
     "text": [
      "[(15542104,\n",
      "  Listing(listing_name='Beautiful Villa Oud-Zuid/Centre, 6 bedrooms 1500m3', listing_url='https://www.airbnb.com/rooms/15542104', amenities='[\"Children\\u2019s books and toys\", \"Microwave\", \"Carbon monoxide alarm\", \"First aid kit\", \"Refrigerator\", \"Dishes and silverware\", \"Smoke alarm\", \"Game console\", \"Oven\", \"Patio or balcony\", \"Children\\u2019s dinnerware\", \"Babysitter recommendations\", \"Cable TV\", \"TV\", \"Stove\", \"Wifi\", \"Pocket wifi\", \"Hot water\", \"Coffee maker\", \"Hangers\", \"Fire extinguisher\", \"Shampoo\", \"Bathtub\", \"Luggage dropoff allowed\", \"Kitchen\", \"Cooking basics\", \"Indoor fireplace\", \"Garden or backyard\", \"Iron\", \"Room-darkening shades\", \"Dishwasher\", \"Dedicated workspace\", \"Paid parking off premises\", \"Dryer\", \"Essentials\", \"Heating\", \"Washer\"]', bedrooms='6', price='625.00'))]\n"
     ]
    }
   ],
   "source": [
    "record=session.query(Listing.listing_id, Listing) \\\n",
    "    .filter(Listing.bedrooms==6) \\\n",
    "    .filter(Listing.price>600) \\\n",
    "    .all()\n",
    "pprint(record)"
   ]
  },
  {
   "cell_type": "markdown",
   "metadata": {},
   "source": [
    "## Метод *filter_by()*\n",
    "\n",
    "Метод *filter_by()* использует несколько иной синтаксис. Имя класса не используется, вместо этого используется атрибут главного класса запроса, либо класса, который последним был присоединен к запросу. Также вместо оператора сравнения этот метод использует оператор присваивания.\n",
    "\n",
    "```\n",
    "record=session.query(Listing.listing_id, Listing) \\\n",
    "    .filter_by(bedrooms=4, price=679).all()\n",
    "print(record)\n",
    "```"
   ]
  },
  {
   "cell_type": "markdown",
   "metadata": {},
   "source": [
    "## Условные методы"
   ]
  },
  {
   "cell_type": "code",
   "execution_count": 47,
   "metadata": {},
   "outputs": [
    {
     "data": {
      "text/html": [
       "<div>\n",
       "<style scoped>\n",
       "    .dataframe tbody tr th:only-of-type {\n",
       "        vertical-align: middle;\n",
       "    }\n",
       "\n",
       "    .dataframe tbody tr th {\n",
       "        vertical-align: top;\n",
       "    }\n",
       "\n",
       "    .dataframe thead th {\n",
       "        text-align: right;\n",
       "    }\n",
       "</style>\n",
       "<table border=\"1\" class=\"dataframe\">\n",
       "  <thead>\n",
       "    <tr style=\"text-align: right;\">\n",
       "      <th></th>\n",
       "      <th>Метод</th>\n",
       "      <th>Описание</th>\n",
       "    </tr>\n",
       "  </thead>\n",
       "  <tbody>\n",
       "    <tr>\n",
       "      <th>0</th>\n",
       "      <td>between(cleft,cright)</td>\n",
       "      <td>Поиск значения между cleft и cright</td>\n",
       "    </tr>\n",
       "    <tr>\n",
       "      <th>1</th>\n",
       "      <td>concat(column_two)</td>\n",
       "      <td>Соединяет столбкц со столбцом 2</td>\n",
       "    </tr>\n",
       "    <tr>\n",
       "      <th>2</th>\n",
       "      <td>distinct()</td>\n",
       "      <td>Вывод без повторов</td>\n",
       "    </tr>\n",
       "    <tr>\n",
       "      <th>3</th>\n",
       "      <td>in_([list])</td>\n",
       "      <td>Если значение находится в списке</td>\n",
       "    </tr>\n",
       "    <tr>\n",
       "      <th>4</th>\n",
       "      <td>is_(None)</td>\n",
       "      <td>Проверка на пустое значение</td>\n",
       "    </tr>\n",
       "    <tr>\n",
       "      <th>5</th>\n",
       "      <td>contains(string)</td>\n",
       "      <td>Если значение содержит подстроку (регистр)</td>\n",
       "    </tr>\n",
       "    <tr>\n",
       "      <th>6</th>\n",
       "      <td>endswith(string)</td>\n",
       "      <td>Оканчивается на подстроку</td>\n",
       "    </tr>\n",
       "    <tr>\n",
       "      <th>7</th>\n",
       "      <td>like(string)</td>\n",
       "      <td>Поиск по шаблону (зависит от регистра)</td>\n",
       "    </tr>\n",
       "    <tr>\n",
       "      <th>8</th>\n",
       "      <td>startswith(string)</td>\n",
       "      <td>Начинается с</td>\n",
       "    </tr>\n",
       "    <tr>\n",
       "      <th>9</th>\n",
       "      <td>ilike(string)</td>\n",
       "      <td>Поиск по шаблону (не зависит от регистра)</td>\n",
       "    </tr>\n",
       "    <tr>\n",
       "      <th>10</th>\n",
       "      <td>notlike, notin_ ...</td>\n",
       "      <td>имеются инверсии not&lt;method&gt;</td>\n",
       "    </tr>\n",
       "    <tr>\n",
       "      <th>11</th>\n",
       "      <td>isnot</td>\n",
       "      <td>Единственное исключение</td>\n",
       "    </tr>\n",
       "  </tbody>\n",
       "</table>\n",
       "</div>"
      ],
      "text/plain": [
       "                    Метод                                    Описание\n",
       "0   between(cleft,cright)         Поиск значения между cleft и cright\n",
       "1      concat(column_two)             Соединяет столбкц со столбцом 2\n",
       "2              distinct()                          Вывод без повторов\n",
       "3             in_([list])            Если значение находится в списке\n",
       "4               is_(None)                 Проверка на пустое значение\n",
       "5        contains(string)  Если значение содержит подстроку (регистр)\n",
       "6        endswith(string)                   Оканчивается на подстроку\n",
       "7            like(string)      Поиск по шаблону (зависит от регистра)\n",
       "8      startswith(string)                                Начинается с\n",
       "9           ilike(string)   Поиск по шаблону (не зависит от регистра)\n",
       "10    notlike, notin_ ...                имеются инверсии not<method>\n",
       "11                  isnot                     Единственное исключение"
      ]
     },
     "execution_count": 47,
     "metadata": {},
     "output_type": "execute_result"
    }
   ],
   "source": [
    "CM=pd.read_csv('./Data/ClauseMethods.csv', sep=';')\n",
    "CM"
   ]
  },
  {
   "cell_type": "code",
   "execution_count": 48,
   "metadata": {
    "scrolled": true
   },
   "outputs": [
    {
     "data": {
      "text/plain": [
       "[(47517, 'Geert Alexander'),\n",
       " (59484, 'Alexander'),\n",
       " (17873793, 'Alexander'),\n",
       " (20766093, 'Alexander'),\n",
       " (23593514, 'Alexander'),\n",
       " (25084932, 'Alexander'),\n",
       " (26045647, 'Alexander'),\n",
       " (72822537, 'Alexander'),\n",
       " (207287996, 'Alexander')]"
      ]
     },
     "execution_count": 48,
     "metadata": {},
     "output_type": "execute_result"
    }
   ],
   "source": [
    "session.query(Host.host_id, Host.host_name) \\\n",
    "    .filter(Host.host_name.like('%Alexander%')).all()"
   ]
  },
  {
   "cell_type": "markdown",
   "metadata": {},
   "source": [
    "## Логические связки\n",
    "\n",
    "### *and_(), or_(), not_()*"
   ]
  },
  {
   "cell_type": "code",
   "execution_count": 49,
   "metadata": {},
   "outputs": [
    {
     "data": {
      "text/plain": [
       "[(2026455,\n",
       "  Listing(listing_name='Sailing ship Isis.', listing_url='https://www.airbnb.com/rooms/2026455', amenities='[\"Oven\", \"Hot water\", \"Coffee maker\", \"Fire extinguisher\", \"Essentials\", \"Dryer\", \"First aid kit\", \"Kitchen\", \"Dishes and silverware\", \"Heating\", \"Cooking basics\", \"Washer\", \"Refrigerator\", \"Smoke alarm\", \"Stove\"]', bedrooms='9', price='636.00'))]"
      ]
     },
     "execution_count": 49,
     "metadata": {},
     "output_type": "execute_result"
    }
   ],
   "source": [
    "from sqlalchemy import and_, or_, not_\n",
    "\n",
    "session.query(Listing.listing_id, Listing).filter(\n",
    "    and_(\n",
    "        Listing.bedrooms>6,\n",
    "        Listing.price.between(600, 700)\n",
    "    )\n",
    ").all()"
   ]
  },
  {
   "cell_type": "markdown",
   "metadata": {},
   "source": [
    "## 6.4.5. Обновление. Метод *update()*\n",
    "\n",
    "Рассмотрим два способа обновления данных. Найдем в базе данных объект размещения с ценой 679."
   ]
  },
  {
   "cell_type": "code",
   "execution_count": 50,
   "metadata": {
    "scrolled": true
   },
   "outputs": [
    {
     "data": {
      "text/plain": [
       "[(1237639,\n",
       "  Listing(listing_name='Apartment 1653', listing_url='https://www.airbnb.com/rooms/1237639', amenities='[\"Wifi\", \"Iron\", \"Microwave\", \"Dishwasher\", \"Essentials\", \"Kitchen\", \"Hair dryer\", \"TV\", \"Heating\", \"Cooking basics\", \"Refrigerator\", \"Stove\"]', bedrooms='4', price='679.00'))]"
      ]
     },
     "execution_count": 50,
     "metadata": {},
     "output_type": "execute_result"
    }
   ],
   "source": [
    "session.query(Listing.listing_id, Listing).filter(Listing.price==679).all()"
   ]
  },
  {
   "cell_type": "markdown",
   "metadata": {},
   "source": [
    "Увеличим цену на 1."
   ]
  },
  {
   "cell_type": "code",
   "execution_count": 51,
   "metadata": {
    "scrolled": true
   },
   "outputs": [
    {
     "name": "stdout",
     "output_type": "stream",
     "text": [
      "Listing(listing_name='Apartment 1653', listing_url='https://www.airbnb.com/rooms/1237639', amenities='[\"Wifi\", \"Iron\", \"Microwave\", \"Dishwasher\", \"Essentials\", \"Kitchen\", \"Hair dryer\", \"TV\", \"Heating\", \"Cooking basics\", \"Refrigerator\", \"Stove\"]', bedrooms='4', price='679.00')\n",
      "680.00\n"
     ]
    }
   ],
   "source": [
    "q = session.query(Listing)\n",
    "w = q.filter(Listing.listing_id == 1237639).one()\n",
    "print(w)\n",
    "w.price = w.price + 1\n",
    "session.commit()\n",
    "\n",
    "print(w.price)"
   ]
  },
  {
   "cell_type": "markdown",
   "metadata": {},
   "source": [
    "И еще на 1."
   ]
  },
  {
   "cell_type": "code",
   "execution_count": 52,
   "metadata": {},
   "outputs": [
    {
     "name": "stdout",
     "output_type": "stream",
     "text": [
      "Listing(listing_name='Apartment 1653', listing_url='https://www.airbnb.com/rooms/1237639', amenities='[\"Wifi\", \"Iron\", \"Microwave\", \"Dishwasher\", \"Essentials\", \"Kitchen\", \"Hair dryer\", \"TV\", \"Heating\", \"Cooking basics\", \"Refrigerator\", \"Stove\"]', bedrooms='4', price='681.00')\n"
     ]
    }
   ],
   "source": [
    "q = session.query(Listing)\n",
    "q = q.filter(Listing.listing_id == 1237639)\n",
    "q.update({Listing.price: Listing.price + 1})\n",
    "\n",
    "print(q.first())"
   ]
  },
  {
   "cell_type": "markdown",
   "metadata": {},
   "source": [
    "## 6.4.6.Удаление. Метод *delete()*\n",
    "\n",
    "Рассмотрим способы удаления данных. Найдём все объекты, в названии которых имеется фраза \"bright & quiet\"."
   ]
  },
  {
   "cell_type": "code",
   "execution_count": 53,
   "metadata": {},
   "outputs": [
    {
     "data": {
      "text/plain": [
       "[(9462244, 'Modern, bright & quiet apartment'),\n",
       " (33677630, 'Bright & quiet home with garden, close to centre')]"
      ]
     },
     "execution_count": 53,
     "metadata": {},
     "output_type": "execute_result"
    }
   ],
   "source": [
    "filter_condition=Listing.listing_name.like('%bright & quiet%')\n",
    "\n",
    "session.query(Listing.listing_id, Listing.listing_name) \\\n",
    "    .order_by(Listing.listing_id) \\\n",
    "    .filter(filter_condition).all()"
   ]
  },
  {
   "cell_type": "markdown",
   "metadata": {},
   "source": [
    "Удалим все такие записи"
   ]
  },
  {
   "cell_type": "code",
   "execution_count": 54,
   "metadata": {},
   "outputs": [],
   "source": [
    "# 1\n",
    "q = session.query(Listing)\n",
    "q = q.filter(filter_condition)\n",
    "records_to_del = q.all()\n",
    "for record in records_to_del:\n",
    "    session.delete(record)\n",
    "session.commit()"
   ]
  },
  {
   "cell_type": "markdown",
   "metadata": {},
   "source": [
    "Проверим, остались ли записи, соответствующие условию"
   ]
  },
  {
   "cell_type": "code",
   "execution_count": 55,
   "metadata": {},
   "outputs": [
    {
     "data": {
      "text/plain": [
       "[]"
      ]
     },
     "execution_count": 55,
     "metadata": {},
     "output_type": "execute_result"
    }
   ],
   "source": [
    "q=session.query(Listing)\n",
    "q=q.filter(Listing.listing_name.like(filter_condition))\n",
    "q.all()"
   ]
  },
  {
   "cell_type": "markdown",
   "metadata": {},
   "source": [
    "## 6.4.7. Соединение таблиц. Методы *join* и *outerjoin*\n",
    "\n",
    "Найдем все объекты размещения, заказанные пользователем *Vera*. Как мог бы выглядеть поиск этих объектов без *join?* Например, так:"
   ]
  },
  {
   "cell_type": "code",
   "execution_count": 56,
   "metadata": {
    "scrolled": true
   },
   "outputs": [
    {
     "data": {
      "text/plain": [
       "[(2550571, 'Cosy, Quiet & Stylish close to Jordaan and Centre!'),\n",
       " (18225467, 'Comfortable bright family house, close to ferry'),\n",
       " (3908795, 'Gorgeous House near Vondelpark area')]"
      ]
     },
     "execution_count": 56,
     "metadata": {},
     "output_type": "execute_result"
    }
   ],
   "source": [
    "q=session.query(Listing.listing_id, Listing.listing_name)\n",
    "q=q.filter(Listing.listing_id==Line_item.listing_id)\n",
    "q=q.filter(Line_item.order_id==Order.order_id)\n",
    "q=q.filter(Order.user_id==User.user_id)\n",
    "q=q.filter(User.username=='Vera')\n",
    "\n",
    "q.all()"
   ]
  },
  {
   "cell_type": "markdown",
   "metadata": {},
   "source": [
    "Или так:"
   ]
  },
  {
   "cell_type": "code",
   "execution_count": 57,
   "metadata": {},
   "outputs": [
    {
     "data": {
      "text/plain": [
       "[(2550571, 'Cosy, Quiet & Stylish close to Jordaan and Centre!'),\n",
       " (3908795, 'Gorgeous House near Vondelpark area'),\n",
       " (18225467, 'Comfortable bright family house, close to ferry')]"
      ]
     },
     "execution_count": 57,
     "metadata": {},
     "output_type": "execute_result"
    }
   ],
   "source": [
    "q4=session.query(User.user_id).filter(User.username=='Vera')\n",
    "q3=session.query(Order.order_id).filter(Order.user_id==q4)\n",
    "q2=session.query(Line_item.listing_id).filter(Line_item.order_id.in_(q3))\n",
    "q1=session.query(Listing.listing_id, Listing.listing_name)\n",
    "q1=q1.filter(Listing.listing_id.in_(q2))\n",
    "\n",
    "q1.all()"
   ]
  },
  {
   "cell_type": "markdown",
   "metadata": {},
   "source": [
    "Выполним этот запрос с использованием соединения *join*"
   ]
  },
  {
   "cell_type": "code",
   "execution_count": 58,
   "metadata": {},
   "outputs": [
    {
     "data": {
      "text/plain": [
       "[(2550571, 'Cosy, Quiet & Stylish close to Jordaan and Centre!'),\n",
       " (18225467, 'Comfortable bright family house, close to ferry'),\n",
       " (3908795, 'Gorgeous House near Vondelpark area')]"
      ]
     },
     "execution_count": 58,
     "metadata": {},
     "output_type": "execute_result"
    }
   ],
   "source": [
    "q=session.query(Listing.listing_id, Listing.listing_name)\n",
    "q=q.join(Line_item).join(Order).join(User)\n",
    "q=q.filter(User.username=='Vera')\n",
    "\n",
    "q.all()"
   ]
  },
  {
   "cell_type": "markdown",
   "metadata": {},
   "source": [
    "## 6.4.8. Группировка. Метод *group_by*\n",
    "\n",
    "Найдём, сколько объектов заказали клиенты."
   ]
  },
  {
   "cell_type": "code",
   "execution_count": 59,
   "metadata": {
    "scrolled": true
   },
   "outputs": [
    {
     "name": "stdout",
     "output_type": "stream",
     "text": [
      "SELECT users.username AS users_username, count(listings.listing_id) AS cnt \n",
      "FROM users JOIN orders ON users.user_id = orders.user_id JOIN line_items ON orders.order_id = line_items.order_id JOIN listings ON listings.listing_id = line_items.listing_id GROUP BY users.user_id\n"
     ]
    },
    {
     "data": {
      "text/plain": [
       "[('Nicolas', 3), ('Lida', 1), ('Vera', 3), ('Ivan', 2)]"
      ]
     },
     "execution_count": 59,
     "metadata": {},
     "output_type": "execute_result"
    }
   ],
   "source": [
    "q=session.query(User.username, func.count(Listing.listing_id).label('cnt'))\n",
    "q=q.join(Order).join(Line_item).join(Listing)\n",
    "q=q.group_by(User.user_id)\n",
    "print(str(q))\n",
    "q.all()"
   ]
  },
  {
   "cell_type": "markdown",
   "metadata": {},
   "source": [
    "В нашей  базе данных есть пользователь Svetlana с user_id=5, который разместил четыре заказа:"
   ]
  },
  {
   "cell_type": "code",
   "execution_count": 60,
   "metadata": {},
   "outputs": [
    {
     "data": {
      "text/plain": [
       "[(9), (10), (11), (12)]"
      ]
     },
     "execution_count": 60,
     "metadata": {},
     "output_type": "execute_result"
    }
   ],
   "source": [
    "sv_orders=session.query(Order.order_id).filter(Order.user_id==5)\n",
    "sv_orders.all()"
   ]
  },
  {
   "cell_type": "markdown",
   "metadata": {},
   "source": [
    "при этом не сделал ни одной детализации, т.е. не указал конкрентых объектов:"
   ]
  },
  {
   "cell_type": "code",
   "execution_count": 61,
   "metadata": {},
   "outputs": [
    {
     "data": {
      "text/plain": [
       "0"
      ]
     },
     "execution_count": 61,
     "metadata": {},
     "output_type": "execute_result"
    }
   ],
   "source": [
    "sv_items=session.query(func.count(Line_item.listing_id))\n",
    "sv_items=sv_items.filter(Line_item.order_id.in_(sv_orders))\n",
    "sv_items.scalar()"
   ]
  },
  {
   "cell_type": "markdown",
   "metadata": {},
   "source": [
    "С помощью *outerjoin* распечатаем число объектов для каждого клиента, включая клиентов, которые не детализировали ни однго заказа."
   ]
  },
  {
   "cell_type": "code",
   "execution_count": 62,
   "metadata": {},
   "outputs": [
    {
     "name": "stdout",
     "output_type": "stream",
     "text": [
      "SELECT users.username AS users_username, count(listings.listing_id) AS cnt \n",
      "FROM users JOIN orders ON users.user_id = orders.user_id LEFT OUTER JOIN line_items ON orders.order_id = line_items.order_id LEFT OUTER JOIN listings ON listings.listing_id = line_items.listing_id GROUP BY users.user_id\n"
     ]
    },
    {
     "data": {
      "text/plain": [
       "[('Nicolas', 3), ('Lida', 1), ('Vera', 3), ('Ivan', 2), ('Svetlana', 0)]"
      ]
     },
     "execution_count": 62,
     "metadata": {},
     "output_type": "execute_result"
    }
   ],
   "source": [
    "q=session.query(User.username, func.count(Listing.listing_id).label('cnt'))\n",
    "q=q.join(Order).outerjoin(Line_item).outerjoin(Listing)\n",
    "q=q.group_by(User.user_id)\n",
    "print(str(q))\n",
    "q.all()"
   ]
  },
  {
   "cell_type": "markdown",
   "metadata": {},
   "source": [
    "## 6.4.9. Прямые запросы"
   ]
  },
  {
   "cell_type": "code",
   "execution_count": 63,
   "metadata": {},
   "outputs": [],
   "source": [
    "from sqlalchemy import text"
   ]
  },
  {
   "cell_type": "code",
   "execution_count": 64,
   "metadata": {
    "scrolled": false
   },
   "outputs": [
    {
     "name": "stdout",
     "output_type": "stream",
     "text": [
      "[User(username='Lida', email_address='lidaok@gmail.com', phone='+7-929-616-88-77', password='yyT$%333')]\n"
     ]
    }
   ],
   "source": [
    "q=session.query(User).filter(text(\"username=='Lida'\"))\n",
    "print(q.all())"
   ]
  },
  {
   "cell_type": "markdown",
   "metadata": {},
   "source": [
    "<a id=T_3_5></a>\n",
    "[<= ](#T_3_4)||[ К оглавлению ](#Ref)||[ =>](#T_3_6)\n",
    "\n",
    "# 6.5. Отображение\n",
    "\n",
    "Чтобы отобразить базу данных, вместо класса *declarative_base* будем использовать базовый класс автосопоставления *automap_base*. Начнем с создания базового объекта *Base.*"
   ]
  },
  {
   "cell_type": "code",
   "execution_count": 2,
   "metadata": {},
   "outputs": [],
   "source": [
    "from sqlalchemy.ext.automap import automap_base\n",
    "Base = automap_base()"
   ]
  },
  {
   "cell_type": "markdown",
   "metadata": {},
   "source": [
    "Теперь нам необходим механизм соединения с базой данных, которую мы хотим отобразить"
   ]
  },
  {
   "cell_type": "code",
   "execution_count": 3,
   "metadata": {},
   "outputs": [],
   "source": [
    "from sqlalchemy import create_engine\n",
    "engine = create_engine('sqlite:///Data/Students_2021.sqlite')"
   ]
  },
  {
   "cell_type": "markdown",
   "metadata": {},
   "source": [
    "С базовым объектом и настройкой движка у нас есть все необходимое для отображения базы данных. Метода *prepare* объекта *Base* просканирует все, что доступно в движке, который мы только что создали, и сделает отображение."
   ]
  },
  {
   "cell_type": "code",
   "execution_count": 4,
   "metadata": {},
   "outputs": [],
   "source": [
    "Base.prepare(engine, reflect=True)"
   ]
  },
  {
   "cell_type": "markdown",
   "metadata": {},
   "source": [
    "Эта строка кода - все, что нужно, чтобы отобразить всю базу данных! Теперь объекты ORM для каждой таблицы доступны в свойстве *classes* объекта *Base*."
   ]
  },
  {
   "cell_type": "code",
   "execution_count": 5,
   "metadata": {},
   "outputs": [
    {
     "data": {
      "text/plain": [
       "['city',\n",
       " 'exam_marks',\n",
       " 'student',\n",
       " 'university',\n",
       " 'subject',\n",
       " 'lecturer',\n",
       " 'subj_lect']"
      ]
     },
     "execution_count": 5,
     "metadata": {},
     "output_type": "execute_result"
    }
   ],
   "source": [
    "Base.classes.keys()"
   ]
  },
  {
   "cell_type": "markdown",
   "metadata": {},
   "source": [
    "Если к отображенной базе данных нужно добавить таблицу. Добавление таблицы вручную. Пример.\n",
    "```\n",
    "from sqlalchemy import (Table, Column, \n",
    "                        Integer, Numeric, String, Boolean,\n",
    "                        ForeignKey, ForeignKeyConstraint, CheckConstraint)\n",
    "\n",
    "from datetime import datetime\n",
    "from sqlalchemy import DateTime\n",
    "\n",
    "# Инструкцию Base = declarative_base() не используем.\n",
    "# Вместо этого используем созданный выше Base = automap_base(). \n",
    "# Новый Base не создаем, так как нам надо добавить таблицу \n",
    "# не в новую, а в уже отображенную БД\n",
    "\n",
    "class Subj_lect(Base):\n",
    "    __tablename__ = 'subj_lect'\n",
    "\n",
    "    subj_lect_id = Column(Integer(), primary_key = True)\n",
    "    lecturer_id = Column(Integer())\n",
    "    subj_id = Column(Integer())\n",
    "    \n",
    "    __table_args__ = (\n",
    "        ForeignKeyConstraint(['lecturer_id'],['lecturer.lecturer_id']),\n",
    "        ForeignKeyConstraint(['subj_id'], ['subject.subj_id']),\n",
    "    )\n",
    "\n",
    "Base.metadata.create_all(engine)\n",
    "```"
   ]
  },
  {
   "cell_type": "markdown",
   "metadata": {},
   "source": [
    "Создадим объекты для ссылок на таблицы"
   ]
  },
  {
   "cell_type": "code",
   "execution_count": 6,
   "metadata": {},
   "outputs": [],
   "source": [
    "city,exam_marks,student,university,subject,lecturer,subj_lect = Base.classes.values()\n",
    "#Album,Artist,Customer,Employee,Genre,Invoice,InvoiceLine,Track,MediaType,Playlist = Base.classes.values()"
   ]
  },
  {
   "cell_type": "markdown",
   "metadata": {},
   "source": [
    "Выполним запрос. Распечатаем информацию о предметах"
   ]
  },
  {
   "cell_type": "code",
   "execution_count": 7,
   "metadata": {},
   "outputs": [],
   "source": [
    "from sqlalchemy.orm import Session\n",
    "session = Session(engine)"
   ]
  },
  {
   "cell_type": "code",
   "execution_count": 8,
   "metadata": {},
   "outputs": [
    {
     "name": "stdout",
     "output_type": "stream",
     "text": [
      "10 Информатика 56\n",
      "11 Программирование 34\n",
      "12 Анализ данных 42\n",
      "13 ОБЖ 34\n",
      "22 Физика 34\n",
      "43 Математика 56\n",
      "56 История 34\n",
      "73 Физкультура 34\n",
      "94 Английский 56\n"
     ]
    }
   ],
   "source": [
    "for record in session.query(subject).all():\n",
    "    print(record.subj_id, record.subj_name, record.hour)"
   ]
  },
  {
   "cell_type": "markdown",
   "metadata": {},
   "source": [
    "Распечатаем имена, фамилии преподавателей и названия предметов, которые они ведут. Для каждого использования метода *join* уточним атрибуты соединения."
   ]
  },
  {
   "cell_type": "code",
   "execution_count": 9,
   "metadata": {},
   "outputs": [
    {
     "data": {
      "text/plain": [
       "[('Лукия', 'Сафонова', 'Информатика'),\n",
       " ('Лукия', 'Сафонова', 'Программирование'),\n",
       " ('Юлия', 'Зайцева', 'Анализ данных'),\n",
       " ('Акулина', 'Мамонтова', 'Физика'),\n",
       " ('Павел', 'Лагутин', 'История'),\n",
       " ('Иванна', 'Максимова', 'История'),\n",
       " ('Михаил', 'Волков', 'Физкультура'),\n",
       " ('Оксана', 'Богданова', 'Анализ данных'),\n",
       " ('Оксана', 'Богданова', 'Математика')]"
      ]
     },
     "execution_count": 9,
     "metadata": {},
     "output_type": "execute_result"
    }
   ],
   "source": [
    "q=session.query(lecturer.name, lecturer.surname, subject.subj_name)\n",
    "q=q.join(subj_lect, lecturer.lecturer_id==subj_lect.lecturer_id)\n",
    "q=q.join(subject, subj_lect.subj_id==subject.subj_id)\n",
    "q.all()"
   ]
  },
  {
   "cell_type": "markdown",
   "metadata": {},
   "source": [
    "Автосопоставление *Automap* может автоматически отображать и устанавливать отношения «много к одному», «один ко многим» и «много ко многим» посредством создания свойства `<related_object>_collection`."
   ]
  },
  {
   "cell_type": "code",
   "execution_count": null,
   "metadata": {
    "scrolled": true
   },
   "outputs": [],
   "source": [
    "lecturer.__table__"
   ]
  },
  {
   "cell_type": "code",
   "execution_count": null,
   "metadata": {
    "scrolled": false
   },
   "outputs": [],
   "source": [
    "university.__table__"
   ]
  },
  {
   "cell_type": "code",
   "execution_count": 10,
   "metadata": {
    "scrolled": true
   },
   "outputs": [
    {
     "name": "stdout",
     "output_type": "stream",
     "text": [
      "Политех Лукия Сафонова\n",
      "Политех Руслан Стрелков\n",
      "Политех Юлиан Зимин\n"
     ]
    }
   ],
   "source": [
    "u = session.query(university).filter(university.univ_id==46).one()\n",
    "for l in u.lecturer_collection:\n",
    "    print(u.univ_name, l.name, l.surname)"
   ]
  },
  {
   "cell_type": "markdown",
   "metadata": {},
   "source": [
    "Дополнительно об отображении данных в <a href=\"https://docs.sqlalchemy.org/en/14/orm/extensions/automap.html#specifying-classes-explcitly\">документации</a>"
   ]
  },
  {
   "cell_type": "markdown",
   "metadata": {},
   "source": [
    "<a id=T_3_6></a>\n",
    "[<= ](#T_3_5)||[ К оглавлению ](#Ref)||[ =>](#T_3_7)\n",
    "\n",
    "# 6.6. Сеанс\n",
    "\n",
    "Когда мы используем запрос для получения объекта, мы возвращаем объект, связанный с сеансом. Этот объект может перемещаться через несколько состояний по отношению к сеансу.Существует четыре возможных состояния экземпляров объекта данных:\n",
    "- Transient (временное): экземпляр не находится в сеансе и отсутствует в базе данных.\n",
    "- Pending (в ожидании): экземпляр был добавлен в сеанс с помощью *add()*, но не был сброшен или зафиксирован.\n",
    "- Persistent (постоянное): объект в сеансе имеет соответствующую запись в базе данных.\n",
    "- Detached (отсоединенное): экземпляр больше не подключен к сеансу, но имеет запись в базе данных.\n",
    "\n",
    "Мы можем наблюдать, как экземпляр проходит свои состояния. Выполним отображение *Listings.db*"
   ]
  },
  {
   "cell_type": "code",
   "execution_count": 12,
   "metadata": {},
   "outputs": [],
   "source": [
    "from sqlalchemy.ext.automap import automap_base\n",
    "from sqlalchemy.orm import Session\n",
    "from sqlalchemy import create_engine\n",
    "from datetime import datetime\n",
    "engine = create_engine('sqlite:///Listings.db')\n",
    "Base = automap_base()\n",
    "Base.prepare(engine, reflect=True)\n",
    "session = Session(engine)"
   ]
  },
  {
   "cell_type": "code",
   "execution_count": 13,
   "metadata": {},
   "outputs": [
    {
     "data": {
      "text/plain": [
       "['hosts',\n",
       " 'line_items',\n",
       " 'orders',\n",
       " 'users',\n",
       " 'listings',\n",
       " 'neighbourhoods',\n",
       " 'property_types',\n",
       " 'room_types']"
      ]
     },
     "execution_count": 13,
     "metadata": {},
     "output_type": "execute_result"
    }
   ],
   "source": [
    "Base.classes.keys()"
   ]
  },
  {
   "cell_type": "code",
   "execution_count": 14,
   "metadata": {},
   "outputs": [],
   "source": [
    "listings = Base.classes.listings\n",
    "line_items = Base.classes.line_items\n",
    "orders = Base.classes.orders\n",
    "users = Base.classes.users"
   ]
  },
  {
   "cell_type": "markdown",
   "metadata": {},
   "source": [
    "Создадим экземпляр детализации заказа пользователя Svetlana. Вспомним сначала, какие заказы она разместила."
   ]
  },
  {
   "cell_type": "code",
   "execution_count": 15,
   "metadata": {
    "scrolled": true
   },
   "outputs": [
    {
     "name": "stdout",
     "output_type": "stream",
     "text": [
      "9 2020-05-09 00:00:00\n",
      "10 2020-05-10 00:00:00\n",
      "11 2021-05-09 00:00:00\n",
      "12 2021-05-09 00:00:00\n"
     ]
    }
   ],
   "source": [
    "sv_orders = session.query(orders).filter(orders.user_id==5).all()\n",
    "for item in sv_orders:\n",
    "    print(item.order_id, item.created_on)"
   ]
  },
  {
   "cell_type": "markdown",
   "metadata": {},
   "source": [
    "Создадим детализацию заказа № 9. Пусть это будет объект 29051 Amsterdam Center Entire Apartment в период с 1 по 11 мая 2021 года."
   ]
  },
  {
   "cell_type": "code",
   "execution_count": 16,
   "metadata": {},
   "outputs": [],
   "source": [
    "a_line_item = line_items(order_id = int(9),\n",
    "                         listing_id = int(29051),\n",
    "                         item_start_date = datetime.strptime('2021-05-01','%Y-%m-%d'),\n",
    "                         item_end_date = datetime(2021,5,11)\n",
    "                        )"
   ]
  },
  {
   "cell_type": "markdown",
   "metadata": {},
   "source": [
    "Чтобы увидеть состояние экземпляра, применим метод SQLAlchemy *inspect()*."
   ]
  },
  {
   "cell_type": "code",
   "execution_count": 11,
   "metadata": {},
   "outputs": [],
   "source": [
    "from sqlalchemy import inspect\n",
    "insp = inspect(a_line_item)"
   ]
  },
  {
   "cell_type": "markdown",
   "metadata": {},
   "source": [
    "Теперь мы можем обратиться к свойствам объекта *insp: transient, pending, persistent, detached*."
   ]
  },
  {
   "cell_type": "code",
   "execution_count": 25,
   "metadata": {},
   "outputs": [
    {
     "name": "stdout",
     "output_type": "stream",
     "text": [
      "False False\n"
     ]
    }
   ],
   "source": [
    "print(insp.transient, insp.pending,)"
   ]
  },
  {
   "cell_type": "markdown",
   "metadata": {},
   "source": [
    "Пройдем в цикле по всем свойствам."
   ]
  },
  {
   "cell_type": "code",
   "execution_count": 15,
   "metadata": {
    "scrolled": false
   },
   "outputs": [
    {
     "name": "stdout",
     "output_type": "stream",
     "text": [
      " transient: True\n",
      "   pending: False\n",
      "persistent: False\n",
      "  detached: False\n"
     ]
    }
   ],
   "source": [
    "for state in ['transient', 'pending', 'persistent', 'detached']:\n",
    "    print('{:>10}: {}'.format(state, getattr(insp, state)))"
   ]
  },
  {
   "cell_type": "markdown",
   "metadata": {},
   "source": [
    "Как видим в выходных данных, текущее состояние нашего экземпляра детализации заказов является временным, то есть в состоянии, в котором находятся вновь созданные объекты до того, как они будут сброшены или зафиксированы в базе данных. Если мы добавим *a_line_item* в текущий сеанс и повторно запросим состояние, мы получим следующий результат:"
   ]
  },
  {
   "cell_type": "code",
   "execution_count": 18,
   "metadata": {},
   "outputs": [],
   "source": [
    "session.add(a_line_item)"
   ]
  },
  {
   "cell_type": "code",
   "execution_count": 19,
   "metadata": {},
   "outputs": [
    {
     "name": "stdout",
     "output_type": "stream",
     "text": [
      " transient: False\n",
      "   pending: True\n",
      "persistent: False\n",
      "  detached: False\n"
     ]
    }
   ],
   "source": [
    "for state in ['transient', 'pending', 'persistent', 'detached']:\n",
    "    print('{:>10}: {}'.format(state, getattr(insp, state)))"
   ]
  },
  {
   "cell_type": "markdown",
   "metadata": {},
   "source": [
    "Состояние изменилось. Подтвердим изменения."
   ]
  },
  {
   "cell_type": "code",
   "execution_count": 20,
   "metadata": {},
   "outputs": [],
   "source": [
    "session.commit()"
   ]
  },
  {
   "cell_type": "code",
   "execution_count": 21,
   "metadata": {},
   "outputs": [
    {
     "name": "stdout",
     "output_type": "stream",
     "text": [
      " transient: False\n",
      "   pending: False\n",
      "persistent: True\n",
      "  detached: False\n"
     ]
    }
   ],
   "source": [
    "for state in ['transient', 'pending', 'persistent', 'detached']:\n",
    "    print('{:>10}: {}'.format(state, getattr(insp, state)))"
   ]
  },
  {
   "cell_type": "markdown",
   "metadata": {},
   "source": [
    "Для демонстрации отсоединенного состояния выполним метод *expunge,* который используется для удаления объекта из сессии."
   ]
  },
  {
   "cell_type": "code",
   "execution_count": 23,
   "metadata": {},
   "outputs": [],
   "source": [
    "session.expunge(a_line_item)"
   ]
  },
  {
   "cell_type": "code",
   "execution_count": 24,
   "metadata": {},
   "outputs": [
    {
     "name": "stdout",
     "output_type": "stream",
     "text": [
      " transient: False\n",
      "   pending: False\n",
      "persistent: False\n",
      "  detached: True\n"
     ]
    }
   ],
   "source": [
    "for state in ['transient', 'pending', 'persistent', 'detached']:\n",
    "    print('{:>10}: {}'.format(state, getattr(insp, state)))"
   ]
  },
  {
   "cell_type": "markdown",
   "metadata": {},
   "source": [
    "Посмотрим теперь, как использовать  инспектор для отображения истории изменений. Вернём объект в сессию и изменим номер объекта. Пусть теперь это объект 41125 Amsterdam Center Entire Apartment."
   ]
  },
  {
   "cell_type": "code",
   "execution_count": 26,
   "metadata": {},
   "outputs": [],
   "source": [
    "session.add(a_line_item)\n",
    "a_line_item.listing_id = 41125"
   ]
  },
  {
   "cell_type": "markdown",
   "metadata": {},
   "source": [
    "Применим свойство инспектора *modified*"
   ]
  },
  {
   "cell_type": "code",
   "execution_count": 27,
   "metadata": {},
   "outputs": [
    {
     "data": {
      "text/plain": [
       "True"
      ]
     },
     "execution_count": 27,
     "metadata": {},
     "output_type": "execute_result"
    }
   ],
   "source": [
    "insp.modified"
   ]
  },
  {
   "cell_type": "markdown",
   "metadata": {},
   "source": [
    "Мы получили значение истины. Используем теперь коллекцию *attr*, чтобы узнать, что было изменено."
   ]
  },
  {
   "cell_type": "code",
   "execution_count": 29,
   "metadata": {},
   "outputs": [
    {
     "name": "stdout",
     "output_type": "stream",
     "text": [
      "listing_id: 41125\n",
      "History: History(added=[41125], unchanged=(), deleted=())\n",
      "\n"
     ]
    }
   ],
   "source": [
    "for attr, attr_state in insp.attrs.items():\n",
    "    if attr_state.history.has_changes(): # Проверка состояния атрибута\n",
    "        print('{}: {}'.format(attr, attr_state.value))\n",
    "        print('History: {}\\n'.format(attr_state.history)) # История измененного объекта"
   ]
  },
  {
   "cell_type": "markdown",
   "metadata": {},
   "source": [
    "В результате мы получили данные об изменении идентификатора объекта. На этом примере мы изучили, как объекты взаимодействуют с сессией."
   ]
  }
 ],
 "metadata": {
  "kernelspec": {
   "display_name": "Python 3",
   "language": "python",
   "name": "python3"
  },
  "language_info": {
   "codemirror_mode": {
    "name": "ipython",
    "version": 3
   },
   "file_extension": ".py",
   "mimetype": "text/x-python",
   "name": "python",
   "nbconvert_exporter": "python",
   "pygments_lexer": "ipython3",
   "version": "3.7.6"
  }
 },
 "nbformat": 4,
 "nbformat_minor": 4
}
