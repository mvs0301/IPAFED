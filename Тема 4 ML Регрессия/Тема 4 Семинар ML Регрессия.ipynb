{
 "cells": [
  {
   "cell_type": "markdown",
   "metadata": {},
   "source": [
    "<img src=\"../Img/sci.png\">\n",
    "\n",
    "### <center> Финансовый университет\n",
    "## <center>  Инструментальная поддержка анализа<br> финансово-экономических данных\n",
    "## <center> Тема 4. Введение в машинное обучение. Задачи регрессии\n",
    "\n",
    "Семинар<br>\n",
    "27 марта 2021 года<br>\n",
    "Поток: ПМ18-1, ПМ18-2, ПМ18-3, ПМ18-4\n",
    "\n",
    "Преподаватель: Смирнов Михаил Викторович, mvsmirnov@fa.ru"
   ]
  },
  {
   "cell_type": "markdown",
   "metadata": {},
   "source": [
    "## 1. Регрессионные модели и методы\n",
    "### 1.1. Метод наименьших квадратов"
   ]
  },
  {
   "cell_type": "markdown",
   "metadata": {},
   "source": [
    "Рассмотрим метод наименьших квадратов (МНК) на примере анализа финансово-экономических данных. Имеются данные об изменении цены акции компании \"Роснефть\" в течение одного дня 12 февраля 2021 года в csv-формате. Источник: <a href=\"https://www.finam.ru/\">finam.ru</a>. Измерения проводились через равные промежутки времени в течение дня. Представим эти данные в табличном виде. Добавим столбец ${m\\_id}$ для номера измерения."
   ]
  },
  {
   "cell_type": "code",
   "execution_count": 1,
   "metadata": {},
   "outputs": [],
   "source": [
    "import pandas as pd\n",
    "import numpy as np\n",
    "from matplotlib import pyplot as plt\n",
    "%matplotlib inline"
   ]
  },
  {
   "cell_type": "code",
   "execution_count": 2,
   "metadata": {},
   "outputs": [
    {
     "data": {
      "text/html": [
       "<div>\n",
       "<style scoped>\n",
       "    .dataframe tbody tr th:only-of-type {\n",
       "        vertical-align: middle;\n",
       "    }\n",
       "\n",
       "    .dataframe tbody tr th {\n",
       "        vertical-align: top;\n",
       "    }\n",
       "\n",
       "    .dataframe thead th {\n",
       "        text-align: right;\n",
       "    }\n",
       "</style>\n",
       "<table border=\"1\" class=\"dataframe\">\n",
       "  <thead>\n",
       "    <tr style=\"text-align: right;\">\n",
       "      <th></th>\n",
       "      <th>&lt;TICKER&gt;</th>\n",
       "      <th>&lt;PER&gt;</th>\n",
       "      <th>&lt;DATE&gt;</th>\n",
       "      <th>&lt;TIME&gt;</th>\n",
       "      <th>&lt;CLOSE&gt;</th>\n",
       "      <th>m_id</th>\n",
       "    </tr>\n",
       "  </thead>\n",
       "  <tbody>\n",
       "    <tr>\n",
       "      <th>0</th>\n",
       "      <td>ROSN</td>\n",
       "      <td>60</td>\n",
       "      <td>12/02/21</td>\n",
       "      <td>110000</td>\n",
       "      <td>496.20</td>\n",
       "      <td>1</td>\n",
       "    </tr>\n",
       "    <tr>\n",
       "      <th>1</th>\n",
       "      <td>ROSN</td>\n",
       "      <td>60</td>\n",
       "      <td>12/02/21</td>\n",
       "      <td>120000</td>\n",
       "      <td>489.90</td>\n",
       "      <td>2</td>\n",
       "    </tr>\n",
       "    <tr>\n",
       "      <th>2</th>\n",
       "      <td>ROSN</td>\n",
       "      <td>60</td>\n",
       "      <td>12/02/21</td>\n",
       "      <td>130000</td>\n",
       "      <td>494.05</td>\n",
       "      <td>3</td>\n",
       "    </tr>\n",
       "    <tr>\n",
       "      <th>3</th>\n",
       "      <td>ROSN</td>\n",
       "      <td>60</td>\n",
       "      <td>12/02/21</td>\n",
       "      <td>140000</td>\n",
       "      <td>496.45</td>\n",
       "      <td>4</td>\n",
       "    </tr>\n",
       "    <tr>\n",
       "      <th>4</th>\n",
       "      <td>ROSN</td>\n",
       "      <td>60</td>\n",
       "      <td>12/02/21</td>\n",
       "      <td>150000</td>\n",
       "      <td>498.90</td>\n",
       "      <td>5</td>\n",
       "    </tr>\n",
       "    <tr>\n",
       "      <th>5</th>\n",
       "      <td>ROSN</td>\n",
       "      <td>60</td>\n",
       "      <td>12/02/21</td>\n",
       "      <td>160000</td>\n",
       "      <td>498.80</td>\n",
       "      <td>6</td>\n",
       "    </tr>\n",
       "    <tr>\n",
       "      <th>6</th>\n",
       "      <td>ROSN</td>\n",
       "      <td>60</td>\n",
       "      <td>12/02/21</td>\n",
       "      <td>170000</td>\n",
       "      <td>502.70</td>\n",
       "      <td>7</td>\n",
       "    </tr>\n",
       "    <tr>\n",
       "      <th>7</th>\n",
       "      <td>ROSN</td>\n",
       "      <td>60</td>\n",
       "      <td>12/02/21</td>\n",
       "      <td>180000</td>\n",
       "      <td>502.35</td>\n",
       "      <td>8</td>\n",
       "    </tr>\n",
       "    <tr>\n",
       "      <th>8</th>\n",
       "      <td>ROSN</td>\n",
       "      <td>60</td>\n",
       "      <td>12/02/21</td>\n",
       "      <td>190000</td>\n",
       "      <td>504.15</td>\n",
       "      <td>9</td>\n",
       "    </tr>\n",
       "    <tr>\n",
       "      <th>9</th>\n",
       "      <td>ROSN</td>\n",
       "      <td>60</td>\n",
       "      <td>12/02/21</td>\n",
       "      <td>200000</td>\n",
       "      <td>505.25</td>\n",
       "      <td>10</td>\n",
       "    </tr>\n",
       "    <tr>\n",
       "      <th>10</th>\n",
       "      <td>ROSN</td>\n",
       "      <td>60</td>\n",
       "      <td>12/02/21</td>\n",
       "      <td>210000</td>\n",
       "      <td>506.10</td>\n",
       "      <td>11</td>\n",
       "    </tr>\n",
       "    <tr>\n",
       "      <th>11</th>\n",
       "      <td>ROSN</td>\n",
       "      <td>60</td>\n",
       "      <td>12/02/21</td>\n",
       "      <td>220000</td>\n",
       "      <td>506.10</td>\n",
       "      <td>12</td>\n",
       "    </tr>\n",
       "    <tr>\n",
       "      <th>12</th>\n",
       "      <td>ROSN</td>\n",
       "      <td>60</td>\n",
       "      <td>12/02/21</td>\n",
       "      <td>230000</td>\n",
       "      <td>505.70</td>\n",
       "      <td>13</td>\n",
       "    </tr>\n",
       "    <tr>\n",
       "      <th>13</th>\n",
       "      <td>ROSN</td>\n",
       "      <td>60</td>\n",
       "      <td>13/02/21</td>\n",
       "      <td>0</td>\n",
       "      <td>509.35</td>\n",
       "      <td>14</td>\n",
       "    </tr>\n",
       "  </tbody>\n",
       "</table>\n",
       "</div>"
      ],
      "text/plain": [
       "   <TICKER>  <PER>    <DATE>  <TIME>  <CLOSE>  m_id\n",
       "0      ROSN     60  12/02/21  110000   496.20     1\n",
       "1      ROSN     60  12/02/21  120000   489.90     2\n",
       "2      ROSN     60  12/02/21  130000   494.05     3\n",
       "3      ROSN     60  12/02/21  140000   496.45     4\n",
       "4      ROSN     60  12/02/21  150000   498.90     5\n",
       "5      ROSN     60  12/02/21  160000   498.80     6\n",
       "6      ROSN     60  12/02/21  170000   502.70     7\n",
       "7      ROSN     60  12/02/21  180000   502.35     8\n",
       "8      ROSN     60  12/02/21  190000   504.15     9\n",
       "9      ROSN     60  12/02/21  200000   505.25    10\n",
       "10     ROSN     60  12/02/21  210000   506.10    11\n",
       "11     ROSN     60  12/02/21  220000   506.10    12\n",
       "12     ROSN     60  12/02/21  230000   505.70    13\n",
       "13     ROSN     60  13/02/21       0   509.35    14"
      ]
     },
     "execution_count": 2,
     "metadata": {},
     "output_type": "execute_result"
    }
   ],
   "source": [
    "data = pd.read_csv(\"./Data/ROSN_210212_210212_hour.csv\", sep=';')\n",
    "data['m_id']=np.arange(1,len(data)+1)\n",
    "data"
   ]
  },
  {
   "cell_type": "markdown",
   "metadata": {},
   "source": [
    "Построим график"
   ]
  },
  {
   "cell_type": "code",
   "execution_count": 3,
   "metadata": {
    "scrolled": true
   },
   "outputs": [
    {
     "data": {
      "text/plain": [
       "<matplotlib.axes._subplots.AxesSubplot at 0x2957c773c88>"
      ]
     },
     "execution_count": 3,
     "metadata": {},
     "output_type": "execute_result"
    },
    {
     "data": {
      "image/png": "[encoded data removed]",
      "text/plain": [
       "<Figure size 432x288 with 1 Axes>"
      ]
     },
     "metadata": {
      "needs_background": "light"
     },
     "output_type": "display_data"
    }
   ],
   "source": [
    "data.plot(x='m_id', y='<CLOSE>', label='Цена', grid=True)"
   ]
  },
  {
   "cell_type": "markdown",
   "metadata": {},
   "source": [
    "Обозначим цену акции $y$, а момент времени, в который цена измерена $x$. Построим линейную модель имеющихся данных. Линейная модель зависимости $\\widehat{y}$ от одной независимой переменной $x$ выражается уравнением $\\widehat{y}=w_0+wx$, где $w_0, w$ - коэффициенты или параметры модели. С помощью МНК находят такие значения параметров модели, при которых сумма квадратов расстояний значений измеренной величины от значений модели минимально. Для этого минимизируют функцию\n",
    "\n",
    "$$\n",
    "E(w_0, w)=\\sum_{i=0}^I(y_i-w_0-wx_i)\n",
    "$$\n",
    "\n",
    "посредством решения системы уравнений\n",
    "\n",
    "$$\n",
    "\\begin {cases} \n",
    "{\\frac{dE(w_0, w)}{dw_0}=0} \\\\ \\\\\n",
    "{\\frac{dE(w_0, w)}{dw}=0}\n",
    "\\end {cases}\n",
    "$$\n",
    "\n",
    "\n",
    "В процессе решения системы уравнений параметры модели могут быть выражены через значения дисперсии и ковариации признаков, что оказывается удобным для их расчета:\n",
    "\n",
    "$$\n",
    "w=\\frac{Cov_{xy}}{Disp_x} \\\\\n",
    "w_0=M(y)- w \\cdot M(x)\n",
    "$$\n",
    "\n",
    "где $M(\\cdot)$ - математическое ожидание.\n",
    "\n",
    "Приведенная система уравнений может быть решена и в матричном виде. Для этого предположим, что имеется фиктивная переменная $x_0=1$. Тогда уравнение модели принимает вид $\\widehat{y}=w_0x_0+wx = {w}^T {x}$, где $w$ - вектор параметров модели, $x$ - вектор независимых переменных.\n",
    " В общем случае, когда имеется $I$ независимых переменных, $x_1, x_2, ... x_I$, уравнение модели принимает вид \n",
    "\n",
    "$$\n",
    "\\widehat{y} = \\sum_{i=0}^I w_i x_{i} = X{w}^T\n",
    "$$\n",
    "\n",
    "</Table>\n",
    "где $X$ - матрица признаков, в которой $n$ строк по числу независимых переменных и $I+1$ столбец, включая единичный столбец фиктивной переменной слева; $w$ - вектор параметров модели.\n",
    "\n",
    "Параметры $w$ находят методом наименьших квадратов, минимизируя отклонение $\\widehat{y}$ от $y$, которое носит случайный характер и обозначается $\\epsilon$. В матричном виде\n",
    "\n",
    "$$ w=({X}^{T} {X})^{-1} {X}^{T}{y} $$\n",
    "\n",
    "Реализуем решение в матричном виде. Сначала построим матрицу $X$."
   ]
  },
  {
   "cell_type": "code",
   "execution_count": 4,
   "metadata": {},
   "outputs": [
    {
     "name": "stdout",
     "output_type": "stream",
     "text": [
      "[[ 1.  1.]\n",
      " [ 1.  2.]\n",
      " [ 1.  3.]\n",
      " [ 1.  4.]\n",
      " [ 1.  5.]\n",
      " [ 1.  6.]\n",
      " [ 1.  7.]\n",
      " [ 1.  8.]\n",
      " [ 1.  9.]\n",
      " [ 1. 10.]\n",
      " [ 1. 11.]\n",
      " [ 1. 12.]\n",
      " [ 1. 13.]\n",
      " [ 1. 14.]]\n"
     ]
    }
   ],
   "source": [
    "x0=np.ones(len(data))\n",
    "x1=np.array(data['m_id'])\n",
    "X=np.stack((x0,x1),axis=1)\n",
    "print(X)"
   ]
  },
  {
   "cell_type": "markdown",
   "metadata": {},
   "source": [
    "Создадим массив значений $y$."
   ]
  },
  {
   "cell_type": "code",
   "execution_count": 5,
   "metadata": {},
   "outputs": [
    {
     "name": "stdout",
     "output_type": "stream",
     "text": [
      "[496.2  489.9  494.05 496.45 498.9  498.8  502.7  502.35 504.15 505.25\n",
      " 506.1  506.1  505.7  509.35]\n"
     ]
    }
   ],
   "source": [
    "y=np.array(data['<CLOSE>'])\n",
    "print(y)"
   ]
  },
  {
   "cell_type": "markdown",
   "metadata": {},
   "source": [
    "Подставим $w$ и $y$ в формулу."
   ]
  },
  {
   "cell_type": "code",
   "execution_count": 6,
   "metadata": {},
   "outputs": [
    {
     "name": "stdout",
     "output_type": "stream",
     "text": [
      "[491.77692308   1.24879121]\n"
     ]
    }
   ],
   "source": [
    "w = np.dot(np.dot(np.linalg.inv(np.dot(X.T,X)),X.T),y)\n",
    "print(w)"
   ]
  },
  {
   "cell_type": "markdown",
   "metadata": {},
   "source": [
    "Мы получили значения $w_0$ и $w_1$. Построим график $\\widehat{y}$."
   ]
  },
  {
   "cell_type": "code",
   "execution_count": 7,
   "metadata": {
    "scrolled": true
   },
   "outputs": [
    {
     "data": {
      "text/plain": [
       "Text(0, 0.5, 'Цена')"
      ]
     },
     "execution_count": 7,
     "metadata": {},
     "output_type": "execute_result"
    },
    {
     "data": {
      "image/png": "[encoded data removed]",
      "text/plain": [
       "<Figure size 432x288 with 1 Axes>"
      ]
     },
     "metadata": {
      "needs_background": "light"
     },
     "output_type": "display_data"
    }
   ],
   "source": [
    "plt.plot(data['m_id'], data['<CLOSE>'], label='Цена')\n",
    "plt.plot(data['m_id'], w[0]+X[:,1]*w[1], label='Линейная модель')\n",
    "plt.legend(loc=4)\n",
    "plt.grid()\n",
    "plt.xlabel('Время')\n",
    "plt.ylabel('Цена')"
   ]
  },
  {
   "cell_type": "markdown",
   "metadata": {},
   "source": [
    "### 1.2. Метод градиентного спуска\n",
    "При обработке больших данных, а также в ходя решения ряда практических задач использование метода наименьших квадратов связано с вычислительными сложностями. В таком слачае применяют метод градиентного спуска - метод нахождения локального минимума или максимума функции с помощью последовательного, состоящего из множества шагов движения вдоль градиента.  В случае функции одной  переменной $y=f(x)$ градиент вычисляется как\n",
    "\n",
    "$$\n",
    "\\frac{df(x)}{dx} \\cdot{i}\n",
    "$$\n",
    "\n",
    "где $i=(1;0)$ - единичный вектор, задающий направление вдоль оси $X$. Реализуем следующий алгоритм. Выберем начальную точку на оси абсцисс, в которой вычисляется значение градиента. На каждом следующем шаге $n+1$ найдем значение следующей точки на оси абсцисс исходя из уравнения\n",
    "\n",
    "$$\n",
    "x_{n+1}=x_{n}-\\lambda\\cdot\\frac{df(x_n)}{dx} \\cdot{i}\n",
    "$$\n",
    "\n",
    "где $n=0, 1, 2, 3, ...$\n",
    "\n",
    "Знак производной определяет направление движения, а ее величина определяет величину интервала смещения. Шаги повторяются до нахождения точки, в которой значение градиента близко к нулю, а значение $y$ близко к минимуму. Необязательный коэффициент $\\lambda$, называемый шагом сходимости алгоритма, позволяет уменьшать интервал смещения для более точного поиска. Применим метод градиентного спуска к имеющимся данным. На каждом шаге алгоритма будем вычислять величину ошибки (Loss) по формуле\n",
    "\n",
    "$$\n",
    "\\mathcal{L}({X}, {y}, {w}) = \\frac{1}{2n} \\sum_{i=1}^n (y_i - {w}^{{T}} {x}_i)^2\n",
    "$$\n",
    "\n",
    "где $n$ - число измерений и ее производную \n",
    "\n",
    "$$\n",
    "\\frac{d\\mathcal{L}}{dw} = \\frac{1}{n} \\sum_{i=1}^n {(y-wx)(-x)} = -\\frac{1}{n}\\cdot {X}\\cdot{(y-wX)}\n",
    "$$\n",
    "\n",
    "\n",
    "Используем следующие переменные:\n",
    "- lmd - шаг сходимости алгоритма (лямбда)\n",
    "- X - матрица независимых переменных\n",
    "- y - вектор значений цены акции\n",
    "- y_model - вектор модельных значений цены акции\n",
    "- delta - разность экспериментального и модельного значений\n",
    "- w - вектор параметров модели, начальные значения выбираем (1; 1)\n",
    "- nIterations - число шагов\n",
    "- gradient - градиент\n"
   ]
  },
  {
   "cell_type": "code",
   "execution_count": 8,
   "metadata": {},
   "outputs": [],
   "source": [
    "def gradient_descent(lmd, X, y, nIterations):\n",
    "    n=X.shape[0]\n",
    "    w=np.ones(X.shape[1])\n",
    "    \n",
    "    for i in range(nIterations):\n",
    "        y_model=np.dot(X,w)\n",
    "        delta=y_model-y\n",
    "        L=np.sum(delta**2)/(2*n)\n",
    "        gradient=np.dot(X.T, delta)\n",
    "        w-=lmd*gradient / n\n",
    "    return w"
   ]
  },
  {
   "cell_type": "code",
   "execution_count": 9,
   "metadata": {},
   "outputs": [
    {
     "data": {
      "text/plain": [
       "array([490.57997133,   1.37299369])"
      ]
     },
     "execution_count": 9,
     "metadata": {},
     "output_type": "execute_result"
    }
   ],
   "source": [
    "gradient_descent(0.027, X, y, 1000)"
   ]
  },
  {
   "cell_type": "markdown",
   "metadata": {},
   "source": [
    "Мы получили значения, близкие к значениям, рассчитанным методом наименьших квадратов. Отметим, что эти значения можно значительно улучшить, тщательно подобрав параметры *nIterations* и *lmd*."
   ]
  },
  {
   "cell_type": "markdown",
   "metadata": {},
   "source": [
    "### 1.3. Экспоненциальное сглаживание"
   ]
  },
  {
   "cell_type": "markdown",
   "metadata": {},
   "source": [
    "### 1.3.1. Изучение данных\n",
    "Файл с данными, которые будем обрабатывать. Источник: <a href=https://www.finanz.ru/>*finanz.ru*</a>."
   ]
  },
  {
   "cell_type": "code",
   "execution_count": 10,
   "metadata": {
    "scrolled": true
   },
   "outputs": [
    {
     "data": {
      "text/html": [
       "<div>\n",
       "<style scoped>\n",
       "    .dataframe tbody tr th:only-of-type {\n",
       "        vertical-align: middle;\n",
       "    }\n",
       "\n",
       "    .dataframe tbody tr th {\n",
       "        vertical-align: top;\n",
       "    }\n",
       "\n",
       "    .dataframe thead th {\n",
       "        text-align: right;\n",
       "    }\n",
       "</style>\n",
       "<table border=\"1\" class=\"dataframe\">\n",
       "  <thead>\n",
       "    <tr style=\"text-align: right;\">\n",
       "      <th></th>\n",
       "      <th>Date</th>\n",
       "      <th>Open</th>\n",
       "      <th>ClosingPrice</th>\n",
       "      <th>DailyHigh</th>\n",
       "      <th>DailyLow</th>\n",
       "      <th>VolumePcs</th>\n",
       "    </tr>\n",
       "  </thead>\n",
       "  <tbody>\n",
       "    <tr>\n",
       "      <th>0</th>\n",
       "      <td>06.11.2020</td>\n",
       "      <td>NaN</td>\n",
       "      <td>99,91500</td>\n",
       "      <td>100,27000</td>\n",
       "      <td>99,42500</td>\n",
       "      <td>NaN</td>\n",
       "    </tr>\n",
       "    <tr>\n",
       "      <th>1</th>\n",
       "      <td>05.11.2020</td>\n",
       "      <td>NaN</td>\n",
       "      <td>100,60000</td>\n",
       "      <td>100,86000</td>\n",
       "      <td>100,13000</td>\n",
       "      <td>NaN</td>\n",
       "    </tr>\n",
       "    <tr>\n",
       "      <th>2</th>\n",
       "      <td>04.11.2020</td>\n",
       "      <td>NaN</td>\n",
       "      <td>98,09500</td>\n",
       "      <td>98,51500</td>\n",
       "      <td>97,69500</td>\n",
       "      <td>NaN</td>\n",
       "    </tr>\n",
       "    <tr>\n",
       "      <th>3</th>\n",
       "      <td>03.11.2020</td>\n",
       "      <td>NaN</td>\n",
       "      <td>94,35500</td>\n",
       "      <td>95,24000</td>\n",
       "      <td>93,81500</td>\n",
       "      <td>NaN</td>\n",
       "    </tr>\n",
       "    <tr>\n",
       "      <th>4</th>\n",
       "      <td>02.11.2020</td>\n",
       "      <td>NaN</td>\n",
       "      <td>93,39500</td>\n",
       "      <td>93,45000</td>\n",
       "      <td>92,34000</td>\n",
       "      <td>NaN</td>\n",
       "    </tr>\n",
       "    <tr>\n",
       "      <th>...</th>\n",
       "      <td>...</td>\n",
       "      <td>...</td>\n",
       "      <td>...</td>\n",
       "      <td>...</td>\n",
       "      <td>...</td>\n",
       "      <td>...</td>\n",
       "    </tr>\n",
       "    <tr>\n",
       "      <th>208</th>\n",
       "      <td>08.01.2020</td>\n",
       "      <td>NaN</td>\n",
       "      <td>68,20625</td>\n",
       "      <td>68,50625</td>\n",
       "      <td>67,98750</td>\n",
       "      <td>NaN</td>\n",
       "    </tr>\n",
       "    <tr>\n",
       "      <th>209</th>\n",
       "      <td>07.01.2020</td>\n",
       "      <td>NaN</td>\n",
       "      <td>66,93125</td>\n",
       "      <td>67,32500</td>\n",
       "      <td>66,84375</td>\n",
       "      <td>NaN</td>\n",
       "    </tr>\n",
       "    <tr>\n",
       "      <th>210</th>\n",
       "      <td>06.01.2020</td>\n",
       "      <td>NaN</td>\n",
       "      <td>66,95000</td>\n",
       "      <td>67,00625</td>\n",
       "      <td>66,78750</td>\n",
       "      <td>NaN</td>\n",
       "    </tr>\n",
       "    <tr>\n",
       "      <th>211</th>\n",
       "      <td>03.01.2020</td>\n",
       "      <td>NaN</td>\n",
       "      <td>66,61250</td>\n",
       "      <td>67,26250</td>\n",
       "      <td>66,61250</td>\n",
       "      <td>NaN</td>\n",
       "    </tr>\n",
       "    <tr>\n",
       "      <th>212</th>\n",
       "      <td>02.01.2020</td>\n",
       "      <td>NaN</td>\n",
       "      <td>67,28750</td>\n",
       "      <td>67,28750</td>\n",
       "      <td>66,71250</td>\n",
       "      <td>NaN</td>\n",
       "    </tr>\n",
       "  </tbody>\n",
       "</table>\n",
       "<p>213 rows × 6 columns</p>\n",
       "</div>"
      ],
      "text/plain": [
       "           Date  Open ClosingPrice  DailyHigh   DailyLow  VolumePcs\n",
       "0    06.11.2020   NaN     99,91500  100,27000   99,42500        NaN\n",
       "1    05.11.2020   NaN    100,60000  100,86000  100,13000        NaN\n",
       "2    04.11.2020   NaN     98,09500   98,51500   97,69500        NaN\n",
       "3    03.11.2020   NaN     94,35500   95,24000   93,81500        NaN\n",
       "4    02.11.2020   NaN     93,39500   93,45000   92,34000        NaN\n",
       "..          ...   ...          ...        ...        ...        ...\n",
       "208  08.01.2020   NaN     68,20625   68,50625   67,98750        NaN\n",
       "209  07.01.2020   NaN     66,93125   67,32500   66,84375        NaN\n",
       "210  06.01.2020   NaN     66,95000   67,00625   66,78750        NaN\n",
       "211  03.01.2020   NaN     66,61250   67,26250   66,61250        NaN\n",
       "212  02.01.2020   NaN     67,28750   67,28750   66,71250        NaN\n",
       "\n",
       "[213 rows x 6 columns]"
      ]
     },
     "execution_count": 10,
     "metadata": {},
     "output_type": "execute_result"
    }
   ],
   "source": [
    "df = pd.read_csv('Data/HistoricPricesAppleBAE.csv', sep=';')\n",
    "df"
   ]
  },
  {
   "cell_type": "markdown",
   "metadata": {},
   "source": [
    "Удалим столбцы с пустыми значениями и отобразим основнуб информацию о таблице."
   ]
  },
  {
   "cell_type": "code",
   "execution_count": 11,
   "metadata": {},
   "outputs": [
    {
     "name": "stdout",
     "output_type": "stream",
     "text": [
      "<class 'pandas.core.frame.DataFrame'>\n",
      "RangeIndex: 213 entries, 0 to 212\n",
      "Data columns (total 4 columns):\n",
      " #   Column        Non-Null Count  Dtype \n",
      "---  ------        --------------  ----- \n",
      " 0   Date          213 non-null    object\n",
      " 1   ClosingPrice  213 non-null    object\n",
      " 2   DailyHigh     209 non-null    object\n",
      " 3   DailyLow      209 non-null    object\n",
      "dtypes: object(4)\n",
      "memory usage: 6.8+ KB\n"
     ]
    }
   ],
   "source": [
    "df=df.drop(['Open','VolumePcs'],axis=1)\n",
    "df.info()"
   ]
  },
  {
   "cell_type": "markdown",
   "metadata": {},
   "source": [
    "Столбцы Date и ClosingPrice имеют тип 'object'. Фактически это означает, что в них содержится информация текстового типа. Выполним преобразование типов."
   ]
  },
  {
   "cell_type": "code",
   "execution_count": 12,
   "metadata": {},
   "outputs": [],
   "source": [
    "df['ClosingPrice']=df['ClosingPrice'].str.replace(\",\",\".\")\n",
    "df['ClosingPrice']=pd.to_numeric(df['ClosingPrice'])\n",
    "df['Date']=pd.to_datetime(df['Date'],dayfirst=True)"
   ]
  },
  {
   "cell_type": "code",
   "execution_count": 13,
   "metadata": {},
   "outputs": [
    {
     "name": "stdout",
     "output_type": "stream",
     "text": [
      "<class 'pandas.core.frame.DataFrame'>\n",
      "RangeIndex: 213 entries, 0 to 212\n",
      "Data columns (total 4 columns):\n",
      " #   Column        Non-Null Count  Dtype         \n",
      "---  ------        --------------  -----         \n",
      " 0   Date          213 non-null    datetime64[ns]\n",
      " 1   ClosingPrice  213 non-null    float64       \n",
      " 2   DailyHigh     209 non-null    object        \n",
      " 3   DailyLow      209 non-null    object        \n",
      "dtypes: datetime64[ns](1), float64(1), object(2)\n",
      "memory usage: 6.8+ KB\n"
     ]
    }
   ],
   "source": [
    "df.info()"
   ]
  },
  {
   "cell_type": "markdown",
   "metadata": {},
   "source": [
    "Отсортируем данные по возрастанию даты."
   ]
  },
  {
   "cell_type": "code",
   "execution_count": 14,
   "metadata": {},
   "outputs": [
    {
     "data": {
      "text/html": [
       "<div>\n",
       "<style scoped>\n",
       "    .dataframe tbody tr th:only-of-type {\n",
       "        vertical-align: middle;\n",
       "    }\n",
       "\n",
       "    .dataframe tbody tr th {\n",
       "        vertical-align: top;\n",
       "    }\n",
       "\n",
       "    .dataframe thead th {\n",
       "        text-align: right;\n",
       "    }\n",
       "</style>\n",
       "<table border=\"1\" class=\"dataframe\">\n",
       "  <thead>\n",
       "    <tr style=\"text-align: right;\">\n",
       "      <th></th>\n",
       "      <th>Date</th>\n",
       "      <th>ClosingPrice</th>\n",
       "      <th>DailyHigh</th>\n",
       "      <th>DailyLow</th>\n",
       "    </tr>\n",
       "  </thead>\n",
       "  <tbody>\n",
       "    <tr>\n",
       "      <th>212</th>\n",
       "      <td>2020-01-02</td>\n",
       "      <td>67.28750</td>\n",
       "      <td>67,28750</td>\n",
       "      <td>66,71250</td>\n",
       "    </tr>\n",
       "    <tr>\n",
       "      <th>211</th>\n",
       "      <td>2020-01-03</td>\n",
       "      <td>66.61250</td>\n",
       "      <td>67,26250</td>\n",
       "      <td>66,61250</td>\n",
       "    </tr>\n",
       "    <tr>\n",
       "      <th>210</th>\n",
       "      <td>2020-01-06</td>\n",
       "      <td>66.95000</td>\n",
       "      <td>67,00625</td>\n",
       "      <td>66,78750</td>\n",
       "    </tr>\n",
       "    <tr>\n",
       "      <th>209</th>\n",
       "      <td>2020-01-07</td>\n",
       "      <td>66.93125</td>\n",
       "      <td>67,32500</td>\n",
       "      <td>66,84375</td>\n",
       "    </tr>\n",
       "    <tr>\n",
       "      <th>208</th>\n",
       "      <td>2020-01-08</td>\n",
       "      <td>68.20625</td>\n",
       "      <td>68,50625</td>\n",
       "      <td>67,98750</td>\n",
       "    </tr>\n",
       "  </tbody>\n",
       "</table>\n",
       "</div>"
      ],
      "text/plain": [
       "          Date  ClosingPrice DailyHigh  DailyLow\n",
       "212 2020-01-02      67.28750  67,28750  66,71250\n",
       "211 2020-01-03      66.61250  67,26250  66,61250\n",
       "210 2020-01-06      66.95000  67,00625  66,78750\n",
       "209 2020-01-07      66.93125  67,32500  66,84375\n",
       "208 2020-01-08      68.20625  68,50625  67,98750"
      ]
     },
     "execution_count": 14,
     "metadata": {},
     "output_type": "execute_result"
    }
   ],
   "source": [
    "df=df.sort_values('Date')\n",
    "df.head()"
   ]
  },
  {
   "cell_type": "code",
   "execution_count": 15,
   "metadata": {},
   "outputs": [],
   "source": [
    "df.index=range(len(df))"
   ]
  },
  {
   "cell_type": "markdown",
   "metadata": {},
   "source": [
    "Построим график"
   ]
  },
  {
   "cell_type": "code",
   "execution_count": 16,
   "metadata": {},
   "outputs": [
    {
     "data": {
      "text/plain": [
       "<matplotlib.legend.Legend at 0x2957c99c7c8>"
      ]
     },
     "execution_count": 16,
     "metadata": {},
     "output_type": "execute_result"
    },
    {
     "data": {
      "image/png": "[encoded data removed]",
      "text/plain": [
       "<Figure size 864x360 with 1 Axes>"
      ]
     },
     "metadata": {
      "needs_background": "light"
     },
     "output_type": "display_data"
    }
   ],
   "source": [
    "plt.figure(figsize=(12, 5))\n",
    "plt.title('Динамика цены акции Apple', loc='center')\n",
    "x = df['Date']\n",
    "y = df['ClosingPrice']\n",
    "plt.plot(x, y, label='Цена акции')\n",
    "plt.legend(loc='lower right')"
   ]
  },
  {
   "cell_type": "markdown",
   "metadata": {},
   "source": [
    "Найдем параметры линии тренда $w$ и $w_0$. Создадим стобец с номером измерения, значения которого начинаются от 1."
   ]
  },
  {
   "cell_type": "code",
   "execution_count": 17,
   "metadata": {},
   "outputs": [],
   "source": [
    "df['m_id']=pd.Series(list(range(1, len(df)+1)))"
   ]
  },
  {
   "cell_type": "markdown",
   "metadata": {},
   "source": [
    "Построим матрицу признаков"
   ]
  },
  {
   "cell_type": "code",
   "execution_count": 18,
   "metadata": {},
   "outputs": [],
   "source": [
    "x0=np.ones(len(df))\n",
    "x1=df['m_id']\n",
    "y=df['ClosingPrice']\n",
    "X=np.stack((x0,x1),axis=1)"
   ]
  },
  {
   "cell_type": "code",
   "execution_count": 19,
   "metadata": {},
   "outputs": [
    {
     "name": "stdout",
     "output_type": "stream",
     "text": [
      "[58.18987161  0.20316988]\n"
     ]
    }
   ],
   "source": [
    "w = np.dot(np.dot(np.linalg.inv(np.dot(X.T,X)),X.T),y)\n",
    "print(w)"
   ]
  },
  {
   "cell_type": "markdown",
   "metadata": {},
   "source": [
    "Добавим столбец тренда"
   ]
  },
  {
   "cell_type": "code",
   "execution_count": 20,
   "metadata": {},
   "outputs": [],
   "source": [
    "df['Trend'] = w[0] + w[1] * df['m_id']"
   ]
  },
  {
   "cell_type": "markdown",
   "metadata": {},
   "source": [
    "Отобразим тренд на графике"
   ]
  },
  {
   "cell_type": "code",
   "execution_count": 21,
   "metadata": {},
   "outputs": [
    {
     "data": {
      "text/plain": [
       "<matplotlib.legend.Legend at 0x2957ca30a08>"
      ]
     },
     "execution_count": 21,
     "metadata": {},
     "output_type": "execute_result"
    },
    {
     "data": {
      "image/png": "[encoded data removed]",
      "text/plain": [
       "<Figure size 864x360 with 1 Axes>"
      ]
     },
     "metadata": {
      "needs_background": "light"
     },
     "output_type": "display_data"
    }
   ],
   "source": [
    "plt.figure(figsize=(12, 5))\n",
    "plt.title('Динамика цены акции Apple', loc='center')\n",
    "x = df['Date']\n",
    "y = df['ClosingPrice']\n",
    "ym = df['Trend']\n",
    "plt.plot(x, y, label='Цена акции')\n",
    "plt.plot(x, ym, label='Линия тренда')\n",
    "plt.legend(loc='lower right')"
   ]
  },
  {
   "cell_type": "markdown",
   "metadata": {},
   "source": [
    "### 1.3.2. Экспоненциальное сглаживание\n",
    "Проведем экспоненциальное сглаживание.\n",
    "\n",
    "$$\n",
    "S_{i+1}=Y_i\\cdot\\alpha+S_i \\cdot (1-\\alpha)\n",
    "$$\n"
   ]
  },
  {
   "cell_type": "code",
   "execution_count": 22,
   "metadata": {},
   "outputs": [],
   "source": [
    "alfa = 0.1 # Начальное значение коэффициента сглаживания\n",
    "while alfa < 1: # выполняется цикл до тех пор, пока alfa меньше единицы\n",
    "  ExpColumnName = 'Exp0' + str(alfa)[2] # Формируем имя столбца сглаженных значений: Exp01, Exp02 и т. д. до Exp09\n",
    "  L = [] # Список, в который будем помещать сглаженные значения, сейчас он пуст\n",
    "  for i in range(len(df)): # создаем цикл от нуля до числа, равного числу строк в таблице минус один\n",
    "    if i == 0: # первый день\n",
    "      L.append(np.NaN) # добавляем в список пустое значение, так как сглаженного значения в первый день нет\n",
    "    elif i == 1: # второй день\n",
    "      L.append(df['ClosingPrice'][0]) # добавляем в список значение цены в первый день (строка с индексом [0])\n",
    "    else: # все последующие дни\n",
    "      L.append(alfa * df['ClosingPrice'][i-1] + (1-alfa) * L[i-1]) # добавляем в список сглаженное значение, сформированное из предыдущего значения цены и предыдущего значения списка\n",
    "  df[ExpColumnName] = pd.Series(L) # добавляем в датафрейм столбец, содержащий элементы сформированного списка сглаженных значений\n",
    "  alfa += 0.1 # приращение коэффициента сглаживания"
   ]
  },
  {
   "cell_type": "code",
   "execution_count": 23,
   "metadata": {},
   "outputs": [
    {
     "data": {
      "text/html": [
       "<div>\n",
       "<style scoped>\n",
       "    .dataframe tbody tr th:only-of-type {\n",
       "        vertical-align: middle;\n",
       "    }\n",
       "\n",
       "    .dataframe tbody tr th {\n",
       "        vertical-align: top;\n",
       "    }\n",
       "\n",
       "    .dataframe thead th {\n",
       "        text-align: right;\n",
       "    }\n",
       "</style>\n",
       "<table border=\"1\" class=\"dataframe\">\n",
       "  <thead>\n",
       "    <tr style=\"text-align: right;\">\n",
       "      <th></th>\n",
       "      <th>Date</th>\n",
       "      <th>ClosingPrice</th>\n",
       "      <th>DailyHigh</th>\n",
       "      <th>DailyLow</th>\n",
       "      <th>m_id</th>\n",
       "      <th>Trend</th>\n",
       "      <th>Exp01</th>\n",
       "      <th>Exp02</th>\n",
       "      <th>Exp03</th>\n",
       "      <th>Exp04</th>\n",
       "      <th>Exp05</th>\n",
       "      <th>Exp06</th>\n",
       "      <th>Exp07</th>\n",
       "      <th>Exp08</th>\n",
       "      <th>Exp09</th>\n",
       "    </tr>\n",
       "  </thead>\n",
       "  <tbody>\n",
       "    <tr>\n",
       "      <th>0</th>\n",
       "      <td>2020-01-02</td>\n",
       "      <td>67.28750</td>\n",
       "      <td>67,28750</td>\n",
       "      <td>66,71250</td>\n",
       "      <td>1</td>\n",
       "      <td>58.393041</td>\n",
       "      <td>NaN</td>\n",
       "      <td>NaN</td>\n",
       "      <td>NaN</td>\n",
       "      <td>NaN</td>\n",
       "      <td>NaN</td>\n",
       "      <td>NaN</td>\n",
       "      <td>NaN</td>\n",
       "      <td>NaN</td>\n",
       "      <td>NaN</td>\n",
       "    </tr>\n",
       "    <tr>\n",
       "      <th>1</th>\n",
       "      <td>2020-01-03</td>\n",
       "      <td>66.61250</td>\n",
       "      <td>67,26250</td>\n",
       "      <td>66,61250</td>\n",
       "      <td>2</td>\n",
       "      <td>58.596211</td>\n",
       "      <td>67.287500</td>\n",
       "      <td>67.28750</td>\n",
       "      <td>67.287500</td>\n",
       "      <td>67.2875</td>\n",
       "      <td>67.287500</td>\n",
       "      <td>67.28750</td>\n",
       "      <td>67.2875</td>\n",
       "      <td>67.287500</td>\n",
       "      <td>67.28750</td>\n",
       "    </tr>\n",
       "    <tr>\n",
       "      <th>2</th>\n",
       "      <td>2020-01-06</td>\n",
       "      <td>66.95000</td>\n",
       "      <td>67,00625</td>\n",
       "      <td>66,78750</td>\n",
       "      <td>3</td>\n",
       "      <td>58.799381</td>\n",
       "      <td>67.220000</td>\n",
       "      <td>67.15250</td>\n",
       "      <td>67.085000</td>\n",
       "      <td>67.0175</td>\n",
       "      <td>66.950000</td>\n",
       "      <td>66.88250</td>\n",
       "      <td>66.7475</td>\n",
       "      <td>66.680000</td>\n",
       "      <td>66.61250</td>\n",
       "    </tr>\n",
       "    <tr>\n",
       "      <th>3</th>\n",
       "      <td>2020-01-07</td>\n",
       "      <td>66.93125</td>\n",
       "      <td>67,32500</td>\n",
       "      <td>66,84375</td>\n",
       "      <td>4</td>\n",
       "      <td>59.002551</td>\n",
       "      <td>67.193000</td>\n",
       "      <td>67.11200</td>\n",
       "      <td>67.044500</td>\n",
       "      <td>66.9905</td>\n",
       "      <td>66.950000</td>\n",
       "      <td>66.92300</td>\n",
       "      <td>66.9095</td>\n",
       "      <td>66.923000</td>\n",
       "      <td>66.95000</td>\n",
       "    </tr>\n",
       "    <tr>\n",
       "      <th>4</th>\n",
       "      <td>2020-01-08</td>\n",
       "      <td>68.20625</td>\n",
       "      <td>68,50625</td>\n",
       "      <td>67,98750</td>\n",
       "      <td>5</td>\n",
       "      <td>59.205721</td>\n",
       "      <td>67.166825</td>\n",
       "      <td>67.07585</td>\n",
       "      <td>67.010525</td>\n",
       "      <td>66.9668</td>\n",
       "      <td>66.940625</td>\n",
       "      <td>66.92795</td>\n",
       "      <td>66.9269</td>\n",
       "      <td>66.930425</td>\n",
       "      <td>66.93125</td>\n",
       "    </tr>\n",
       "  </tbody>\n",
       "</table>\n",
       "</div>"
      ],
      "text/plain": [
       "        Date  ClosingPrice DailyHigh  DailyLow  m_id      Trend      Exp01  \\\n",
       "0 2020-01-02      67.28750  67,28750  66,71250     1  58.393041        NaN   \n",
       "1 2020-01-03      66.61250  67,26250  66,61250     2  58.596211  67.287500   \n",
       "2 2020-01-06      66.95000  67,00625  66,78750     3  58.799381  67.220000   \n",
       "3 2020-01-07      66.93125  67,32500  66,84375     4  59.002551  67.193000   \n",
       "4 2020-01-08      68.20625  68,50625  67,98750     5  59.205721  67.166825   \n",
       "\n",
       "      Exp02      Exp03    Exp04      Exp05     Exp06    Exp07      Exp08  \\\n",
       "0       NaN        NaN      NaN        NaN       NaN      NaN        NaN   \n",
       "1  67.28750  67.287500  67.2875  67.287500  67.28750  67.2875  67.287500   \n",
       "2  67.15250  67.085000  67.0175  66.950000  66.88250  66.7475  66.680000   \n",
       "3  67.11200  67.044500  66.9905  66.950000  66.92300  66.9095  66.923000   \n",
       "4  67.07585  67.010525  66.9668  66.940625  66.92795  66.9269  66.930425   \n",
       "\n",
       "      Exp09  \n",
       "0       NaN  \n",
       "1  67.28750  \n",
       "2  66.61250  \n",
       "3  66.95000  \n",
       "4  66.93125  "
      ]
     },
     "execution_count": 23,
     "metadata": {},
     "output_type": "execute_result"
    }
   ],
   "source": [
    "df.head()"
   ]
  },
  {
   "cell_type": "code",
   "execution_count": 24,
   "metadata": {
    "scrolled": false
   },
   "outputs": [
    {
     "data": {
      "text/plain": [
       "<matplotlib.legend.Legend at 0x2957cab1448>"
      ]
     },
     "execution_count": 24,
     "metadata": {},
     "output_type": "execute_result"
    },
    {
     "data": {
      "image/png": "[encoded data removed]",
      "text/plain": [
       "<Figure size 1008x360 with 1 Axes>"
      ]
     },
     "metadata": {
      "needs_background": "light"
     },
     "output_type": "display_data"
    }
   ],
   "source": [
    "plt.figure(figsize=(14, 5))\n",
    "plt.title('Динамика цены акции Apple', loc='center')\n",
    "x = df['Date']\n",
    "y = df['ClosingPrice']\n",
    "yt = df['Trend']\n",
    "ye = df['Exp03']\n",
    "plt.plot(x, y, label = 'Цена акции Apple')\n",
    "plt.plot(x, yt, label = 'Линия тренда')\n",
    "plt.plot(x, ye, label = 'Экспоненциальное сглаживание')\n",
    "plt.legend(loc='lower right')"
   ]
  },
  {
   "cell_type": "markdown",
   "metadata": {},
   "source": [
    "Предсказанное значение"
   ]
  },
  {
   "cell_type": "code",
   "execution_count": 25,
   "metadata": {},
   "outputs": [
    {
     "data": {
      "text/plain": [
       "98.02108331207702"
      ]
     },
     "execution_count": 25,
     "metadata": {},
     "output_type": "execute_result"
    }
   ],
   "source": [
    "Predict = df['ClosingPrice'][len(df)-1] * 0.3 + df['Exp03'][len(df)-1] * 0.7\n",
    "Predict"
   ]
  },
  {
   "cell_type": "markdown",
   "metadata": {},
   "source": [
    "Рассчитаем остатки как разность значений цены акции и значений сглаженной кривой, добавим в набор столбец, содержащий остатки. Построим гистограмму остатков."
   ]
  },
  {
   "cell_type": "code",
   "execution_count": 26,
   "metadata": {},
   "outputs": [
    {
     "data": {
      "text/plain": [
       "<matplotlib.axes._subplots.AxesSubplot at 0x2957c4d78c8>"
      ]
     },
     "execution_count": 26,
     "metadata": {},
     "output_type": "execute_result"
    },
    {
     "data": {
      "image/png": "[encoded data removed]",
      "text/plain": [
       "<Figure size 432x288 with 1 Axes>"
      ]
     },
     "metadata": {
      "needs_background": "light"
     },
     "output_type": "display_data"
    }
   ],
   "source": [
    "df['Epsilon'] = df['ClosingPrice'] - df['Exp03']\n",
    "df['Epsilon'].hist()"
   ]
  },
  {
   "cell_type": "markdown",
   "metadata": {},
   "source": [
    "## 2. Решене задачи регрессии с помощью машинного обучения"
   ]
  },
  {
   "cell_type": "code",
   "execution_count": 51,
   "metadata": {},
   "outputs": [],
   "source": [
    "import pandas as pd\n",
    "import numpy as np\n",
    "import seaborn as sns\n",
    "import matplotlib.pyplot as plt\n",
    "from sklearn.model_selection import train_test_split\n",
    "from sklearn.metrics import r2_score, mean_squared_error, mean_absolute_error\n",
    "from sklearn.linear_model import LinearRegression\n",
    "from sklearn.preprocessing import StandardScaler"
   ]
  },
  {
   "cell_type": "markdown",
   "metadata": {},
   "source": [
    "Прочитаем данные и выведем несколько первых строк"
   ]
  },
  {
   "cell_type": "code",
   "execution_count": 28,
   "metadata": {},
   "outputs": [
    {
     "data": {
      "text/html": [
       "<div>\n",
       "<style scoped>\n",
       "    .dataframe tbody tr th:only-of-type {\n",
       "        vertical-align: middle;\n",
       "    }\n",
       "\n",
       "    .dataframe tbody tr th {\n",
       "        vertical-align: top;\n",
       "    }\n",
       "\n",
       "    .dataframe thead th {\n",
       "        text-align: right;\n",
       "    }\n",
       "</style>\n",
       "<table border=\"1\" class=\"dataframe\">\n",
       "  <thead>\n",
       "    <tr style=\"text-align: right;\">\n",
       "      <th></th>\n",
       "      <th>Model</th>\n",
       "      <th>Release date</th>\n",
       "      <th>Max resolution</th>\n",
       "      <th>Low resolution</th>\n",
       "      <th>Effective pixels</th>\n",
       "      <th>Zoom wide (W)</th>\n",
       "      <th>Zoom tele (T)</th>\n",
       "      <th>Normal focus range</th>\n",
       "      <th>Macro focus range</th>\n",
       "      <th>Storage included</th>\n",
       "      <th>Weight (inc. batteries)</th>\n",
       "      <th>Dimensions</th>\n",
       "      <th>Price</th>\n",
       "    </tr>\n",
       "  </thead>\n",
       "  <tbody>\n",
       "    <tr>\n",
       "      <th>0</th>\n",
       "      <td>Agfa ePhoto 1280</td>\n",
       "      <td>1997</td>\n",
       "      <td>1024.0</td>\n",
       "      <td>640.0</td>\n",
       "      <td>0.0</td>\n",
       "      <td>38.0</td>\n",
       "      <td>114.0</td>\n",
       "      <td>70.0</td>\n",
       "      <td>40.0</td>\n",
       "      <td>4.0</td>\n",
       "      <td>420.0</td>\n",
       "      <td>95.0</td>\n",
       "      <td>179.0</td>\n",
       "    </tr>\n",
       "    <tr>\n",
       "      <th>1</th>\n",
       "      <td>Agfa ePhoto 1680</td>\n",
       "      <td>1998</td>\n",
       "      <td>1280.0</td>\n",
       "      <td>640.0</td>\n",
       "      <td>1.0</td>\n",
       "      <td>38.0</td>\n",
       "      <td>114.0</td>\n",
       "      <td>50.0</td>\n",
       "      <td>0.0</td>\n",
       "      <td>4.0</td>\n",
       "      <td>420.0</td>\n",
       "      <td>158.0</td>\n",
       "      <td>179.0</td>\n",
       "    </tr>\n",
       "    <tr>\n",
       "      <th>2</th>\n",
       "      <td>Agfa ePhoto CL18</td>\n",
       "      <td>2000</td>\n",
       "      <td>640.0</td>\n",
       "      <td>0.0</td>\n",
       "      <td>0.0</td>\n",
       "      <td>45.0</td>\n",
       "      <td>45.0</td>\n",
       "      <td>0.0</td>\n",
       "      <td>0.0</td>\n",
       "      <td>2.0</td>\n",
       "      <td>0.0</td>\n",
       "      <td>0.0</td>\n",
       "      <td>179.0</td>\n",
       "    </tr>\n",
       "    <tr>\n",
       "      <th>3</th>\n",
       "      <td>Agfa ePhoto CL30</td>\n",
       "      <td>1999</td>\n",
       "      <td>1152.0</td>\n",
       "      <td>640.0</td>\n",
       "      <td>0.0</td>\n",
       "      <td>35.0</td>\n",
       "      <td>35.0</td>\n",
       "      <td>0.0</td>\n",
       "      <td>0.0</td>\n",
       "      <td>4.0</td>\n",
       "      <td>0.0</td>\n",
       "      <td>0.0</td>\n",
       "      <td>269.0</td>\n",
       "    </tr>\n",
       "    <tr>\n",
       "      <th>4</th>\n",
       "      <td>Agfa ePhoto CL30 Clik!</td>\n",
       "      <td>1999</td>\n",
       "      <td>1152.0</td>\n",
       "      <td>640.0</td>\n",
       "      <td>0.0</td>\n",
       "      <td>43.0</td>\n",
       "      <td>43.0</td>\n",
       "      <td>50.0</td>\n",
       "      <td>0.0</td>\n",
       "      <td>40.0</td>\n",
       "      <td>300.0</td>\n",
       "      <td>128.0</td>\n",
       "      <td>1299.0</td>\n",
       "    </tr>\n",
       "  </tbody>\n",
       "</table>\n",
       "</div>"
      ],
      "text/plain": [
       "                    Model  Release date  Max resolution  Low resolution  \\\n",
       "0        Agfa ePhoto 1280          1997          1024.0           640.0   \n",
       "1        Agfa ePhoto 1680          1998          1280.0           640.0   \n",
       "2        Agfa ePhoto CL18          2000           640.0             0.0   \n",
       "3        Agfa ePhoto CL30          1999          1152.0           640.0   \n",
       "4  Agfa ePhoto CL30 Clik!          1999          1152.0           640.0   \n",
       "\n",
       "   Effective pixels  Zoom wide (W)  Zoom tele (T)  Normal focus range  \\\n",
       "0               0.0           38.0          114.0                70.0   \n",
       "1               1.0           38.0          114.0                50.0   \n",
       "2               0.0           45.0           45.0                 0.0   \n",
       "3               0.0           35.0           35.0                 0.0   \n",
       "4               0.0           43.0           43.0                50.0   \n",
       "\n",
       "   Macro focus range  Storage included  Weight (inc. batteries)  Dimensions  \\\n",
       "0               40.0               4.0                    420.0        95.0   \n",
       "1                0.0               4.0                    420.0       158.0   \n",
       "2                0.0               2.0                      0.0         0.0   \n",
       "3                0.0               4.0                      0.0         0.0   \n",
       "4                0.0              40.0                    300.0       128.0   \n",
       "\n",
       "    Price  \n",
       "0   179.0  \n",
       "1   179.0  \n",
       "2   179.0  \n",
       "3   269.0  \n",
       "4  1299.0  "
      ]
     },
     "execution_count": 28,
     "metadata": {},
     "output_type": "execute_result"
    }
   ],
   "source": [
    "df = pd.read_csv('Data/cameras.csv')\n",
    "df.head()"
   ]
  },
  {
   "cell_type": "markdown",
   "metadata": {},
   "source": [
    "Посмотрим информацию о данных. Размерность данных 1038х13 и есть пропущенные значения."
   ]
  },
  {
   "cell_type": "code",
   "execution_count": 29,
   "metadata": {},
   "outputs": [
    {
     "name": "stdout",
     "output_type": "stream",
     "text": [
      "<class 'pandas.core.frame.DataFrame'>\n",
      "RangeIndex: 1038 entries, 0 to 1037\n",
      "Data columns (total 13 columns):\n",
      " #   Column                   Non-Null Count  Dtype  \n",
      "---  ------                   --------------  -----  \n",
      " 0   Model                    1038 non-null   object \n",
      " 1   Release date             1038 non-null   int64  \n",
      " 2   Max resolution           1038 non-null   float64\n",
      " 3   Low resolution           1038 non-null   float64\n",
      " 4   Effective pixels         1038 non-null   float64\n",
      " 5   Zoom wide (W)            1038 non-null   float64\n",
      " 6   Zoom tele (T)            1038 non-null   float64\n",
      " 7   Normal focus range       1038 non-null   float64\n",
      " 8   Macro focus range        1037 non-null   float64\n",
      " 9   Storage included         1036 non-null   float64\n",
      " 10  Weight (inc. batteries)  1036 non-null   float64\n",
      " 11  Dimensions               1036 non-null   float64\n",
      " 12  Price                    1038 non-null   float64\n",
      "dtypes: float64(11), int64(1), object(1)\n",
      "memory usage: 105.5+ KB\n"
     ]
    }
   ],
   "source": [
    "df.info()"
   ]
  },
  {
   "cell_type": "code",
   "execution_count": 30,
   "metadata": {},
   "outputs": [
    {
     "data": {
      "text/plain": [
       "Model                      0\n",
       "Release date               0\n",
       "Max resolution             0\n",
       "Low resolution             0\n",
       "Effective pixels           0\n",
       "Zoom wide (W)              0\n",
       "Zoom tele (T)              0\n",
       "Normal focus range         0\n",
       "Macro focus range          1\n",
       "Storage included           2\n",
       "Weight (inc. batteries)    2\n",
       "Dimensions                 2\n",
       "Price                      0\n",
       "dtype: int64"
      ]
     },
     "execution_count": 30,
     "metadata": {},
     "output_type": "execute_result"
    }
   ],
   "source": [
    "df.isnull().sum()"
   ]
  },
  {
   "cell_type": "markdown",
   "metadata": {},
   "source": [
    "Описательная статистика"
   ]
  },
  {
   "cell_type": "code",
   "execution_count": 31,
   "metadata": {},
   "outputs": [
    {
     "data": {
      "text/html": [
       "<div>\n",
       "<style scoped>\n",
       "    .dataframe tbody tr th:only-of-type {\n",
       "        vertical-align: middle;\n",
       "    }\n",
       "\n",
       "    .dataframe tbody tr th {\n",
       "        vertical-align: top;\n",
       "    }\n",
       "\n",
       "    .dataframe thead th {\n",
       "        text-align: right;\n",
       "    }\n",
       "</style>\n",
       "<table border=\"1\" class=\"dataframe\">\n",
       "  <thead>\n",
       "    <tr style=\"text-align: right;\">\n",
       "      <th></th>\n",
       "      <th>Release date</th>\n",
       "      <th>Max resolution</th>\n",
       "      <th>Low resolution</th>\n",
       "      <th>Effective pixels</th>\n",
       "      <th>Zoom wide (W)</th>\n",
       "      <th>Zoom tele (T)</th>\n",
       "      <th>Normal focus range</th>\n",
       "      <th>Macro focus range</th>\n",
       "      <th>Storage included</th>\n",
       "      <th>Weight (inc. batteries)</th>\n",
       "      <th>Dimensions</th>\n",
       "      <th>Price</th>\n",
       "    </tr>\n",
       "  </thead>\n",
       "  <tbody>\n",
       "    <tr>\n",
       "      <th>count</th>\n",
       "      <td>1038.000000</td>\n",
       "      <td>1038.000000</td>\n",
       "      <td>1038.000000</td>\n",
       "      <td>1038.000000</td>\n",
       "      <td>1038.000000</td>\n",
       "      <td>1038.000000</td>\n",
       "      <td>1038.000000</td>\n",
       "      <td>1037.000000</td>\n",
       "      <td>1036.000000</td>\n",
       "      <td>1036.000000</td>\n",
       "      <td>1036.000000</td>\n",
       "      <td>1038.000000</td>\n",
       "    </tr>\n",
       "    <tr>\n",
       "      <th>mean</th>\n",
       "      <td>2003.590559</td>\n",
       "      <td>2474.672447</td>\n",
       "      <td>1773.936416</td>\n",
       "      <td>4.596339</td>\n",
       "      <td>32.963391</td>\n",
       "      <td>121.525048</td>\n",
       "      <td>44.145472</td>\n",
       "      <td>7.787850</td>\n",
       "      <td>17.447876</td>\n",
       "      <td>319.265444</td>\n",
       "      <td>105.363417</td>\n",
       "      <td>457.384393</td>\n",
       "    </tr>\n",
       "    <tr>\n",
       "      <th>std</th>\n",
       "      <td>2.724755</td>\n",
       "      <td>759.513608</td>\n",
       "      <td>830.897955</td>\n",
       "      <td>2.844044</td>\n",
       "      <td>10.333149</td>\n",
       "      <td>93.455422</td>\n",
       "      <td>24.141959</td>\n",
       "      <td>8.100081</td>\n",
       "      <td>27.440655</td>\n",
       "      <td>260.410137</td>\n",
       "      <td>24.262761</td>\n",
       "      <td>760.452918</td>\n",
       "    </tr>\n",
       "    <tr>\n",
       "      <th>min</th>\n",
       "      <td>1994.000000</td>\n",
       "      <td>0.000000</td>\n",
       "      <td>0.000000</td>\n",
       "      <td>0.000000</td>\n",
       "      <td>0.000000</td>\n",
       "      <td>0.000000</td>\n",
       "      <td>0.000000</td>\n",
       "      <td>0.000000</td>\n",
       "      <td>0.000000</td>\n",
       "      <td>0.000000</td>\n",
       "      <td>0.000000</td>\n",
       "      <td>14.000000</td>\n",
       "    </tr>\n",
       "    <tr>\n",
       "      <th>25%</th>\n",
       "      <td>2002.000000</td>\n",
       "      <td>2048.000000</td>\n",
       "      <td>1120.000000</td>\n",
       "      <td>3.000000</td>\n",
       "      <td>35.000000</td>\n",
       "      <td>96.000000</td>\n",
       "      <td>30.000000</td>\n",
       "      <td>3.000000</td>\n",
       "      <td>8.000000</td>\n",
       "      <td>180.000000</td>\n",
       "      <td>92.000000</td>\n",
       "      <td>149.000000</td>\n",
       "    </tr>\n",
       "    <tr>\n",
       "      <th>50%</th>\n",
       "      <td>2004.000000</td>\n",
       "      <td>2560.000000</td>\n",
       "      <td>2048.000000</td>\n",
       "      <td>4.000000</td>\n",
       "      <td>36.000000</td>\n",
       "      <td>108.000000</td>\n",
       "      <td>50.000000</td>\n",
       "      <td>6.000000</td>\n",
       "      <td>16.000000</td>\n",
       "      <td>226.000000</td>\n",
       "      <td>101.000000</td>\n",
       "      <td>199.000000</td>\n",
       "    </tr>\n",
       "    <tr>\n",
       "      <th>75%</th>\n",
       "      <td>2006.000000</td>\n",
       "      <td>3072.000000</td>\n",
       "      <td>2560.000000</td>\n",
       "      <td>7.000000</td>\n",
       "      <td>38.000000</td>\n",
       "      <td>117.000000</td>\n",
       "      <td>60.000000</td>\n",
       "      <td>10.000000</td>\n",
       "      <td>20.000000</td>\n",
       "      <td>350.000000</td>\n",
       "      <td>115.000000</td>\n",
       "      <td>399.000000</td>\n",
       "    </tr>\n",
       "    <tr>\n",
       "      <th>max</th>\n",
       "      <td>2007.000000</td>\n",
       "      <td>5616.000000</td>\n",
       "      <td>4992.000000</td>\n",
       "      <td>21.000000</td>\n",
       "      <td>52.000000</td>\n",
       "      <td>518.000000</td>\n",
       "      <td>120.000000</td>\n",
       "      <td>85.000000</td>\n",
       "      <td>450.000000</td>\n",
       "      <td>1860.000000</td>\n",
       "      <td>240.000000</td>\n",
       "      <td>7999.000000</td>\n",
       "    </tr>\n",
       "  </tbody>\n",
       "</table>\n",
       "</div>"
      ],
      "text/plain": [
       "       Release date  Max resolution  Low resolution  Effective pixels  \\\n",
       "count   1038.000000     1038.000000     1038.000000       1038.000000   \n",
       "mean    2003.590559     2474.672447     1773.936416          4.596339   \n",
       "std        2.724755      759.513608      830.897955          2.844044   \n",
       "min     1994.000000        0.000000        0.000000          0.000000   \n",
       "25%     2002.000000     2048.000000     1120.000000          3.000000   \n",
       "50%     2004.000000     2560.000000     2048.000000          4.000000   \n",
       "75%     2006.000000     3072.000000     2560.000000          7.000000   \n",
       "max     2007.000000     5616.000000     4992.000000         21.000000   \n",
       "\n",
       "       Zoom wide (W)  Zoom tele (T)  Normal focus range  Macro focus range  \\\n",
       "count    1038.000000    1038.000000         1038.000000        1037.000000   \n",
       "mean       32.963391     121.525048           44.145472           7.787850   \n",
       "std        10.333149      93.455422           24.141959           8.100081   \n",
       "min         0.000000       0.000000            0.000000           0.000000   \n",
       "25%        35.000000      96.000000           30.000000           3.000000   \n",
       "50%        36.000000     108.000000           50.000000           6.000000   \n",
       "75%        38.000000     117.000000           60.000000          10.000000   \n",
       "max        52.000000     518.000000          120.000000          85.000000   \n",
       "\n",
       "       Storage included  Weight (inc. batteries)   Dimensions        Price  \n",
       "count       1036.000000              1036.000000  1036.000000  1038.000000  \n",
       "mean          17.447876               319.265444   105.363417   457.384393  \n",
       "std           27.440655               260.410137    24.262761   760.452918  \n",
       "min            0.000000                 0.000000     0.000000    14.000000  \n",
       "25%            8.000000               180.000000    92.000000   149.000000  \n",
       "50%           16.000000               226.000000   101.000000   199.000000  \n",
       "75%           20.000000               350.000000   115.000000   399.000000  \n",
       "max          450.000000              1860.000000   240.000000  7999.000000  "
      ]
     },
     "execution_count": 31,
     "metadata": {},
     "output_type": "execute_result"
    }
   ],
   "source": [
    "df.describe()"
   ]
  },
  {
   "cell_type": "code",
   "execution_count": 32,
   "metadata": {},
   "outputs": [
    {
     "data": {
      "text/html": [
       "<div>\n",
       "<style scoped>\n",
       "    .dataframe tbody tr th:only-of-type {\n",
       "        vertical-align: middle;\n",
       "    }\n",
       "\n",
       "    .dataframe tbody tr th {\n",
       "        vertical-align: top;\n",
       "    }\n",
       "\n",
       "    .dataframe thead th {\n",
       "        text-align: right;\n",
       "    }\n",
       "</style>\n",
       "<table border=\"1\" class=\"dataframe\">\n",
       "  <thead>\n",
       "    <tr style=\"text-align: right;\">\n",
       "      <th></th>\n",
       "      <th>Model</th>\n",
       "      <th>Release date</th>\n",
       "      <th>Max resolution</th>\n",
       "      <th>Low resolution</th>\n",
       "      <th>Effective pixels</th>\n",
       "      <th>Zoom wide (W)</th>\n",
       "      <th>Zoom tele (T)</th>\n",
       "      <th>Normal focus range</th>\n",
       "      <th>Macro focus range</th>\n",
       "      <th>Storage included</th>\n",
       "      <th>Weight (inc. batteries)</th>\n",
       "      <th>Dimensions</th>\n",
       "      <th>Price</th>\n",
       "    </tr>\n",
       "  </thead>\n",
       "  <tbody>\n",
       "    <tr>\n",
       "      <th>52</th>\n",
       "      <td>Canon EOS-1Ds</td>\n",
       "      <td>2002</td>\n",
       "      <td>4064.0</td>\n",
       "      <td>2032.0</td>\n",
       "      <td>11.0</td>\n",
       "      <td>0.0</td>\n",
       "      <td>0.0</td>\n",
       "      <td>0.0</td>\n",
       "      <td>0.0</td>\n",
       "      <td>0.0</td>\n",
       "      <td>1585.0</td>\n",
       "      <td>156.0</td>\n",
       "      <td>7999.0</td>\n",
       "    </tr>\n",
       "    <tr>\n",
       "      <th>53</th>\n",
       "      <td>Canon EOS-1Ds Mark II</td>\n",
       "      <td>2004</td>\n",
       "      <td>4992.0</td>\n",
       "      <td>3600.0</td>\n",
       "      <td>16.0</td>\n",
       "      <td>0.0</td>\n",
       "      <td>0.0</td>\n",
       "      <td>0.0</td>\n",
       "      <td>0.0</td>\n",
       "      <td>0.0</td>\n",
       "      <td>1565.0</td>\n",
       "      <td>156.0</td>\n",
       "      <td>7999.0</td>\n",
       "    </tr>\n",
       "    <tr>\n",
       "      <th>54</th>\n",
       "      <td>Canon EOS-1Ds Mark III</td>\n",
       "      <td>2007</td>\n",
       "      <td>5616.0</td>\n",
       "      <td>4992.0</td>\n",
       "      <td>21.0</td>\n",
       "      <td>0.0</td>\n",
       "      <td>0.0</td>\n",
       "      <td>0.0</td>\n",
       "      <td>0.0</td>\n",
       "      <td>0.0</td>\n",
       "      <td>1385.0</td>\n",
       "      <td>150.0</td>\n",
       "      <td>7999.0</td>\n",
       "    </tr>\n",
       "  </tbody>\n",
       "</table>\n",
       "</div>"
      ],
      "text/plain": [
       "                     Model  Release date  Max resolution  Low resolution  \\\n",
       "52           Canon EOS-1Ds          2002          4064.0          2032.0   \n",
       "53   Canon EOS-1Ds Mark II          2004          4992.0          3600.0   \n",
       "54  Canon EOS-1Ds Mark III          2007          5616.0          4992.0   \n",
       "\n",
       "    Effective pixels  Zoom wide (W)  Zoom tele (T)  Normal focus range  \\\n",
       "52              11.0            0.0            0.0                 0.0   \n",
       "53              16.0            0.0            0.0                 0.0   \n",
       "54              21.0            0.0            0.0                 0.0   \n",
       "\n",
       "    Macro focus range  Storage included  Weight (inc. batteries)  Dimensions  \\\n",
       "52                0.0               0.0                   1585.0       156.0   \n",
       "53                0.0               0.0                   1565.0       156.0   \n",
       "54                0.0               0.0                   1385.0       150.0   \n",
       "\n",
       "     Price  \n",
       "52  7999.0  \n",
       "53  7999.0  \n",
       "54  7999.0  "
      ]
     },
     "execution_count": 32,
     "metadata": {},
     "output_type": "execute_result"
    }
   ],
   "source": [
    "df[df['Price']==7999.0]"
   ]
  },
  {
   "cell_type": "markdown",
   "metadata": {},
   "source": [
    "Матрица корреляций и heatmap."
   ]
  },
  {
   "cell_type": "code",
   "execution_count": 33,
   "metadata": {},
   "outputs": [
    {
     "data": {
      "text/plain": [
       "<matplotlib.axes._subplots.AxesSubplot at 0x2957ee7b208>"
      ]
     },
     "execution_count": 33,
     "metadata": {},
     "output_type": "execute_result"
    },
    {
     "data": {
      "image/png": "[encoded data removed]",
      "text/plain": [
       "<Figure size 432x288 with 2 Axes>"
      ]
     },
     "metadata": {
      "needs_background": "light"
     },
     "output_type": "display_data"
    }
   ],
   "source": [
    "corr = df.corr()\n",
    "sns.heatmap(corr)"
   ]
  },
  {
   "cell_type": "markdown",
   "metadata": {},
   "source": [
    "По heatmap определяем:\n",
    "\n",
    "   1. наиболее сильно положительно связаны: Max resolution и Effective pixels\n",
    "   2. наиболее сильно отрицательно связаны: Weight(inc. batteries) и Zoom wide (W)"
   ]
  },
  {
   "cell_type": "markdown",
   "metadata": {},
   "source": [
    "Узнаем сколько уникальных значений принимают переменные. И если будут переменные с небольшим количеством значений то возьмем в качестве категориальной одну из них."
   ]
  },
  {
   "cell_type": "code",
   "execution_count": 34,
   "metadata": {},
   "outputs": [
    {
     "data": {
      "text/plain": [
       "Model                      1038\n",
       "Release date                 14\n",
       "Max resolution               99\n",
       "Low resolution               70\n",
       "Effective pixels             16\n",
       "Zoom wide (W)                25\n",
       "Zoom tele (T)               100\n",
       "Normal focus range           32\n",
       "Macro focus range            29\n",
       "Storage included             44\n",
       "Weight (inc. batteries)     237\n",
       "Dimensions                  101\n",
       "Price                        43\n",
       "dtype: int64"
      ]
     },
     "execution_count": 34,
     "metadata": {},
     "output_type": "execute_result"
    }
   ],
   "source": [
    "df.nunique()"
   ]
  },
  {
   "cell_type": "markdown",
   "metadata": {},
   "source": [
    "Попробуем описать цену камеры как функцию ее параметров и названия бренда. Целевой переменной будет 'Price'. Посчитаем матрицу корреляций."
   ]
  },
  {
   "cell_type": "code",
   "execution_count": 35,
   "metadata": {},
   "outputs": [
    {
     "data": {
      "text/html": [
       "<div>\n",
       "<style scoped>\n",
       "    .dataframe tbody tr th:only-of-type {\n",
       "        vertical-align: middle;\n",
       "    }\n",
       "\n",
       "    .dataframe tbody tr th {\n",
       "        vertical-align: top;\n",
       "    }\n",
       "\n",
       "    .dataframe thead th {\n",
       "        text-align: right;\n",
       "    }\n",
       "</style>\n",
       "<table border=\"1\" class=\"dataframe\">\n",
       "  <thead>\n",
       "    <tr style=\"text-align: right;\">\n",
       "      <th></th>\n",
       "      <th>Release date</th>\n",
       "      <th>Max resolution</th>\n",
       "      <th>Low resolution</th>\n",
       "      <th>Effective pixels</th>\n",
       "      <th>Zoom wide (W)</th>\n",
       "      <th>Zoom tele (T)</th>\n",
       "      <th>Normal focus range</th>\n",
       "      <th>Macro focus range</th>\n",
       "      <th>Storage included</th>\n",
       "      <th>Weight (inc. batteries)</th>\n",
       "      <th>Dimensions</th>\n",
       "      <th>Price</th>\n",
       "    </tr>\n",
       "  </thead>\n",
       "  <tbody>\n",
       "    <tr>\n",
       "      <th>Release date</th>\n",
       "      <td>1.000000</td>\n",
       "      <td>0.788682</td>\n",
       "      <td>0.745426</td>\n",
       "      <td>0.790742</td>\n",
       "      <td>-0.070643</td>\n",
       "      <td>0.192601</td>\n",
       "      <td>-0.074297</td>\n",
       "      <td>-0.253152</td>\n",
       "      <td>0.213093</td>\n",
       "      <td>-0.259681</td>\n",
       "      <td>-0.248877</td>\n",
       "      <td>-0.023249</td>\n",
       "    </tr>\n",
       "    <tr>\n",
       "      <th>Max resolution</th>\n",
       "      <td>0.788682</td>\n",
       "      <td>1.000000</td>\n",
       "      <td>0.838381</td>\n",
       "      <td>0.953949</td>\n",
       "      <td>-0.372648</td>\n",
       "      <td>0.069073</td>\n",
       "      <td>-0.199703</td>\n",
       "      <td>-0.346806</td>\n",
       "      <td>0.166222</td>\n",
       "      <td>0.106678</td>\n",
       "      <td>-0.000057</td>\n",
       "      <td>0.183202</td>\n",
       "    </tr>\n",
       "    <tr>\n",
       "      <th>Low resolution</th>\n",
       "      <td>0.745426</td>\n",
       "      <td>0.838381</td>\n",
       "      <td>1.000000</td>\n",
       "      <td>0.815669</td>\n",
       "      <td>-0.206905</td>\n",
       "      <td>0.154279</td>\n",
       "      <td>-0.125364</td>\n",
       "      <td>-0.315368</td>\n",
       "      <td>0.156652</td>\n",
       "      <td>-0.044927</td>\n",
       "      <td>-0.105585</td>\n",
       "      <td>0.154179</td>\n",
       "    </tr>\n",
       "    <tr>\n",
       "      <th>Effective pixels</th>\n",
       "      <td>0.790742</td>\n",
       "      <td>0.953949</td>\n",
       "      <td>0.815669</td>\n",
       "      <td>1.000000</td>\n",
       "      <td>-0.327096</td>\n",
       "      <td>0.084277</td>\n",
       "      <td>-0.192413</td>\n",
       "      <td>-0.321379</td>\n",
       "      <td>0.157844</td>\n",
       "      <td>0.078198</td>\n",
       "      <td>-0.004077</td>\n",
       "      <td>0.189149</td>\n",
       "    </tr>\n",
       "    <tr>\n",
       "      <th>Zoom wide (W)</th>\n",
       "      <td>-0.070643</td>\n",
       "      <td>-0.372648</td>\n",
       "      <td>-0.206905</td>\n",
       "      <td>-0.327096</td>\n",
       "      <td>1.000000</td>\n",
       "      <td>0.364520</td>\n",
       "      <td>0.538564</td>\n",
       "      <td>0.293367</td>\n",
       "      <td>0.150968</td>\n",
       "      <td>-0.698782</td>\n",
       "      <td>-0.486542</td>\n",
       "      <td>-0.459236</td>\n",
       "    </tr>\n",
       "    <tr>\n",
       "      <th>Zoom tele (T)</th>\n",
       "      <td>0.192601</td>\n",
       "      <td>0.069073</td>\n",
       "      <td>0.154279</td>\n",
       "      <td>0.084277</td>\n",
       "      <td>0.364520</td>\n",
       "      <td>1.000000</td>\n",
       "      <td>0.167579</td>\n",
       "      <td>-0.074597</td>\n",
       "      <td>0.114075</td>\n",
       "      <td>-0.065904</td>\n",
       "      <td>-0.118171</td>\n",
       "      <td>-0.189377</td>\n",
       "    </tr>\n",
       "    <tr>\n",
       "      <th>Normal focus range</th>\n",
       "      <td>-0.074297</td>\n",
       "      <td>-0.199703</td>\n",
       "      <td>-0.125364</td>\n",
       "      <td>-0.192413</td>\n",
       "      <td>0.538564</td>\n",
       "      <td>0.167579</td>\n",
       "      <td>1.000000</td>\n",
       "      <td>0.397870</td>\n",
       "      <td>0.159605</td>\n",
       "      <td>-0.393359</td>\n",
       "      <td>-0.237108</td>\n",
       "      <td>-0.273974</td>\n",
       "    </tr>\n",
       "    <tr>\n",
       "      <th>Macro focus range</th>\n",
       "      <td>-0.253152</td>\n",
       "      <td>-0.346806</td>\n",
       "      <td>-0.315368</td>\n",
       "      <td>-0.321379</td>\n",
       "      <td>0.293367</td>\n",
       "      <td>-0.074597</td>\n",
       "      <td>0.397870</td>\n",
       "      <td>1.000000</td>\n",
       "      <td>-0.043769</td>\n",
       "      <td>-0.210554</td>\n",
       "      <td>-0.090336</td>\n",
       "      <td>-0.127660</td>\n",
       "    </tr>\n",
       "    <tr>\n",
       "      <th>Storage included</th>\n",
       "      <td>0.213093</td>\n",
       "      <td>0.166222</td>\n",
       "      <td>0.156652</td>\n",
       "      <td>0.157844</td>\n",
       "      <td>0.150968</td>\n",
       "      <td>0.114075</td>\n",
       "      <td>0.159605</td>\n",
       "      <td>-0.043769</td>\n",
       "      <td>1.000000</td>\n",
       "      <td>-0.155568</td>\n",
       "      <td>-0.114280</td>\n",
       "      <td>-0.103046</td>\n",
       "    </tr>\n",
       "    <tr>\n",
       "      <th>Weight (inc. batteries)</th>\n",
       "      <td>-0.259681</td>\n",
       "      <td>0.106678</td>\n",
       "      <td>-0.044927</td>\n",
       "      <td>0.078198</td>\n",
       "      <td>-0.698782</td>\n",
       "      <td>-0.065904</td>\n",
       "      <td>-0.393359</td>\n",
       "      <td>-0.210554</td>\n",
       "      <td>-0.155568</td>\n",
       "      <td>1.000000</td>\n",
       "      <td>0.677885</td>\n",
       "      <td>0.464760</td>\n",
       "    </tr>\n",
       "    <tr>\n",
       "      <th>Dimensions</th>\n",
       "      <td>-0.248877</td>\n",
       "      <td>-0.000057</td>\n",
       "      <td>-0.105585</td>\n",
       "      <td>-0.004077</td>\n",
       "      <td>-0.486542</td>\n",
       "      <td>-0.118171</td>\n",
       "      <td>-0.237108</td>\n",
       "      <td>-0.090336</td>\n",
       "      <td>-0.114280</td>\n",
       "      <td>0.677885</td>\n",
       "      <td>1.000000</td>\n",
       "      <td>0.264256</td>\n",
       "    </tr>\n",
       "    <tr>\n",
       "      <th>Price</th>\n",
       "      <td>-0.023249</td>\n",
       "      <td>0.183202</td>\n",
       "      <td>0.154179</td>\n",
       "      <td>0.189149</td>\n",
       "      <td>-0.459236</td>\n",
       "      <td>-0.189377</td>\n",
       "      <td>-0.273974</td>\n",
       "      <td>-0.127660</td>\n",
       "      <td>-0.103046</td>\n",
       "      <td>0.464760</td>\n",
       "      <td>0.264256</td>\n",
       "      <td>1.000000</td>\n",
       "    </tr>\n",
       "  </tbody>\n",
       "</table>\n",
       "</div>"
      ],
      "text/plain": [
       "                         Release date  Max resolution  Low resolution  \\\n",
       "Release date                 1.000000        0.788682        0.745426   \n",
       "Max resolution               0.788682        1.000000        0.838381   \n",
       "Low resolution               0.745426        0.838381        1.000000   \n",
       "Effective pixels             0.790742        0.953949        0.815669   \n",
       "Zoom wide (W)               -0.070643       -0.372648       -0.206905   \n",
       "Zoom tele (T)                0.192601        0.069073        0.154279   \n",
       "Normal focus range          -0.074297       -0.199703       -0.125364   \n",
       "Macro focus range           -0.253152       -0.346806       -0.315368   \n",
       "Storage included             0.213093        0.166222        0.156652   \n",
       "Weight (inc. batteries)     -0.259681        0.106678       -0.044927   \n",
       "Dimensions                  -0.248877       -0.000057       -0.105585   \n",
       "Price                       -0.023249        0.183202        0.154179   \n",
       "\n",
       "                         Effective pixels  Zoom wide (W)  Zoom tele (T)  \\\n",
       "Release date                     0.790742      -0.070643       0.192601   \n",
       "Max resolution                   0.953949      -0.372648       0.069073   \n",
       "Low resolution                   0.815669      -0.206905       0.154279   \n",
       "Effective pixels                 1.000000      -0.327096       0.084277   \n",
       "Zoom wide (W)                   -0.327096       1.000000       0.364520   \n",
       "Zoom tele (T)                    0.084277       0.364520       1.000000   \n",
       "Normal focus range              -0.192413       0.538564       0.167579   \n",
       "Macro focus range               -0.321379       0.293367      -0.074597   \n",
       "Storage included                 0.157844       0.150968       0.114075   \n",
       "Weight (inc. batteries)          0.078198      -0.698782      -0.065904   \n",
       "Dimensions                      -0.004077      -0.486542      -0.118171   \n",
       "Price                            0.189149      -0.459236      -0.189377   \n",
       "\n",
       "                         Normal focus range  Macro focus range  \\\n",
       "Release date                      -0.074297          -0.253152   \n",
       "Max resolution                    -0.199703          -0.346806   \n",
       "Low resolution                    -0.125364          -0.315368   \n",
       "Effective pixels                  -0.192413          -0.321379   \n",
       "Zoom wide (W)                      0.538564           0.293367   \n",
       "Zoom tele (T)                      0.167579          -0.074597   \n",
       "Normal focus range                 1.000000           0.397870   \n",
       "Macro focus range                  0.397870           1.000000   \n",
       "Storage included                   0.159605          -0.043769   \n",
       "Weight (inc. batteries)           -0.393359          -0.210554   \n",
       "Dimensions                        -0.237108          -0.090336   \n",
       "Price                             -0.273974          -0.127660   \n",
       "\n",
       "                         Storage included  Weight (inc. batteries)  \\\n",
       "Release date                     0.213093                -0.259681   \n",
       "Max resolution                   0.166222                 0.106678   \n",
       "Low resolution                   0.156652                -0.044927   \n",
       "Effective pixels                 0.157844                 0.078198   \n",
       "Zoom wide (W)                    0.150968                -0.698782   \n",
       "Zoom tele (T)                    0.114075                -0.065904   \n",
       "Normal focus range               0.159605                -0.393359   \n",
       "Macro focus range               -0.043769                -0.210554   \n",
       "Storage included                 1.000000                -0.155568   \n",
       "Weight (inc. batteries)         -0.155568                 1.000000   \n",
       "Dimensions                      -0.114280                 0.677885   \n",
       "Price                           -0.103046                 0.464760   \n",
       "\n",
       "                         Dimensions     Price  \n",
       "Release date              -0.248877 -0.023249  \n",
       "Max resolution            -0.000057  0.183202  \n",
       "Low resolution            -0.105585  0.154179  \n",
       "Effective pixels          -0.004077  0.189149  \n",
       "Zoom wide (W)             -0.486542 -0.459236  \n",
       "Zoom tele (T)             -0.118171 -0.189377  \n",
       "Normal focus range        -0.237108 -0.273974  \n",
       "Macro focus range         -0.090336 -0.127660  \n",
       "Storage included          -0.114280 -0.103046  \n",
       "Weight (inc. batteries)    0.677885  0.464760  \n",
       "Dimensions                 1.000000  0.264256  \n",
       "Price                      0.264256  1.000000  "
      ]
     },
     "execution_count": 35,
     "metadata": {},
     "output_type": "execute_result"
    }
   ],
   "source": [
    "corr = df.corr()\n",
    "corr.head(13)"
   ]
  },
  {
   "cell_type": "markdown",
   "metadata": {},
   "source": [
    "Effective pixels и Max resolution сильно скоррелированны, попробуем убрать Max resolution."
   ]
  },
  {
   "cell_type": "code",
   "execution_count": 36,
   "metadata": {},
   "outputs": [],
   "source": [
    "df.drop(['Max resolution'], axis=1, inplace=True)"
   ]
  },
  {
   "cell_type": "markdown",
   "metadata": {},
   "source": [
    "Вытащим название бренда из названия модели."
   ]
  },
  {
   "cell_type": "code",
   "execution_count": 37,
   "metadata": {
    "scrolled": true
   },
   "outputs": [
    {
     "data": {
      "text/html": [
       "<div>\n",
       "<style scoped>\n",
       "    .dataframe tbody tr th:only-of-type {\n",
       "        vertical-align: middle;\n",
       "    }\n",
       "\n",
       "    .dataframe tbody tr th {\n",
       "        vertical-align: top;\n",
       "    }\n",
       "\n",
       "    .dataframe thead th {\n",
       "        text-align: right;\n",
       "    }\n",
       "</style>\n",
       "<table border=\"1\" class=\"dataframe\">\n",
       "  <thead>\n",
       "    <tr style=\"text-align: right;\">\n",
       "      <th></th>\n",
       "      <th>Model</th>\n",
       "      <th>Release date</th>\n",
       "      <th>Low resolution</th>\n",
       "      <th>Effective pixels</th>\n",
       "      <th>Zoom wide (W)</th>\n",
       "      <th>Zoom tele (T)</th>\n",
       "      <th>Normal focus range</th>\n",
       "      <th>Macro focus range</th>\n",
       "      <th>Storage included</th>\n",
       "      <th>Weight (inc. batteries)</th>\n",
       "      <th>Dimensions</th>\n",
       "      <th>Price</th>\n",
       "      <th>Brand</th>\n",
       "    </tr>\n",
       "  </thead>\n",
       "  <tbody>\n",
       "    <tr>\n",
       "      <th>0</th>\n",
       "      <td>Agfa ePhoto 1280</td>\n",
       "      <td>1997</td>\n",
       "      <td>640.0</td>\n",
       "      <td>0.0</td>\n",
       "      <td>38.0</td>\n",
       "      <td>114.0</td>\n",
       "      <td>70.0</td>\n",
       "      <td>40.0</td>\n",
       "      <td>4.0</td>\n",
       "      <td>420.0</td>\n",
       "      <td>95.0</td>\n",
       "      <td>179.0</td>\n",
       "      <td>Agfa</td>\n",
       "    </tr>\n",
       "    <tr>\n",
       "      <th>1</th>\n",
       "      <td>Agfa ePhoto 1680</td>\n",
       "      <td>1998</td>\n",
       "      <td>640.0</td>\n",
       "      <td>1.0</td>\n",
       "      <td>38.0</td>\n",
       "      <td>114.0</td>\n",
       "      <td>50.0</td>\n",
       "      <td>0.0</td>\n",
       "      <td>4.0</td>\n",
       "      <td>420.0</td>\n",
       "      <td>158.0</td>\n",
       "      <td>179.0</td>\n",
       "      <td>Agfa</td>\n",
       "    </tr>\n",
       "    <tr>\n",
       "      <th>2</th>\n",
       "      <td>Agfa ePhoto CL18</td>\n",
       "      <td>2000</td>\n",
       "      <td>0.0</td>\n",
       "      <td>0.0</td>\n",
       "      <td>45.0</td>\n",
       "      <td>45.0</td>\n",
       "      <td>0.0</td>\n",
       "      <td>0.0</td>\n",
       "      <td>2.0</td>\n",
       "      <td>0.0</td>\n",
       "      <td>0.0</td>\n",
       "      <td>179.0</td>\n",
       "      <td>Agfa</td>\n",
       "    </tr>\n",
       "    <tr>\n",
       "      <th>3</th>\n",
       "      <td>Agfa ePhoto CL30</td>\n",
       "      <td>1999</td>\n",
       "      <td>640.0</td>\n",
       "      <td>0.0</td>\n",
       "      <td>35.0</td>\n",
       "      <td>35.0</td>\n",
       "      <td>0.0</td>\n",
       "      <td>0.0</td>\n",
       "      <td>4.0</td>\n",
       "      <td>0.0</td>\n",
       "      <td>0.0</td>\n",
       "      <td>269.0</td>\n",
       "      <td>Agfa</td>\n",
       "    </tr>\n",
       "    <tr>\n",
       "      <th>4</th>\n",
       "      <td>Agfa ePhoto CL30 Clik!</td>\n",
       "      <td>1999</td>\n",
       "      <td>640.0</td>\n",
       "      <td>0.0</td>\n",
       "      <td>43.0</td>\n",
       "      <td>43.0</td>\n",
       "      <td>50.0</td>\n",
       "      <td>0.0</td>\n",
       "      <td>40.0</td>\n",
       "      <td>300.0</td>\n",
       "      <td>128.0</td>\n",
       "      <td>1299.0</td>\n",
       "      <td>Agfa</td>\n",
       "    </tr>\n",
       "  </tbody>\n",
       "</table>\n",
       "</div>"
      ],
      "text/plain": [
       "                    Model  Release date  Low resolution  Effective pixels  \\\n",
       "0        Agfa ePhoto 1280          1997           640.0               0.0   \n",
       "1        Agfa ePhoto 1680          1998           640.0               1.0   \n",
       "2        Agfa ePhoto CL18          2000             0.0               0.0   \n",
       "3        Agfa ePhoto CL30          1999           640.0               0.0   \n",
       "4  Agfa ePhoto CL30 Clik!          1999           640.0               0.0   \n",
       "\n",
       "   Zoom wide (W)  Zoom tele (T)  Normal focus range  Macro focus range  \\\n",
       "0           38.0          114.0                70.0               40.0   \n",
       "1           38.0          114.0                50.0                0.0   \n",
       "2           45.0           45.0                 0.0                0.0   \n",
       "3           35.0           35.0                 0.0                0.0   \n",
       "4           43.0           43.0                50.0                0.0   \n",
       "\n",
       "   Storage included  Weight (inc. batteries)  Dimensions   Price Brand  \n",
       "0               4.0                    420.0        95.0   179.0  Agfa  \n",
       "1               4.0                    420.0       158.0   179.0  Agfa  \n",
       "2               2.0                      0.0         0.0   179.0  Agfa  \n",
       "3               4.0                      0.0         0.0   269.0  Agfa  \n",
       "4              40.0                    300.0       128.0  1299.0  Agfa  "
      ]
     },
     "execution_count": 37,
     "metadata": {},
     "output_type": "execute_result"
    }
   ],
   "source": [
    "df['Brand'] = df['Model'].apply(lambda x: x.split()[0])\n",
    "df.head()"
   ]
  },
  {
   "cell_type": "markdown",
   "metadata": {},
   "source": [
    "Количество названий брендов."
   ]
  },
  {
   "cell_type": "code",
   "execution_count": 38,
   "metadata": {},
   "outputs": [
    {
     "data": {
      "text/plain": [
       "21"
      ]
     },
     "execution_count": 38,
     "metadata": {},
     "output_type": "execute_result"
    }
   ],
   "source": [
    "df['Brand'].unique().shape[0]"
   ]
  },
  {
   "cell_type": "code",
   "execution_count": 39,
   "metadata": {},
   "outputs": [
    {
     "name": "stdout",
     "output_type": "stream",
     "text": [
      "['Agfa' 'Canon' 'Casio' 'Contax' 'Epson' 'Fujifilm' 'HP' 'JVC' 'Kodak'\n",
      " 'Kyocera' 'Leica' 'Nikon' 'Olympus' 'Panasonic' 'Pentax' 'Ricoh'\n",
      " 'Samsung' 'Sanyo' 'Sigma' 'Sony' 'Toshiba']\n"
     ]
    }
   ],
   "source": [
    "print(df['Brand'].unique())"
   ]
  },
  {
   "cell_type": "markdown",
   "metadata": {},
   "source": [
    "Разобьем данные на признаки и целевую переменную. В матрице признаков удалим колонку Model."
   ]
  },
  {
   "cell_type": "code",
   "execution_count": 41,
   "metadata": {},
   "outputs": [
    {
     "data": {
      "text/html": [
       "<div>\n",
       "<style scoped>\n",
       "    .dataframe tbody tr th:only-of-type {\n",
       "        vertical-align: middle;\n",
       "    }\n",
       "\n",
       "    .dataframe tbody tr th {\n",
       "        vertical-align: top;\n",
       "    }\n",
       "\n",
       "    .dataframe thead th {\n",
       "        text-align: right;\n",
       "    }\n",
       "</style>\n",
       "<table border=\"1\" class=\"dataframe\">\n",
       "  <thead>\n",
       "    <tr style=\"text-align: right;\">\n",
       "      <th></th>\n",
       "      <th>Release date</th>\n",
       "      <th>Low resolution</th>\n",
       "      <th>Effective pixels</th>\n",
       "      <th>Zoom wide (W)</th>\n",
       "      <th>Zoom tele (T)</th>\n",
       "      <th>Normal focus range</th>\n",
       "      <th>Macro focus range</th>\n",
       "      <th>Storage included</th>\n",
       "      <th>Weight (inc. batteries)</th>\n",
       "      <th>Dimensions</th>\n",
       "      <th>Brand</th>\n",
       "    </tr>\n",
       "  </thead>\n",
       "  <tbody>\n",
       "    <tr>\n",
       "      <th>0</th>\n",
       "      <td>1997</td>\n",
       "      <td>640.0</td>\n",
       "      <td>0.0</td>\n",
       "      <td>38.0</td>\n",
       "      <td>114.0</td>\n",
       "      <td>70.0</td>\n",
       "      <td>40.0</td>\n",
       "      <td>4.0</td>\n",
       "      <td>420.0</td>\n",
       "      <td>95.0</td>\n",
       "      <td>Agfa</td>\n",
       "    </tr>\n",
       "    <tr>\n",
       "      <th>1</th>\n",
       "      <td>1998</td>\n",
       "      <td>640.0</td>\n",
       "      <td>1.0</td>\n",
       "      <td>38.0</td>\n",
       "      <td>114.0</td>\n",
       "      <td>50.0</td>\n",
       "      <td>0.0</td>\n",
       "      <td>4.0</td>\n",
       "      <td>420.0</td>\n",
       "      <td>158.0</td>\n",
       "      <td>Agfa</td>\n",
       "    </tr>\n",
       "    <tr>\n",
       "      <th>2</th>\n",
       "      <td>2000</td>\n",
       "      <td>0.0</td>\n",
       "      <td>0.0</td>\n",
       "      <td>45.0</td>\n",
       "      <td>45.0</td>\n",
       "      <td>0.0</td>\n",
       "      <td>0.0</td>\n",
       "      <td>2.0</td>\n",
       "      <td>0.0</td>\n",
       "      <td>0.0</td>\n",
       "      <td>Agfa</td>\n",
       "    </tr>\n",
       "    <tr>\n",
       "      <th>3</th>\n",
       "      <td>1999</td>\n",
       "      <td>640.0</td>\n",
       "      <td>0.0</td>\n",
       "      <td>35.0</td>\n",
       "      <td>35.0</td>\n",
       "      <td>0.0</td>\n",
       "      <td>0.0</td>\n",
       "      <td>4.0</td>\n",
       "      <td>0.0</td>\n",
       "      <td>0.0</td>\n",
       "      <td>Agfa</td>\n",
       "    </tr>\n",
       "    <tr>\n",
       "      <th>4</th>\n",
       "      <td>1999</td>\n",
       "      <td>640.0</td>\n",
       "      <td>0.0</td>\n",
       "      <td>43.0</td>\n",
       "      <td>43.0</td>\n",
       "      <td>50.0</td>\n",
       "      <td>0.0</td>\n",
       "      <td>40.0</td>\n",
       "      <td>300.0</td>\n",
       "      <td>128.0</td>\n",
       "      <td>Agfa</td>\n",
       "    </tr>\n",
       "  </tbody>\n",
       "</table>\n",
       "</div>"
      ],
      "text/plain": [
       "   Release date  Low resolution  Effective pixels  Zoom wide (W)  \\\n",
       "0          1997           640.0               0.0           38.0   \n",
       "1          1998           640.0               1.0           38.0   \n",
       "2          2000             0.0               0.0           45.0   \n",
       "3          1999           640.0               0.0           35.0   \n",
       "4          1999           640.0               0.0           43.0   \n",
       "\n",
       "   Zoom tele (T)  Normal focus range  Macro focus range  Storage included  \\\n",
       "0          114.0                70.0               40.0               4.0   \n",
       "1          114.0                50.0                0.0               4.0   \n",
       "2           45.0                 0.0                0.0               2.0   \n",
       "3           35.0                 0.0                0.0               4.0   \n",
       "4           43.0                50.0                0.0              40.0   \n",
       "\n",
       "   Weight (inc. batteries)  Dimensions Brand  \n",
       "0                    420.0        95.0  Agfa  \n",
       "1                    420.0       158.0  Agfa  \n",
       "2                      0.0         0.0  Agfa  \n",
       "3                      0.0         0.0  Agfa  \n",
       "4                    300.0       128.0  Agfa  "
      ]
     },
     "execution_count": 41,
     "metadata": {},
     "output_type": "execute_result"
    }
   ],
   "source": [
    "y = df['Price']\n",
    "X = df.drop(['Model','Price'], axis=1)\n",
    "X.head()"
   ]
  },
  {
   "cell_type": "code",
   "execution_count": 42,
   "metadata": {},
   "outputs": [
    {
     "name": "stdout",
     "output_type": "stream",
     "text": [
      "<class 'pandas.core.frame.DataFrame'>\n",
      "RangeIndex: 1038 entries, 0 to 1037\n",
      "Data columns (total 11 columns):\n",
      " #   Column                   Non-Null Count  Dtype  \n",
      "---  ------                   --------------  -----  \n",
      " 0   Release date             1038 non-null   int64  \n",
      " 1   Low resolution           1038 non-null   float64\n",
      " 2   Effective pixels         1038 non-null   float64\n",
      " 3   Zoom wide (W)            1038 non-null   float64\n",
      " 4   Zoom tele (T)            1038 non-null   float64\n",
      " 5   Normal focus range       1038 non-null   float64\n",
      " 6   Macro focus range        1037 non-null   float64\n",
      " 7   Storage included         1036 non-null   float64\n",
      " 8   Weight (inc. batteries)  1036 non-null   float64\n",
      " 9   Dimensions               1036 non-null   float64\n",
      " 10  Brand                    1038 non-null   object \n",
      "dtypes: float64(9), int64(1), object(1)\n",
      "memory usage: 89.3+ KB\n"
     ]
    }
   ],
   "source": [
    "X.info()"
   ]
  },
  {
   "cell_type": "markdown",
   "metadata": {},
   "source": [
    "Заменим отсутствующие данные нулями в колонках Macro focus range, Storage included, Weight (inc. batteries), Dimensions."
   ]
  },
  {
   "cell_type": "code",
   "execution_count": 43,
   "metadata": {},
   "outputs": [],
   "source": [
    "X = X.fillna(0)"
   ]
  },
  {
   "cell_type": "markdown",
   "metadata": {},
   "source": [
    "Будем считать, что все параметры не нулевые, т.к. любая камера имеет размеры, вес и будем считать, что и другие ее физические параметры существуют. Поэтому заменим все 0 на средние значения."
   ]
  },
  {
   "cell_type": "code",
   "execution_count": 44,
   "metadata": {},
   "outputs": [
    {
     "data": {
      "text/html": [
       "<div>\n",
       "<style scoped>\n",
       "    .dataframe tbody tr th:only-of-type {\n",
       "        vertical-align: middle;\n",
       "    }\n",
       "\n",
       "    .dataframe tbody tr th {\n",
       "        vertical-align: top;\n",
       "    }\n",
       "\n",
       "    .dataframe thead th {\n",
       "        text-align: right;\n",
       "    }\n",
       "</style>\n",
       "<table border=\"1\" class=\"dataframe\">\n",
       "  <thead>\n",
       "    <tr style=\"text-align: right;\">\n",
       "      <th></th>\n",
       "      <th>Release date</th>\n",
       "      <th>Low resolution</th>\n",
       "      <th>Effective pixels</th>\n",
       "      <th>Zoom wide (W)</th>\n",
       "      <th>Zoom tele (T)</th>\n",
       "      <th>Normal focus range</th>\n",
       "      <th>Macro focus range</th>\n",
       "      <th>Storage included</th>\n",
       "      <th>Weight (inc. batteries)</th>\n",
       "      <th>Dimensions</th>\n",
       "      <th>Brand</th>\n",
       "    </tr>\n",
       "  </thead>\n",
       "  <tbody>\n",
       "    <tr>\n",
       "      <th>0</th>\n",
       "      <td>1997</td>\n",
       "      <td>640.000000</td>\n",
       "      <td>4.75673</td>\n",
       "      <td>38.0</td>\n",
       "      <td>114.0</td>\n",
       "      <td>70.000000</td>\n",
       "      <td>40.000000</td>\n",
       "      <td>4.0</td>\n",
       "      <td>420.000000</td>\n",
       "      <td>95.000000</td>\n",
       "      <td>Agfa</td>\n",
       "    </tr>\n",
       "    <tr>\n",
       "      <th>1</th>\n",
       "      <td>1998</td>\n",
       "      <td>640.000000</td>\n",
       "      <td>1.00000</td>\n",
       "      <td>38.0</td>\n",
       "      <td>114.0</td>\n",
       "      <td>50.000000</td>\n",
       "      <td>8.874725</td>\n",
       "      <td>4.0</td>\n",
       "      <td>420.000000</td>\n",
       "      <td>158.000000</td>\n",
       "      <td>Agfa</td>\n",
       "    </tr>\n",
       "    <tr>\n",
       "      <th>2</th>\n",
       "      <td>2000</td>\n",
       "      <td>1871.286585</td>\n",
       "      <td>4.75673</td>\n",
       "      <td>45.0</td>\n",
       "      <td>45.0</td>\n",
       "      <td>50.857936</td>\n",
       "      <td>8.874725</td>\n",
       "      <td>2.0</td>\n",
       "      <td>325.870936</td>\n",
       "      <td>106.806751</td>\n",
       "      <td>Agfa</td>\n",
       "    </tr>\n",
       "    <tr>\n",
       "      <th>3</th>\n",
       "      <td>1999</td>\n",
       "      <td>640.000000</td>\n",
       "      <td>4.75673</td>\n",
       "      <td>35.0</td>\n",
       "      <td>35.0</td>\n",
       "      <td>50.857936</td>\n",
       "      <td>8.874725</td>\n",
       "      <td>4.0</td>\n",
       "      <td>325.870936</td>\n",
       "      <td>106.806751</td>\n",
       "      <td>Agfa</td>\n",
       "    </tr>\n",
       "    <tr>\n",
       "      <th>4</th>\n",
       "      <td>1999</td>\n",
       "      <td>640.000000</td>\n",
       "      <td>4.75673</td>\n",
       "      <td>43.0</td>\n",
       "      <td>43.0</td>\n",
       "      <td>50.000000</td>\n",
       "      <td>8.874725</td>\n",
       "      <td>40.0</td>\n",
       "      <td>300.000000</td>\n",
       "      <td>128.000000</td>\n",
       "      <td>Agfa</td>\n",
       "    </tr>\n",
       "  </tbody>\n",
       "</table>\n",
       "</div>"
      ],
      "text/plain": [
       "   Release date  Low resolution  Effective pixels  Zoom wide (W)  \\\n",
       "0          1997      640.000000           4.75673           38.0   \n",
       "1          1998      640.000000           1.00000           38.0   \n",
       "2          2000     1871.286585           4.75673           45.0   \n",
       "3          1999      640.000000           4.75673           35.0   \n",
       "4          1999      640.000000           4.75673           43.0   \n",
       "\n",
       "   Zoom tele (T)  Normal focus range  Macro focus range  Storage included  \\\n",
       "0          114.0           70.000000          40.000000               4.0   \n",
       "1          114.0           50.000000           8.874725               4.0   \n",
       "2           45.0           50.857936           8.874725               2.0   \n",
       "3           35.0           50.857936           8.874725               4.0   \n",
       "4           43.0           50.000000           8.874725              40.0   \n",
       "\n",
       "   Weight (inc. batteries)  Dimensions Brand  \n",
       "0               420.000000   95.000000  Agfa  \n",
       "1               420.000000  158.000000  Agfa  \n",
       "2               325.870936  106.806751  Agfa  \n",
       "3               325.870936  106.806751  Agfa  \n",
       "4               300.000000  128.000000  Agfa  "
      ]
     },
     "execution_count": 44,
     "metadata": {},
     "output_type": "execute_result"
    }
   ],
   "source": [
    "for feature in X.loc[:, 'Low resolution':'Dimensions'].columns:\n",
    "    mean_feature = X[feature][X[feature]!=0].mean()\n",
    "    X.loc[X[feature]==0, feature] = mean_feature\n",
    "X.head()"
   ]
  },
  {
   "cell_type": "code",
   "execution_count": 45,
   "metadata": {},
   "outputs": [
    {
     "data": {
      "text/html": [
       "<div>\n",
       "<style scoped>\n",
       "    .dataframe tbody tr th:only-of-type {\n",
       "        vertical-align: middle;\n",
       "    }\n",
       "\n",
       "    .dataframe tbody tr th {\n",
       "        vertical-align: top;\n",
       "    }\n",
       "\n",
       "    .dataframe thead th {\n",
       "        text-align: right;\n",
       "    }\n",
       "</style>\n",
       "<table border=\"1\" class=\"dataframe\">\n",
       "  <thead>\n",
       "    <tr style=\"text-align: right;\">\n",
       "      <th></th>\n",
       "      <th>Release date</th>\n",
       "      <th>Low resolution</th>\n",
       "      <th>Effective pixels</th>\n",
       "      <th>Zoom wide (W)</th>\n",
       "      <th>Zoom tele (T)</th>\n",
       "      <th>Normal focus range</th>\n",
       "      <th>Macro focus range</th>\n",
       "      <th>Storage included</th>\n",
       "      <th>Weight (inc. batteries)</th>\n",
       "      <th>Dimensions</th>\n",
       "    </tr>\n",
       "  </thead>\n",
       "  <tbody>\n",
       "    <tr>\n",
       "      <th>count</th>\n",
       "      <td>1038.000000</td>\n",
       "      <td>1038.000000</td>\n",
       "      <td>1038.000000</td>\n",
       "      <td>1038.000000</td>\n",
       "      <td>1038.000000</td>\n",
       "      <td>1038.000000</td>\n",
       "      <td>1038.000000</td>\n",
       "      <td>1038.000000</td>\n",
       "      <td>1038.000000</td>\n",
       "      <td>1038.000000</td>\n",
       "    </tr>\n",
       "    <tr>\n",
       "      <th>mean</th>\n",
       "      <td>2003.590559</td>\n",
       "      <td>1871.286585</td>\n",
       "      <td>4.756730</td>\n",
       "      <td>35.903463</td>\n",
       "      <td>132.364113</td>\n",
       "      <td>50.857936</td>\n",
       "      <td>8.874725</td>\n",
       "      <td>19.798467</td>\n",
       "      <td>325.870936</td>\n",
       "      <td>106.806751</td>\n",
       "    </tr>\n",
       "    <tr>\n",
       "      <th>std</th>\n",
       "      <td>2.724755</td>\n",
       "      <td>719.396879</td>\n",
       "      <td>2.711211</td>\n",
       "      <td>3.125026</td>\n",
       "      <td>86.112878</td>\n",
       "      <td>16.918142</td>\n",
       "      <td>7.555371</td>\n",
       "      <td>26.656407</td>\n",
       "      <td>256.077684</td>\n",
       "      <td>20.871469</td>\n",
       "    </tr>\n",
       "    <tr>\n",
       "      <th>min</th>\n",
       "      <td>1994.000000</td>\n",
       "      <td>320.000000</td>\n",
       "      <td>1.000000</td>\n",
       "      <td>23.000000</td>\n",
       "      <td>28.000000</td>\n",
       "      <td>1.000000</td>\n",
       "      <td>1.000000</td>\n",
       "      <td>1.000000</td>\n",
       "      <td>100.000000</td>\n",
       "      <td>30.000000</td>\n",
       "    </tr>\n",
       "    <tr>\n",
       "      <th>25%</th>\n",
       "      <td>2002.000000</td>\n",
       "      <td>1296.000000</td>\n",
       "      <td>3.000000</td>\n",
       "      <td>35.000000</td>\n",
       "      <td>105.000000</td>\n",
       "      <td>40.000000</td>\n",
       "      <td>5.000000</td>\n",
       "      <td>10.000000</td>\n",
       "      <td>181.500000</td>\n",
       "      <td>92.250000</td>\n",
       "    </tr>\n",
       "    <tr>\n",
       "      <th>50%</th>\n",
       "      <td>2004.000000</td>\n",
       "      <td>2048.000000</td>\n",
       "      <td>4.756730</td>\n",
       "      <td>36.000000</td>\n",
       "      <td>114.000000</td>\n",
       "      <td>50.000000</td>\n",
       "      <td>8.874725</td>\n",
       "      <td>16.000000</td>\n",
       "      <td>230.000000</td>\n",
       "      <td>103.000000</td>\n",
       "    </tr>\n",
       "    <tr>\n",
       "      <th>75%</th>\n",
       "      <td>2006.000000</td>\n",
       "      <td>2560.000000</td>\n",
       "      <td>7.000000</td>\n",
       "      <td>38.000000</td>\n",
       "      <td>132.364113</td>\n",
       "      <td>60.000000</td>\n",
       "      <td>10.000000</td>\n",
       "      <td>20.000000</td>\n",
       "      <td>347.500000</td>\n",
       "      <td>115.000000</td>\n",
       "    </tr>\n",
       "    <tr>\n",
       "      <th>max</th>\n",
       "      <td>2007.000000</td>\n",
       "      <td>4992.000000</td>\n",
       "      <td>21.000000</td>\n",
       "      <td>52.000000</td>\n",
       "      <td>518.000000</td>\n",
       "      <td>120.000000</td>\n",
       "      <td>85.000000</td>\n",
       "      <td>450.000000</td>\n",
       "      <td>1860.000000</td>\n",
       "      <td>240.000000</td>\n",
       "    </tr>\n",
       "  </tbody>\n",
       "</table>\n",
       "</div>"
      ],
      "text/plain": [
       "       Release date  Low resolution  Effective pixels  Zoom wide (W)  \\\n",
       "count   1038.000000     1038.000000       1038.000000    1038.000000   \n",
       "mean    2003.590559     1871.286585          4.756730      35.903463   \n",
       "std        2.724755      719.396879          2.711211       3.125026   \n",
       "min     1994.000000      320.000000          1.000000      23.000000   \n",
       "25%     2002.000000     1296.000000          3.000000      35.000000   \n",
       "50%     2004.000000     2048.000000          4.756730      36.000000   \n",
       "75%     2006.000000     2560.000000          7.000000      38.000000   \n",
       "max     2007.000000     4992.000000         21.000000      52.000000   \n",
       "\n",
       "       Zoom tele (T)  Normal focus range  Macro focus range  Storage included  \\\n",
       "count    1038.000000         1038.000000        1038.000000       1038.000000   \n",
       "mean      132.364113           50.857936           8.874725         19.798467   \n",
       "std        86.112878           16.918142           7.555371         26.656407   \n",
       "min        28.000000            1.000000           1.000000          1.000000   \n",
       "25%       105.000000           40.000000           5.000000         10.000000   \n",
       "50%       114.000000           50.000000           8.874725         16.000000   \n",
       "75%       132.364113           60.000000          10.000000         20.000000   \n",
       "max       518.000000          120.000000          85.000000        450.000000   \n",
       "\n",
       "       Weight (inc. batteries)   Dimensions  \n",
       "count              1038.000000  1038.000000  \n",
       "mean                325.870936   106.806751  \n",
       "std                 256.077684    20.871469  \n",
       "min                 100.000000    30.000000  \n",
       "25%                 181.500000    92.250000  \n",
       "50%                 230.000000   103.000000  \n",
       "75%                 347.500000   115.000000  \n",
       "max                1860.000000   240.000000  "
      ]
     },
     "execution_count": 45,
     "metadata": {},
     "output_type": "execute_result"
    }
   ],
   "source": [
    "X.describe()"
   ]
  },
  {
   "cell_type": "markdown",
   "metadata": {},
   "source": [
    "Переведем названия бренда в числовое представление."
   ]
  },
  {
   "cell_type": "code",
   "execution_count": 46,
   "metadata": {},
   "outputs": [
    {
     "data": {
      "text/html": [
       "<div>\n",
       "<style scoped>\n",
       "    .dataframe tbody tr th:only-of-type {\n",
       "        vertical-align: middle;\n",
       "    }\n",
       "\n",
       "    .dataframe tbody tr th {\n",
       "        vertical-align: top;\n",
       "    }\n",
       "\n",
       "    .dataframe thead th {\n",
       "        text-align: right;\n",
       "    }\n",
       "</style>\n",
       "<table border=\"1\" class=\"dataframe\">\n",
       "  <thead>\n",
       "    <tr style=\"text-align: right;\">\n",
       "      <th></th>\n",
       "      <th>Release date</th>\n",
       "      <th>Low resolution</th>\n",
       "      <th>Effective pixels</th>\n",
       "      <th>Zoom wide (W)</th>\n",
       "      <th>Zoom tele (T)</th>\n",
       "      <th>Normal focus range</th>\n",
       "      <th>Macro focus range</th>\n",
       "      <th>Storage included</th>\n",
       "      <th>Weight (inc. batteries)</th>\n",
       "      <th>Dimensions</th>\n",
       "      <th>...</th>\n",
       "      <th>Brand_Nikon</th>\n",
       "      <th>Brand_Olympus</th>\n",
       "      <th>Brand_Panasonic</th>\n",
       "      <th>Brand_Pentax</th>\n",
       "      <th>Brand_Ricoh</th>\n",
       "      <th>Brand_Samsung</th>\n",
       "      <th>Brand_Sanyo</th>\n",
       "      <th>Brand_Sigma</th>\n",
       "      <th>Brand_Sony</th>\n",
       "      <th>Brand_Toshiba</th>\n",
       "    </tr>\n",
       "  </thead>\n",
       "  <tbody>\n",
       "    <tr>\n",
       "      <th>0</th>\n",
       "      <td>1997</td>\n",
       "      <td>640.000000</td>\n",
       "      <td>4.75673</td>\n",
       "      <td>38.0</td>\n",
       "      <td>114.0</td>\n",
       "      <td>70.000000</td>\n",
       "      <td>40.000000</td>\n",
       "      <td>4.0</td>\n",
       "      <td>420.000000</td>\n",
       "      <td>95.000000</td>\n",
       "      <td>...</td>\n",
       "      <td>0</td>\n",
       "      <td>0</td>\n",
       "      <td>0</td>\n",
       "      <td>0</td>\n",
       "      <td>0</td>\n",
       "      <td>0</td>\n",
       "      <td>0</td>\n",
       "      <td>0</td>\n",
       "      <td>0</td>\n",
       "      <td>0</td>\n",
       "    </tr>\n",
       "    <tr>\n",
       "      <th>1</th>\n",
       "      <td>1998</td>\n",
       "      <td>640.000000</td>\n",
       "      <td>1.00000</td>\n",
       "      <td>38.0</td>\n",
       "      <td>114.0</td>\n",
       "      <td>50.000000</td>\n",
       "      <td>8.874725</td>\n",
       "      <td>4.0</td>\n",
       "      <td>420.000000</td>\n",
       "      <td>158.000000</td>\n",
       "      <td>...</td>\n",
       "      <td>0</td>\n",
       "      <td>0</td>\n",
       "      <td>0</td>\n",
       "      <td>0</td>\n",
       "      <td>0</td>\n",
       "      <td>0</td>\n",
       "      <td>0</td>\n",
       "      <td>0</td>\n",
       "      <td>0</td>\n",
       "      <td>0</td>\n",
       "    </tr>\n",
       "    <tr>\n",
       "      <th>2</th>\n",
       "      <td>2000</td>\n",
       "      <td>1871.286585</td>\n",
       "      <td>4.75673</td>\n",
       "      <td>45.0</td>\n",
       "      <td>45.0</td>\n",
       "      <td>50.857936</td>\n",
       "      <td>8.874725</td>\n",
       "      <td>2.0</td>\n",
       "      <td>325.870936</td>\n",
       "      <td>106.806751</td>\n",
       "      <td>...</td>\n",
       "      <td>0</td>\n",
       "      <td>0</td>\n",
       "      <td>0</td>\n",
       "      <td>0</td>\n",
       "      <td>0</td>\n",
       "      <td>0</td>\n",
       "      <td>0</td>\n",
       "      <td>0</td>\n",
       "      <td>0</td>\n",
       "      <td>0</td>\n",
       "    </tr>\n",
       "    <tr>\n",
       "      <th>3</th>\n",
       "      <td>1999</td>\n",
       "      <td>640.000000</td>\n",
       "      <td>4.75673</td>\n",
       "      <td>35.0</td>\n",
       "      <td>35.0</td>\n",
       "      <td>50.857936</td>\n",
       "      <td>8.874725</td>\n",
       "      <td>4.0</td>\n",
       "      <td>325.870936</td>\n",
       "      <td>106.806751</td>\n",
       "      <td>...</td>\n",
       "      <td>0</td>\n",
       "      <td>0</td>\n",
       "      <td>0</td>\n",
       "      <td>0</td>\n",
       "      <td>0</td>\n",
       "      <td>0</td>\n",
       "      <td>0</td>\n",
       "      <td>0</td>\n",
       "      <td>0</td>\n",
       "      <td>0</td>\n",
       "    </tr>\n",
       "    <tr>\n",
       "      <th>4</th>\n",
       "      <td>1999</td>\n",
       "      <td>640.000000</td>\n",
       "      <td>4.75673</td>\n",
       "      <td>43.0</td>\n",
       "      <td>43.0</td>\n",
       "      <td>50.000000</td>\n",
       "      <td>8.874725</td>\n",
       "      <td>40.0</td>\n",
       "      <td>300.000000</td>\n",
       "      <td>128.000000</td>\n",
       "      <td>...</td>\n",
       "      <td>0</td>\n",
       "      <td>0</td>\n",
       "      <td>0</td>\n",
       "      <td>0</td>\n",
       "      <td>0</td>\n",
       "      <td>0</td>\n",
       "      <td>0</td>\n",
       "      <td>0</td>\n",
       "      <td>0</td>\n",
       "      <td>0</td>\n",
       "    </tr>\n",
       "  </tbody>\n",
       "</table>\n",
       "<p>5 rows × 30 columns</p>\n",
       "</div>"
      ],
      "text/plain": [
       "   Release date  Low resolution  Effective pixels  Zoom wide (W)  \\\n",
       "0          1997      640.000000           4.75673           38.0   \n",
       "1          1998      640.000000           1.00000           38.0   \n",
       "2          2000     1871.286585           4.75673           45.0   \n",
       "3          1999      640.000000           4.75673           35.0   \n",
       "4          1999      640.000000           4.75673           43.0   \n",
       "\n",
       "   Zoom tele (T)  Normal focus range  Macro focus range  Storage included  \\\n",
       "0          114.0           70.000000          40.000000               4.0   \n",
       "1          114.0           50.000000           8.874725               4.0   \n",
       "2           45.0           50.857936           8.874725               2.0   \n",
       "3           35.0           50.857936           8.874725               4.0   \n",
       "4           43.0           50.000000           8.874725              40.0   \n",
       "\n",
       "   Weight (inc. batteries)  Dimensions  ...  Brand_Nikon  Brand_Olympus  \\\n",
       "0               420.000000   95.000000  ...            0              0   \n",
       "1               420.000000  158.000000  ...            0              0   \n",
       "2               325.870936  106.806751  ...            0              0   \n",
       "3               325.870936  106.806751  ...            0              0   \n",
       "4               300.000000  128.000000  ...            0              0   \n",
       "\n",
       "   Brand_Panasonic  Brand_Pentax  Brand_Ricoh  Brand_Samsung  Brand_Sanyo  \\\n",
       "0                0             0            0              0            0   \n",
       "1                0             0            0              0            0   \n",
       "2                0             0            0              0            0   \n",
       "3                0             0            0              0            0   \n",
       "4                0             0            0              0            0   \n",
       "\n",
       "   Brand_Sigma  Brand_Sony  Brand_Toshiba  \n",
       "0            0           0              0  \n",
       "1            0           0              0  \n",
       "2            0           0              0  \n",
       "3            0           0              0  \n",
       "4            0           0              0  \n",
       "\n",
       "[5 rows x 30 columns]"
      ]
     },
     "execution_count": 46,
     "metadata": {},
     "output_type": "execute_result"
    }
   ],
   "source": [
    "X = pd.get_dummies(X, columns=['Brand'], drop_first=True)\n",
    "X.head()"
   ]
  },
  {
   "cell_type": "markdown",
   "metadata": {},
   "source": [
    "Теперь стандартизируем признаки."
   ]
  },
  {
   "cell_type": "code",
   "execution_count": 49,
   "metadata": {},
   "outputs": [],
   "source": [
    "scaler = StandardScaler()"
   ]
  },
  {
   "cell_type": "markdown",
   "metadata": {},
   "source": [
    "Разобъем данные на обучающую и тестовую выборки. Обучим модель, сделаем предсказание и оценим модель коэфициентом детерминации."
   ]
  },
  {
   "cell_type": "code",
   "execution_count": 52,
   "metadata": {},
   "outputs": [
    {
     "data": {
      "text/plain": [
       "0.40321044730853206"
      ]
     },
     "execution_count": 52,
     "metadata": {},
     "output_type": "execute_result"
    }
   ],
   "source": [
    "X_train, X_test, y_train, y_test = train_test_split(X, y, test_size = 0.20, random_state = 10)\n",
    "\n",
    "X_train_scaled = scaler.fit_transform(X_train)\n",
    "X_test_scaled = scaler.transform(X_test)\n",
    "\n",
    "lr = LinearRegression()\n",
    "lr.fit(X_train_scaled, y_train)\n",
    "\n",
    "y_predict = lr.predict(X_test_scaled)\n",
    "\n",
    "r2_score(y_test, y_predict)"
   ]
  },
  {
   "cell_type": "code",
   "execution_count": 53,
   "metadata": {},
   "outputs": [
    {
     "data": {
      "text/html": [
       "<div>\n",
       "<style scoped>\n",
       "    .dataframe tbody tr th:only-of-type {\n",
       "        vertical-align: middle;\n",
       "    }\n",
       "\n",
       "    .dataframe tbody tr th {\n",
       "        vertical-align: top;\n",
       "    }\n",
       "\n",
       "    .dataframe thead th {\n",
       "        text-align: right;\n",
       "    }\n",
       "</style>\n",
       "<table border=\"1\" class=\"dataframe\">\n",
       "  <thead>\n",
       "    <tr style=\"text-align: right;\">\n",
       "      <th></th>\n",
       "      <th>y_predict</th>\n",
       "      <th>y_test</th>\n",
       "    </tr>\n",
       "  </thead>\n",
       "  <tbody>\n",
       "    <tr>\n",
       "      <th>248</th>\n",
       "      <td>32.313869</td>\n",
       "      <td>169.0</td>\n",
       "    </tr>\n",
       "    <tr>\n",
       "      <th>418</th>\n",
       "      <td>-79.357463</td>\n",
       "      <td>296.0</td>\n",
       "    </tr>\n",
       "    <tr>\n",
       "      <th>592</th>\n",
       "      <td>567.095434</td>\n",
       "      <td>449.0</td>\n",
       "    </tr>\n",
       "    <tr>\n",
       "      <th>64</th>\n",
       "      <td>1419.851879</td>\n",
       "      <td>549.0</td>\n",
       "    </tr>\n",
       "    <tr>\n",
       "      <th>524</th>\n",
       "      <td>341.852780</td>\n",
       "      <td>99.0</td>\n",
       "    </tr>\n",
       "    <tr>\n",
       "      <th>712</th>\n",
       "      <td>1401.371951</td>\n",
       "      <td>299.0</td>\n",
       "    </tr>\n",
       "    <tr>\n",
       "      <th>195</th>\n",
       "      <td>928.777019</td>\n",
       "      <td>229.0</td>\n",
       "    </tr>\n",
       "    <tr>\n",
       "      <th>731</th>\n",
       "      <td>1044.015119</td>\n",
       "      <td>149.0</td>\n",
       "    </tr>\n",
       "    <tr>\n",
       "      <th>285</th>\n",
       "      <td>179.019136</td>\n",
       "      <td>179.0</td>\n",
       "    </tr>\n",
       "    <tr>\n",
       "      <th>1035</th>\n",
       "      <td>214.558396</td>\n",
       "      <td>62.0</td>\n",
       "    </tr>\n",
       "  </tbody>\n",
       "</table>\n",
       "</div>"
      ],
      "text/plain": [
       "        y_predict  y_test\n",
       "248     32.313869   169.0\n",
       "418    -79.357463   296.0\n",
       "592    567.095434   449.0\n",
       "64    1419.851879   549.0\n",
       "524    341.852780    99.0\n",
       "712   1401.371951   299.0\n",
       "195    928.777019   229.0\n",
       "731   1044.015119   149.0\n",
       "285    179.019136   179.0\n",
       "1035   214.558396    62.0"
      ]
     },
     "execution_count": 53,
     "metadata": {},
     "output_type": "execute_result"
    }
   ],
   "source": [
    "pd.DataFrame({'y_predict':y_predict, 'y_test':y_test}).head(10)"
   ]
  },
  {
   "cell_type": "markdown",
   "metadata": {},
   "source": [
    "Посчитанные коэффициенты."
   ]
  },
  {
   "cell_type": "code",
   "execution_count": 55,
   "metadata": {},
   "outputs": [
    {
     "data": {
      "text/plain": [
       "array([  55.39254556,    1.59503782,  127.88848975,   42.31078649,\n",
       "       -170.31221571,   -3.1562938 ,   51.78313651,    2.96229854,\n",
       "        427.44378693,    7.22643313,   84.93724389,   32.17032135,\n",
       "         16.63565213,   45.07248001,   23.07723249,   -3.17947999,\n",
       "         -7.63728499,  -99.72742775,  107.32493707,  -10.07781187,\n",
       "         67.39879578,  133.09888454,  189.0404336 ,   21.50180633,\n",
       "         97.80208662,  -15.49426825,   46.39643773,   -6.54340448,\n",
       "         87.29994649,    2.10961727])"
      ]
     },
     "execution_count": 55,
     "metadata": {},
     "output_type": "execute_result"
    }
   ],
   "source": [
    "lr.coef_"
   ]
  },
  {
   "cell_type": "code",
   "execution_count": 56,
   "metadata": {},
   "outputs": [
    {
     "data": {
      "text/plain": [
       "463.842168674698"
      ]
     },
     "execution_count": 56,
     "metadata": {},
     "output_type": "execute_result"
    }
   ],
   "source": [
    "lr.intercept_"
   ]
  },
  {
   "cell_type": "markdown",
   "metadata": {},
   "source": [
    "Графики зависимости целевой переменной от одного из признаков(стандартизировнного) и линию регрессии"
   ]
  },
  {
   "cell_type": "code",
   "execution_count": null,
   "metadata": {},
   "outputs": [],
   "source": [
    "xx = np.linspace(-3,3,100)\n",
    "yy = lr.coef_[1]*xx + lr.intercept_\n",
    "plt.scatter(X_test_scaled[:,2], y_test)\n",
    "plt.plot(xx, yy, c='red', label='regression line')\n",
    "plt.xlabel('Test X[Max resolution] scaled')\n",
    "plt.ylabel('Price from Test Sample')\n",
    "plt.legend();"
   ]
  },
  {
   "cell_type": "markdown",
   "metadata": {},
   "source": [
    "Модель линейно приблизила данные."
   ]
  },
  {
   "cell_type": "code",
   "execution_count": 58,
   "metadata": {},
   "outputs": [
    {
     "data": {
      "text/plain": [
       "<matplotlib.collections.PathCollection at 0x295093440c8>"
      ]
     },
     "execution_count": 58,
     "metadata": {},
     "output_type": "execute_result"
    },
    {
     "data": {
      "image/png": "[encoded data removed]",
      "text/plain": [
       "<Figure size 432x288 with 1 Axes>"
      ]
     },
     "metadata": {
      "needs_background": "light"
     },
     "output_type": "display_data"
    }
   ],
   "source": [
    "plt.scatter(y_predict, y_test)"
   ]
  },
  {
   "cell_type": "code",
   "execution_count": 59,
   "metadata": {},
   "outputs": [
    {
     "data": {
      "text/plain": [
       "<matplotlib.legend.Legend at 0x295093e7408>"
      ]
     },
     "execution_count": 59,
     "metadata": {},
     "output_type": "execute_result"
    },
    {
     "data": {
      "image/png": "[encoded data removed]",
      "text/plain": [
       "<Figure size 1440x504 with 1 Axes>"
      ]
     },
     "metadata": {
      "needs_background": "light"
     },
     "output_type": "display_data"
    }
   ],
   "source": [
    "n_samples = 20\n",
    "x = np.arange(len(y_test[:n_samples]))\n",
    "width = 0.35\n",
    "\n",
    "fig, ax = plt.subplots(1, 1, figsize=(20, 7))\n",
    "\n",
    "rects1 = ax.bar(x - width/2, y_test[:n_samples], width, label='Test')\n",
    "rects2 = ax.bar(x + width/2, y_predict[:n_samples], width, label='Predict')\n",
    "#ax.set_ylim(-1000, 8000)\n",
    "#ax.set_yscale('log')\n",
    "ax.legend()"
   ]
  },
  {
   "cell_type": "markdown",
   "metadata": {},
   "source": [
    "### Mетрики качества регрессии. \n",
    "\n",
    "MSE (*mean squared error*)\n",
    "\n",
    "\n",
    "$$ MSE = \\frac{1}{N}\\sum_{i=1}^{N} (y_i - \\hat{y}_i)^2 $$\n",
    "\n",
    "\n",
    "MAE (*mean absolute error*)\n",
    "\n",
    "$$ MAE = \\frac{1}{N}\\sum_{i=1}^{N} |y_i - \\hat{y}_i| $$\n",
    "\n",
    "MAPE (*mean absolute percentage error*)\n",
    "\n",
    "$$ MAPE = \\frac{1}{N}\\sum_{i=1}^{N} \\frac{|y_i - \\hat{y}_i|}{|y_i|} $$\n",
    "\n",
    "$R^2$ - коэффициент детерминации\n",
    "\n",
    "$$ R^2 =1- \\frac{ \\frac{1}{N}\\sum_{i=1}^{N} (y_i - \\hat{y}_i)^2}{ \\frac{1}{N}\\sum_{i=1}^{N} (y_i - \\bar{y}_i)^2} $$"
   ]
  },
  {
   "cell_type": "code",
   "execution_count": 60,
   "metadata": {},
   "outputs": [],
   "source": [
    "def mse(y_true, y_pred):\n",
    "    N = len(y_true)\n",
    "    return sum((y_true-y_pred)**2) / N\n",
    "\n",
    "def mae(y_true, y_pred):\n",
    "    N = len(y_true)\n",
    "    return sum(np.abs(y_true-y_pred)) / N\n",
    "\n",
    "def mape(y_true, y_pred):\n",
    "    N = len(y_true)\n",
    "    return sum(np.abs(y_true-y_pred) / y_true) / N\n",
    "\n",
    "def r2(y_true, y_pred):\n",
    "    N = len(y_true)\n",
    "    error_var = 1/(N-1) * sum((y_true - y_pred) ** 2)\n",
    "    y_var = y_true.var()\n",
    "    return 1 - error_var / y_var"
   ]
  },
  {
   "cell_type": "code",
   "execution_count": 61,
   "metadata": {},
   "outputs": [
    {
     "name": "stdout",
     "output_type": "stream",
     "text": [
      "MSE:  340727.71971062024\n",
      "MAE:  332.5148350511685\n",
      "MAPE: 1.3088871775914586\n",
      "R2:  0.40321044730853295\n"
     ]
    }
   ],
   "source": [
    "print('MSE: ', mse(y_test, y_predict))\n",
    "print('MAE: ', mae(y_test, y_predict))\n",
    "print('MAPE:',  mape(y_test, y_predict))\n",
    "print('R2: ', r2(y_test, y_predict))"
   ]
  },
  {
   "cell_type": "code",
   "execution_count": 62,
   "metadata": {},
   "outputs": [
    {
     "name": "stdout",
     "output_type": "stream",
     "text": [
      "True\n",
      "True\n",
      "True\n"
     ]
    }
   ],
   "source": [
    "print(np.isclose(mse(y_test, y_predict), mean_squared_error(y_test, y_predict)))\n",
    "print(np.isclose(mae(y_test, y_predict), mean_absolute_error(y_test, y_predict)))\n",
    "print(np.isclose(r2(y_test, y_predict), r2_score(y_test, y_predict)))"
   ]
  }
 ],
 "metadata": {
  "kernelspec": {
   "display_name": "Python 3",
   "language": "python",
   "name": "python3"
  },
  "language_info": {
   "codemirror_mode": {
    "name": "ipython",
    "version": 3
   },
   "file_extension": ".py",
   "mimetype": "text/x-python",
   "name": "python",
   "nbconvert_exporter": "python",
   "pygments_lexer": "ipython3",
   "version": "3.7.6"
  }
 },
 "nbformat": 4,
 "nbformat_minor": 4
}
