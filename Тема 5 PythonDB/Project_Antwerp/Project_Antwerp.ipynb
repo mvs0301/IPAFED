{
 "cells": [
  {
   "cell_type": "markdown",
   "metadata": {},
   "source": [
    "<img src=../../Img/sci.png>\n",
    "\n",
    "### Финансовый университет\n",
    "\n",
    "##  Инструментальная поддержка анализа финансово-экономических данных\n",
    "\n",
    "# Тема 5. Работа с базами данных в Пайтон. Библиотека SQLAlchemy Core\n",
    "\n",
    "Семинар<br>\n",
    "10 апреля 2021 года<br>\n",
    "24 апреля 2021 года <br>\n",
    "Поток: ПМ18-1, ПМ18-2, ПМ18-3, ПМ18-4\n",
    "\n",
    "Преподаватель: Смирнов Михаил Викторович, доцент Департамента анализа данных и машинного обучения Финансового университета при Правительстве Российской Федерации. mvsmirnov@fa.ru\n",
    "\n",
    "Москва - 2021\n",
    "\n",
    "При подготовке материалов учебных занятий использовались источники\n",
    "- Essential SQLAlchemy: Mapping Python to Databases 2nd Edition. Jason Myers, Rick Copeland. O'Reilly Media, Inc. 2015.\n",
    "- <a href=\"http://insideairbnb.com/get-the-data.html\">Inside Airbnb</a>\n",
    "\n",
    "# Проект Антверпен\n",
    "\n",
    "<img src=\"./Img/Antwerp_1.png\">\n",
    "\n",
    "## Задание\n",
    "Используя исходные данные системы <a href=\"http://insideairbnb.com/get-the-data.html\">*Airbnb*</a> в формате *csv* об объектах размещения туристов в Антверпене, создать структуру реляционной базы данных согласно схеме. Создать первичные и внешние ключи, а также другие необходимые ограничения. Наполнить базу данных сведениями об объектах размещения в Антверпене.\n",
    "\n",
    "<img src=./Img/Schema.png>"
   ]
  },
  {
   "cell_type": "markdown",
   "metadata": {},
   "source": [
    "# 1. Изучение источника данных\n",
    "<img src=\"./Img/Antwerpen_4.png\">"
   ]
  },
  {
   "cell_type": "code",
   "execution_count": 1,
   "metadata": {},
   "outputs": [],
   "source": [
    "import pandas as pd"
   ]
  },
  {
   "cell_type": "code",
   "execution_count": 2,
   "metadata": {},
   "outputs": [
    {
     "data": {
      "text/html": [
       "<div>\n",
       "<style scoped>\n",
       "    .dataframe tbody tr th:only-of-type {\n",
       "        vertical-align: middle;\n",
       "    }\n",
       "\n",
       "    .dataframe tbody tr th {\n",
       "        vertical-align: top;\n",
       "    }\n",
       "\n",
       "    .dataframe thead th {\n",
       "        text-align: right;\n",
       "    }\n",
       "</style>\n",
       "<table border=\"1\" class=\"dataframe\">\n",
       "  <thead>\n",
       "    <tr style=\"text-align: right;\">\n",
       "      <th></th>\n",
       "      <th>id</th>\n",
       "      <th>name</th>\n",
       "      <th>host_id</th>\n",
       "      <th>host_name</th>\n",
       "      <th>neighbourhood_group</th>\n",
       "      <th>neighbourhood</th>\n",
       "      <th>latitude</th>\n",
       "      <th>longitude</th>\n",
       "      <th>room_type</th>\n",
       "      <th>price</th>\n",
       "      <th>minimum_nights</th>\n",
       "      <th>number_of_reviews</th>\n",
       "      <th>last_review</th>\n",
       "      <th>reviews_per_month</th>\n",
       "      <th>calculated_host_listings_count</th>\n",
       "      <th>availability_365</th>\n",
       "    </tr>\n",
       "  </thead>\n",
       "  <tbody>\n",
       "    <tr>\n",
       "      <th>0</th>\n",
       "      <td>50904</td>\n",
       "      <td>aplace/antwerp: cosy suite - fashion district</td>\n",
       "      <td>234077</td>\n",
       "      <td>Karin</td>\n",
       "      <td>NaN</td>\n",
       "      <td>Historisch Centrum</td>\n",
       "      <td>51.21825</td>\n",
       "      <td>4.39901</td>\n",
       "      <td>Hotel room</td>\n",
       "      <td>145</td>\n",
       "      <td>1</td>\n",
       "      <td>1</td>\n",
       "      <td>2015-05-06</td>\n",
       "      <td>0.01</td>\n",
       "      <td>4</td>\n",
       "      <td>226</td>\n",
       "    </tr>\n",
       "    <tr>\n",
       "      <th>1</th>\n",
       "      <td>67776</td>\n",
       "      <td>Beautiful Big House Center Antwerp</td>\n",
       "      <td>334804</td>\n",
       "      <td>Ann</td>\n",
       "      <td>NaN</td>\n",
       "      <td>Sint-Andries</td>\n",
       "      <td>51.21467</td>\n",
       "      <td>4.39225</td>\n",
       "      <td>Entire home/apt</td>\n",
       "      <td>50</td>\n",
       "      <td>7</td>\n",
       "      <td>9</td>\n",
       "      <td>2016-10-24</td>\n",
       "      <td>0.08</td>\n",
       "      <td>2</td>\n",
       "      <td>210</td>\n",
       "    </tr>\n",
       "    <tr>\n",
       "      <th>2</th>\n",
       "      <td>116134</td>\n",
       "      <td>Trendy Vacation Apartment Antwerp</td>\n",
       "      <td>586942</td>\n",
       "      <td>Paul</td>\n",
       "      <td>NaN</td>\n",
       "      <td>Eilandje</td>\n",
       "      <td>51.23051</td>\n",
       "      <td>4.40593</td>\n",
       "      <td>Entire home/apt</td>\n",
       "      <td>150</td>\n",
       "      <td>2</td>\n",
       "      <td>102</td>\n",
       "      <td>2020-11-16</td>\n",
       "      <td>0.93</td>\n",
       "      <td>1</td>\n",
       "      <td>351</td>\n",
       "    </tr>\n",
       "    <tr>\n",
       "      <th>3</th>\n",
       "      <td>224333</td>\n",
       "      <td>Large stylish room in 1930s house + garden</td>\n",
       "      <td>1167377</td>\n",
       "      <td>Geert</td>\n",
       "      <td>NaN</td>\n",
       "      <td>Deurne Zuid West</td>\n",
       "      <td>51.19772</td>\n",
       "      <td>4.45853</td>\n",
       "      <td>Private room</td>\n",
       "      <td>16</td>\n",
       "      <td>14</td>\n",
       "      <td>2</td>\n",
       "      <td>2020-07-04</td>\n",
       "      <td>0.02</td>\n",
       "      <td>2</td>\n",
       "      <td>310</td>\n",
       "    </tr>\n",
       "    <tr>\n",
       "      <th>4</th>\n",
       "      <td>224682</td>\n",
       "      <td>APARTMENT ROSCAM - OLD CENTRE ANTWERP</td>\n",
       "      <td>1263933</td>\n",
       "      <td>Kristien</td>\n",
       "      <td>NaN</td>\n",
       "      <td>Sint-Andries</td>\n",
       "      <td>51.21722</td>\n",
       "      <td>4.39790</td>\n",
       "      <td>Entire home/apt</td>\n",
       "      <td>70</td>\n",
       "      <td>2</td>\n",
       "      <td>344</td>\n",
       "      <td>2021-01-28</td>\n",
       "      <td>3.13</td>\n",
       "      <td>1</td>\n",
       "      <td>299</td>\n",
       "    </tr>\n",
       "    <tr>\n",
       "      <th>...</th>\n",
       "      <td>...</td>\n",
       "      <td>...</td>\n",
       "      <td>...</td>\n",
       "      <td>...</td>\n",
       "      <td>...</td>\n",
       "      <td>...</td>\n",
       "      <td>...</td>\n",
       "      <td>...</td>\n",
       "      <td>...</td>\n",
       "      <td>...</td>\n",
       "      <td>...</td>\n",
       "      <td>...</td>\n",
       "      <td>...</td>\n",
       "      <td>...</td>\n",
       "      <td>...</td>\n",
       "      <td>...</td>\n",
       "    </tr>\n",
       "    <tr>\n",
       "      <th>1711</th>\n",
       "      <td>48217347</td>\n",
       "      <td>Antwerp top location! Beautiful 1 BDR apartment</td>\n",
       "      <td>129071533</td>\n",
       "      <td>Funny</td>\n",
       "      <td>NaN</td>\n",
       "      <td>Eilandje</td>\n",
       "      <td>51.22729</td>\n",
       "      <td>4.40859</td>\n",
       "      <td>Entire home/apt</td>\n",
       "      <td>80</td>\n",
       "      <td>7</td>\n",
       "      <td>0</td>\n",
       "      <td>NaN</td>\n",
       "      <td>NaN</td>\n",
       "      <td>1</td>\n",
       "      <td>90</td>\n",
       "    </tr>\n",
       "    <tr>\n",
       "      <th>1712</th>\n",
       "      <td>48224026</td>\n",
       "      <td>New LUXE DESIGN apt in centre Het zuid with HO...</td>\n",
       "      <td>389076822</td>\n",
       "      <td>Jean-Paul From BnbSupport</td>\n",
       "      <td>NaN</td>\n",
       "      <td>Zuid</td>\n",
       "      <td>51.21135</td>\n",
       "      <td>4.39703</td>\n",
       "      <td>Entire home/apt</td>\n",
       "      <td>399</td>\n",
       "      <td>2</td>\n",
       "      <td>0</td>\n",
       "      <td>NaN</td>\n",
       "      <td>NaN</td>\n",
       "      <td>1</td>\n",
       "      <td>364</td>\n",
       "    </tr>\n",
       "    <tr>\n",
       "      <th>1713</th>\n",
       "      <td>48227279</td>\n",
       "      <td>Recently renovated, light apartment at great spot</td>\n",
       "      <td>70627813</td>\n",
       "      <td>Enid</td>\n",
       "      <td>NaN</td>\n",
       "      <td>Nieuw - Kwartier Oost</td>\n",
       "      <td>51.18437</td>\n",
       "      <td>4.43935</td>\n",
       "      <td>Entire home/apt</td>\n",
       "      <td>45</td>\n",
       "      <td>30</td>\n",
       "      <td>0</td>\n",
       "      <td>NaN</td>\n",
       "      <td>NaN</td>\n",
       "      <td>1</td>\n",
       "      <td>245</td>\n",
       "    </tr>\n",
       "    <tr>\n",
       "      <th>1714</th>\n",
       "      <td>48261827</td>\n",
       "      <td>Design appartement op toplocatie</td>\n",
       "      <td>266540939</td>\n",
       "      <td>Katia</td>\n",
       "      <td>NaN</td>\n",
       "      <td>Theaterbuurt-Meir</td>\n",
       "      <td>51.21321</td>\n",
       "      <td>4.40922</td>\n",
       "      <td>Entire home/apt</td>\n",
       "      <td>145</td>\n",
       "      <td>7</td>\n",
       "      <td>0</td>\n",
       "      <td>NaN</td>\n",
       "      <td>NaN</td>\n",
       "      <td>1</td>\n",
       "      <td>87</td>\n",
       "    </tr>\n",
       "    <tr>\n",
       "      <th>1715</th>\n",
       "      <td>48278438</td>\n",
       "      <td>Gerenoveerd appartement op trendy zuid</td>\n",
       "      <td>70922398</td>\n",
       "      <td>Zoe</td>\n",
       "      <td>NaN</td>\n",
       "      <td>Zuid</td>\n",
       "      <td>51.21033</td>\n",
       "      <td>4.39729</td>\n",
       "      <td>Entire home/apt</td>\n",
       "      <td>80</td>\n",
       "      <td>1</td>\n",
       "      <td>0</td>\n",
       "      <td>NaN</td>\n",
       "      <td>NaN</td>\n",
       "      <td>1</td>\n",
       "      <td>19</td>\n",
       "    </tr>\n",
       "  </tbody>\n",
       "</table>\n",
       "<p>1716 rows × 16 columns</p>\n",
       "</div>"
      ],
      "text/plain": [
       "            id                                               name    host_id  \\\n",
       "0        50904      aplace/antwerp: cosy suite - fashion district     234077   \n",
       "1        67776                 Beautiful Big House Center Antwerp     334804   \n",
       "2       116134                  Trendy Vacation Apartment Antwerp     586942   \n",
       "3       224333         Large stylish room in 1930s house + garden    1167377   \n",
       "4       224682              APARTMENT ROSCAM - OLD CENTRE ANTWERP    1263933   \n",
       "...        ...                                                ...        ...   \n",
       "1711  48217347    Antwerp top location! Beautiful 1 BDR apartment  129071533   \n",
       "1712  48224026  New LUXE DESIGN apt in centre Het zuid with HO...  389076822   \n",
       "1713  48227279  Recently renovated, light apartment at great spot   70627813   \n",
       "1714  48261827                   Design appartement op toplocatie  266540939   \n",
       "1715  48278438             Gerenoveerd appartement op trendy zuid   70922398   \n",
       "\n",
       "                      host_name  neighbourhood_group          neighbourhood  \\\n",
       "0                         Karin                  NaN     Historisch Centrum   \n",
       "1                           Ann                  NaN           Sint-Andries   \n",
       "2                          Paul                  NaN               Eilandje   \n",
       "3                         Geert                  NaN       Deurne Zuid West   \n",
       "4                      Kristien                  NaN           Sint-Andries   \n",
       "...                         ...                  ...                    ...   \n",
       "1711                      Funny                  NaN               Eilandje   \n",
       "1712  Jean-Paul From BnbSupport                  NaN                   Zuid   \n",
       "1713                       Enid                  NaN  Nieuw - Kwartier Oost   \n",
       "1714                      Katia                  NaN      Theaterbuurt-Meir   \n",
       "1715                        Zoe                  NaN                   Zuid   \n",
       "\n",
       "      latitude  longitude        room_type  price  minimum_nights  \\\n",
       "0     51.21825    4.39901       Hotel room    145               1   \n",
       "1     51.21467    4.39225  Entire home/apt     50               7   \n",
       "2     51.23051    4.40593  Entire home/apt    150               2   \n",
       "3     51.19772    4.45853     Private room     16              14   \n",
       "4     51.21722    4.39790  Entire home/apt     70               2   \n",
       "...        ...        ...              ...    ...             ...   \n",
       "1711  51.22729    4.40859  Entire home/apt     80               7   \n",
       "1712  51.21135    4.39703  Entire home/apt    399               2   \n",
       "1713  51.18437    4.43935  Entire home/apt     45              30   \n",
       "1714  51.21321    4.40922  Entire home/apt    145               7   \n",
       "1715  51.21033    4.39729  Entire home/apt     80               1   \n",
       "\n",
       "      number_of_reviews last_review  reviews_per_month  \\\n",
       "0                     1  2015-05-06               0.01   \n",
       "1                     9  2016-10-24               0.08   \n",
       "2                   102  2020-11-16               0.93   \n",
       "3                     2  2020-07-04               0.02   \n",
       "4                   344  2021-01-28               3.13   \n",
       "...                 ...         ...                ...   \n",
       "1711                  0         NaN                NaN   \n",
       "1712                  0         NaN                NaN   \n",
       "1713                  0         NaN                NaN   \n",
       "1714                  0         NaN                NaN   \n",
       "1715                  0         NaN                NaN   \n",
       "\n",
       "      calculated_host_listings_count  availability_365  \n",
       "0                                  4               226  \n",
       "1                                  2               210  \n",
       "2                                  1               351  \n",
       "3                                  2               310  \n",
       "4                                  1               299  \n",
       "...                              ...               ...  \n",
       "1711                               1                90  \n",
       "1712                               1               364  \n",
       "1713                               1               245  \n",
       "1714                               1                87  \n",
       "1715                               1                19  \n",
       "\n",
       "[1716 rows x 16 columns]"
      ]
     },
     "execution_count": 2,
     "metadata": {},
     "output_type": "execute_result"
    }
   ],
   "source": [
    "df=pd.read_csv(\"Data/listings_antwerp.csv\")\n",
    "df"
   ]
  },
  {
   "cell_type": "code",
   "execution_count": 3,
   "metadata": {
    "scrolled": true
   },
   "outputs": [
    {
     "name": "stdout",
     "output_type": "stream",
     "text": [
      "<class 'pandas.core.frame.DataFrame'>\n",
      "RangeIndex: 1716 entries, 0 to 1715\n",
      "Data columns (total 16 columns):\n",
      " #   Column                          Non-Null Count  Dtype  \n",
      "---  ------                          --------------  -----  \n",
      " 0   id                              1716 non-null   int64  \n",
      " 1   name                            1716 non-null   object \n",
      " 2   host_id                         1716 non-null   int64  \n",
      " 3   host_name                       1716 non-null   object \n",
      " 4   neighbourhood_group             0 non-null      float64\n",
      " 5   neighbourhood                   1716 non-null   object \n",
      " 6   latitude                        1716 non-null   float64\n",
      " 7   longitude                       1716 non-null   float64\n",
      " 8   room_type                       1716 non-null   object \n",
      " 9   price                           1716 non-null   int64  \n",
      " 10  minimum_nights                  1716 non-null   int64  \n",
      " 11  number_of_reviews               1716 non-null   int64  \n",
      " 12  last_review                     1405 non-null   object \n",
      " 13  reviews_per_month               1405 non-null   float64\n",
      " 14  calculated_host_listings_count  1716 non-null   int64  \n",
      " 15  availability_365                1716 non-null   int64  \n",
      "dtypes: float64(4), int64(7), object(5)\n",
      "memory usage: 214.6+ KB\n"
     ]
    }
   ],
   "source": [
    "df.info()"
   ]
  },
  {
   "cell_type": "markdown",
   "metadata": {},
   "source": [
    "Удалим столбец *neighbourhood_group*, так как он не содержит данных.\n",
    "\n",
    "В поле *last_review* более 300 записей содержат пустые значения. Заменим все такие значения на дату 1 января 1990 года. \n",
    "\n",
    "Также имеются пустые значения в поле *reviews_per_month*. Такие заменим на нуль."
   ]
  },
  {
   "cell_type": "code",
   "execution_count": 4,
   "metadata": {},
   "outputs": [],
   "source": [
    "df.drop(\"neighbourhood_group\", axis=1, inplace=True)\n",
    "df[\"last_review\"].fillna(\"1990-01-01\", inplace=True)\n",
    "df[\"reviews_per_month\"].fillna(0, inplace=True)"
   ]
  },
  {
   "cell_type": "markdown",
   "metadata": {},
   "source": [
    "# 2. Создание базы данных *Antwerp.db*\n",
    "\n",
    "<img src=\"./Img/Antwerpen_3.png\">"
   ]
  },
  {
   "cell_type": "code",
   "execution_count": 5,
   "metadata": {
    "scrolled": true
   },
   "outputs": [],
   "source": [
    "# ! pip install sqlalchemy"
   ]
  },
  {
   "cell_type": "code",
   "execution_count": 6,
   "metadata": {},
   "outputs": [],
   "source": [
    "import sqlalchemy\n",
    "\n",
    "from sqlalchemy import (create_engine, MetaData, Table, Column,\n",
    "                        Integer, Numeric, String, Date, Boolean,\n",
    "                        ForeignKey, PrimaryKeyConstraint, UniqueConstraint, \n",
    "                        CheckConstraint, ForeignKeyConstraint,\n",
    "                        insert, select, func, desc)\n",
    "\n",
    "from datetime import date, datetime as dt\n",
    "from pprint import pprint\n",
    "\n",
    "engine = create_engine('sqlite:///Antwerp.db')\n",
    "metadata = MetaData()"
   ]
  },
  {
   "cell_type": "code",
   "execution_count": 7,
   "metadata": {},
   "outputs": [],
   "source": [
    "listings = Table('listings', metadata,\n",
    "            Column('listing_id',Integer(),primary_key=True),\n",
    "            Column('listing_name',String(100),index=True),\n",
    "            Column('host_id',Integer()),\n",
    "            Column('neighbourhood_id',Integer()),\n",
    "            Column('latitude',Numeric(10,2)),\n",
    "            Column('longitude',Numeric(10,2)),\n",
    "            Column('room_type_id',Integer()),\n",
    "            Column('price',Integer()),\n",
    "            Column('minimum_nights',Integer()),\n",
    "            Column('number_of_reviews', Integer()),\n",
    "            Column('last_review', Date()),\n",
    "            Column('reviews_per_month', Numeric(10,2)),\n",
    "            Column('availability_365', Integer()),\n",
    "            ForeignKeyConstraint(['host_id'], ['hosts.host_id']),\n",
    "            ForeignKeyConstraint(['neighbourhood_id'], ['neighbourhoods.neigh_id']),\n",
    "            ForeignKeyConstraint(['room_type_id'], ['room_types.room_type_id']),\n",
    "            extend_existing=True\n",
    "            )"
   ]
  },
  {
   "cell_type": "code",
   "execution_count": 8,
   "metadata": {},
   "outputs": [],
   "source": [
    "users = Table('users',metadata,\n",
    "            Column('user_id',Integer(),primary_key=True),\n",
    "            Column('user_name',String(15),nullable=False,unique=True),\n",
    "            Column('email_address',String(255),nullable=False),\n",
    "            Column('phone',String(20),nullable=False),\n",
    "            Column('password',String(25),nullable=False),\n",
    "            Column('created_on',Date(),default=date.today()),\n",
    "            Column('updated_on',Date(),default=date.today(),onupdate=date.today()),\n",
    "            extend_existing=True\n",
    "           )"
   ]
  },
  {
   "cell_type": "code",
   "execution_count": 9,
   "metadata": {},
   "outputs": [],
   "source": [
    "orders = Table('orders', metadata,\n",
    "            Column('order_id', Integer(),primary_key=True),\n",
    "            Column('user_id', ForeignKey('users.user_id')),\n",
    "            extend_existing=True\n",
    "            )"
   ]
  },
  {
   "cell_type": "code",
   "execution_count": 10,
   "metadata": {},
   "outputs": [],
   "source": [
    "line_items = Table('line_items', metadata,\n",
    "                   Column('line_item_id', Integer(), primary_key=True),\n",
    "                   Column('order_id', Integer()),\n",
    "                   Column('listing_id', ForeignKey('listings.listing_id')),\n",
    "                   Column('item_start_date', Date()),\n",
    "                   Column('item_end_date', Date()),\n",
    "                   Column('item_price', Integer()),\n",
    "                   extend_existing=True\n",
    "                  )\n",
    "\n",
    "line_items.append_constraint(\n",
    "    ForeignKeyConstraint(['order_id'], ['orders.order_id'])\n",
    ")"
   ]
  },
  {
   "cell_type": "code",
   "execution_count": 11,
   "metadata": {},
   "outputs": [],
   "source": [
    "neighbourhoods = Table('neighbourhoods',metadata,\n",
    "                    Column('neigh_id',Integer(),primary_key=True),\n",
    "                    Column('neigh_name',String(30)),\n",
    "                    extend_existing=True\n",
    "                   )"
   ]
  },
  {
   "cell_type": "code",
   "execution_count": 12,
   "metadata": {},
   "outputs": [],
   "source": [
    "hosts = Table('hosts',metadata,\n",
    "           Column('host_id',Integer(),primary_key=True),\n",
    "           Column('host_name',String(30))\n",
    "          )"
   ]
  },
  {
   "cell_type": "code",
   "execution_count": 13,
   "metadata": {},
   "outputs": [],
   "source": [
    "room_types = Table('room_types',metadata,\n",
    "                Column('room_type_id',Integer(),primary_key=True),\n",
    "                Column('room_type_name',String(30))\n",
    "               )"
   ]
  },
  {
   "cell_type": "code",
   "execution_count": 14,
   "metadata": {},
   "outputs": [],
   "source": [
    "metadata.create_all(engine)"
   ]
  },
  {
   "cell_type": "markdown",
   "metadata": {},
   "source": [
    "Проверим, какие таблицы созданы"
   ]
  },
  {
   "cell_type": "code",
   "execution_count": 15,
   "metadata": {},
   "outputs": [
    {
     "data": {
      "text/plain": [
       "dict_keys(['listings', 'users', 'orders', 'line_items', 'neighbourhoods', 'hosts', 'room_types'])"
      ]
     },
     "execution_count": 15,
     "metadata": {},
     "output_type": "execute_result"
    }
   ],
   "source": [
    "metadata.tables.keys()"
   ]
  },
  {
   "cell_type": "code",
   "execution_count": 16,
   "metadata": {},
   "outputs": [
    {
     "name": "stdout",
     "output_type": "stream",
     "text": [
      "{'hosts': Table('hosts', MetaData(bind=None), Column('host_id', Integer(), table=<hosts>, primary_key=True, nullable=False), Column('host_name', String(length=30), table=<hosts>), schema=None),\n",
      " 'line_items': Table('line_items', MetaData(bind=None), Column('line_item_id', Integer(), table=<line_items>, primary_key=True, nullable=False), Column('order_id', Integer(), ForeignKey('orders.order_id'), table=<line_items>), Column('listing_id', Integer(), ForeignKey('listings.listing_id'), table=<line_items>), Column('item_start_date', Date(), table=<line_items>), Column('item_end_date', Date(), table=<line_items>), Column('item_price', Integer(), table=<line_items>), schema=None),\n",
      " 'listings': Table('listings', MetaData(bind=None), Column('listing_id', Integer(), table=<listings>, primary_key=True, nullable=False), Column('listing_name', String(length=100), table=<listings>), Column('host_id', Integer(), ForeignKey('hosts.host_id'), table=<listings>), Column('neighbourhood_id', Integer(), ForeignKey('neighbourhoods.neigh_id'), table=<listings>), Column('latitude', Numeric(precision=10, scale=2), table=<listings>), Column('longitude', Numeric(precision=10, scale=2), table=<listings>), Column('room_type_id', Integer(), ForeignKey('room_types.room_type_id'), table=<listings>), Column('price', Integer(), table=<listings>), Column('minimum_nights', Integer(), table=<listings>), Column('number_of_reviews', Integer(), table=<listings>), Column('last_review', Date(), table=<listings>), Column('reviews_per_month', Numeric(precision=10, scale=2), table=<listings>), Column('availability_365', Integer(), table=<listings>), schema=None),\n",
      " 'neighbourhoods': Table('neighbourhoods', MetaData(bind=None), Column('neigh_id', Integer(), table=<neighbourhoods>, primary_key=True, nullable=False), Column('neigh_name', String(length=30), table=<neighbourhoods>), schema=None),\n",
      " 'orders': Table('orders', MetaData(bind=None), Column('order_id', Integer(), table=<orders>, primary_key=True, nullable=False), Column('user_id', Integer(), ForeignKey('users.user_id'), table=<orders>), schema=None),\n",
      " 'room_types': Table('room_types', MetaData(bind=None), Column('room_type_id', Integer(), table=<room_types>, primary_key=True, nullable=False), Column('room_type_name', String(length=30), table=<room_types>), schema=None),\n",
      " 'users': Table('users', MetaData(bind=None), Column('user_id', Integer(), table=<users>, primary_key=True, nullable=False), Column('user_name', String(length=15), table=<users>, nullable=False), Column('email_address', String(length=255), table=<users>, nullable=False), Column('phone', String(length=20), table=<users>, nullable=False), Column('password', String(length=25), table=<users>, nullable=False), Column('created_on', Date(), table=<users>, default=ColumnDefault(datetime.date(2021, 5, 6))), Column('updated_on', Date(), table=<users>, onupdate=ColumnDefault(datetime.date(2021, 5, 6)), default=ColumnDefault(datetime.date(2021, 5, 6))), schema=None)}\n"
     ]
    }
   ],
   "source": [
    "pprint(metadata.tables)"
   ]
  },
  {
   "cell_type": "markdown",
   "metadata": {},
   "source": [
    "# 3. Наполнение справочников\n",
    "\n",
    "<img src=\"./Img/Antwerpen_2.png\">"
   ]
  },
  {
   "cell_type": "markdown",
   "metadata": {},
   "source": [
    "Соединение"
   ]
  },
  {
   "cell_type": "code",
   "execution_count": 17,
   "metadata": {},
   "outputs": [],
   "source": [
    "connection = engine.connect()"
   ]
  },
  {
   "cell_type": "markdown",
   "metadata": {},
   "source": [
    "## 3.1. Наполнение справочника районов"
   ]
  },
  {
   "cell_type": "code",
   "execution_count": 18,
   "metadata": {
    "scrolled": true
   },
   "outputs": [
    {
     "data": {
      "text/html": [
       "<div>\n",
       "<style scoped>\n",
       "    .dataframe tbody tr th:only-of-type {\n",
       "        vertical-align: middle;\n",
       "    }\n",
       "\n",
       "    .dataframe tbody tr th {\n",
       "        vertical-align: top;\n",
       "    }\n",
       "\n",
       "    .dataframe thead th {\n",
       "        text-align: right;\n",
       "    }\n",
       "</style>\n",
       "<table border=\"1\" class=\"dataframe\">\n",
       "  <thead>\n",
       "    <tr style=\"text-align: right;\">\n",
       "      <th></th>\n",
       "      <th>id</th>\n",
       "      <th>name</th>\n",
       "      <th>host_id</th>\n",
       "      <th>host_name</th>\n",
       "      <th>neighbourhood</th>\n",
       "      <th>latitude</th>\n",
       "      <th>longitude</th>\n",
       "      <th>room_type</th>\n",
       "      <th>price</th>\n",
       "      <th>minimum_nights</th>\n",
       "      <th>number_of_reviews</th>\n",
       "      <th>last_review</th>\n",
       "      <th>reviews_per_month</th>\n",
       "      <th>calculated_host_listings_count</th>\n",
       "      <th>availability_365</th>\n",
       "    </tr>\n",
       "  </thead>\n",
       "  <tbody>\n",
       "    <tr>\n",
       "      <th>0</th>\n",
       "      <td>50904</td>\n",
       "      <td>aplace/antwerp: cosy suite - fashion district</td>\n",
       "      <td>234077</td>\n",
       "      <td>Karin</td>\n",
       "      <td>Historisch Centrum</td>\n",
       "      <td>51.21825</td>\n",
       "      <td>4.39901</td>\n",
       "      <td>Hotel room</td>\n",
       "      <td>145</td>\n",
       "      <td>1</td>\n",
       "      <td>1</td>\n",
       "      <td>2015-05-06</td>\n",
       "      <td>0.01</td>\n",
       "      <td>4</td>\n",
       "      <td>226</td>\n",
       "    </tr>\n",
       "  </tbody>\n",
       "</table>\n",
       "</div>"
      ],
      "text/plain": [
       "      id                                           name  host_id host_name  \\\n",
       "0  50904  aplace/antwerp: cosy suite - fashion district   234077     Karin   \n",
       "\n",
       "        neighbourhood  latitude  longitude   room_type  price  minimum_nights  \\\n",
       "0  Historisch Centrum  51.21825    4.39901  Hotel room    145               1   \n",
       "\n",
       "   number_of_reviews last_review  reviews_per_month  \\\n",
       "0                  1  2015-05-06               0.01   \n",
       "\n",
       "   calculated_host_listings_count  availability_365  \n",
       "0                               4               226  "
      ]
     },
     "execution_count": 18,
     "metadata": {},
     "output_type": "execute_result"
    }
   ],
   "source": [
    "df.head(1)"
   ]
  },
  {
   "cell_type": "code",
   "execution_count": 19,
   "metadata": {},
   "outputs": [
    {
     "name": "stdout",
     "output_type": "stream",
     "text": [
      "[{'neigh_id': 1, 'neigh_name': 'Amandus - Atheneum'},\n",
      " {'neigh_id': 2, 'neigh_name': 'Borgerhout Extra Muros'}]\n",
      "Всего районов: 53\n"
     ]
    }
   ],
   "source": [
    "neigh_names = df[\"neighbourhood\"].sort_values().unique()\n",
    "neigh_list = []\n",
    "for i, x in enumerate(neigh_names):\n",
    "    neigh_dict = {'neigh_id':i+1, 'neigh_name':x}\n",
    "    neigh_list.append(neigh_dict)\n",
    "pprint(neigh_list[:2])\n",
    "print(\"Всего районов:\", len(neigh_list))"
   ]
  },
  {
   "cell_type": "code",
   "execution_count": 20,
   "metadata": {
    "scrolled": true
   },
   "outputs": [
    {
     "data": {
      "text/plain": [
       "<sqlalchemy.engine.result.ResultProxy at 0x1effc502788>"
      ]
     },
     "execution_count": 20,
     "metadata": {},
     "output_type": "execute_result"
    }
   ],
   "source": [
    "ins = neighbourhoods.insert()\n",
    "connection.execute(ins, neigh_list)"
   ]
  },
  {
   "cell_type": "markdown",
   "metadata": {},
   "source": [
    "Проверка - запрос к таблице."
   ]
  },
  {
   "cell_type": "code",
   "execution_count": 109,
   "metadata": {},
   "outputs": [
    {
     "data": {
      "text/plain": [
       "(1, 'Amandus - Atheneum')"
      ]
     },
     "execution_count": 109,
     "metadata": {},
     "output_type": "execute_result"
    }
   ],
   "source": [
    "sel=select([neighbourhoods])\n",
    "connection.execute(sel).fetchone()"
   ]
  },
  {
   "cell_type": "markdown",
   "metadata": {},
   "source": [
    "## 3.2. Наполнение справочника типов комнат"
   ]
  },
  {
   "cell_type": "code",
   "execution_count": 22,
   "metadata": {
    "scrolled": true
   },
   "outputs": [
    {
     "name": "stdout",
     "output_type": "stream",
     "text": [
      "[{'room_type_id': 1, 'room_type_name': 'Entire home/apt'}]\n",
      "Всего типов комнат: 4\n"
     ]
    }
   ],
   "source": [
    "room_type_names=df[\"room_type\"].sort_values().unique()\n",
    "rooms_list=[]\n",
    "for i, name in enumerate(room_type_names):\n",
    "    tmp_dict={\"room_type_id\":i+1, \"room_type_name\":name}\n",
    "    rooms_list.append(tmp_dict)\n",
    "print(rooms_list[:1])\n",
    "print(\"Всего типов комнат:\", len(rooms_list))"
   ]
  },
  {
   "cell_type": "code",
   "execution_count": 23,
   "metadata": {},
   "outputs": [
    {
     "data": {
      "text/plain": [
       "<sqlalchemy.engine.result.ResultProxy at 0x1effc567348>"
      ]
     },
     "execution_count": 23,
     "metadata": {},
     "output_type": "execute_result"
    }
   ],
   "source": [
    "ins=room_types.insert()\n",
    "connection.execute(ins, rooms_list)"
   ]
  },
  {
   "cell_type": "markdown",
   "metadata": {},
   "source": [
    "Проверка - запрос к таблице *room_types*"
   ]
  },
  {
   "cell_type": "code",
   "execution_count": 24,
   "metadata": {},
   "outputs": [
    {
     "data": {
      "text/plain": [
       "(1, 'Entire home/apt')"
      ]
     },
     "execution_count": 24,
     "metadata": {},
     "output_type": "execute_result"
    }
   ],
   "source": [
    "sel=select([room_types])\n",
    "connection.execute(sel).fetchone()"
   ]
  },
  {
   "cell_type": "markdown",
   "metadata": {},
   "source": [
    "## 3.3. Наполнение справочника владельцев\n",
    "\n",
    "### Задание 3.3.1.\n",
    "Наполните справочник владельцев недвижимости, сохранив их идентификаторы из набора данных *Антверпен*."
   ]
  },
  {
   "cell_type": "code",
   "execution_count": 25,
   "metadata": {},
   "outputs": [],
   "source": [
    "# Ваш код здесь\n"
   ]
  },
  {
   "cell_type": "code",
   "execution_count": 26,
   "metadata": {
    "scrolled": false
   },
   "outputs": [
    {
     "data": {
      "text/plain": [
       "host_id    host_name                \n",
       "234077     Karin                        4\n",
       "334804     Ann                          2\n",
       "462975     Els                          1\n",
       "573329     Patricia                     1\n",
       "586942     Paul                         1\n",
       "                                       ..\n",
       "384478659  Mike                         1\n",
       "386268235  Monali                       2\n",
       "386740674  Ingrid                       1\n",
       "387215929  Sam                          1\n",
       "389076822  Jean-Paul From BnbSupport    1\n",
       "Name: host_id, Length: 1043, dtype: int64"
      ]
     },
     "execution_count": 26,
     "metadata": {},
     "output_type": "execute_result"
    }
   ],
   "source": [
    "# Решение\n",
    "hosts_df=df.groupby(['host_id','host_name']).host_id.count()\n",
    "hosts_df"
   ]
  },
  {
   "cell_type": "code",
   "execution_count": 27,
   "metadata": {},
   "outputs": [
    {
     "data": {
      "text/plain": [
       "[{'host_id': 234077, 'host_name': 'Karin'},\n",
       " {'host_id': 334804, 'host_name': 'Ann'},\n",
       " {'host_id': 462975, 'host_name': 'Els'}]"
      ]
     },
     "execution_count": 27,
     "metadata": {},
     "output_type": "execute_result"
    }
   ],
   "source": [
    "hosts_list=[]\n",
    "for item in hosts_df.index:\n",
    "    tmp_dict={'host_id':item[0],'host_name':item[1]}\n",
    "    hosts_list.append(tmp_dict)\n",
    "hosts_list[:3]"
   ]
  },
  {
   "cell_type": "code",
   "execution_count": 28,
   "metadata": {},
   "outputs": [
    {
     "data": {
      "text/plain": [
       "<sqlalchemy.engine.result.ResultProxy at 0x1efe9007ec8>"
      ]
     },
     "execution_count": 28,
     "metadata": {},
     "output_type": "execute_result"
    }
   ],
   "source": [
    "ins=hosts.insert()\n",
    "connection.execute(ins, hosts_list)"
   ]
  },
  {
   "cell_type": "code",
   "execution_count": 29,
   "metadata": {},
   "outputs": [
    {
     "name": "stdout",
     "output_type": "stream",
     "text": [
      "SELECT hosts.host_id, hosts.host_name \n",
      "FROM hosts \n",
      "WHERE hosts.host_id = :host_id_1\n",
      "{'host_id_1': 586942}\n",
      "[(586942, 'Paul')]\n"
     ]
    }
   ],
   "source": [
    "# Проверка\n",
    "sel=select([hosts])\n",
    "sel=sel.where(hosts.c.host_id==586942)\n",
    "print(str(sel))\n",
    "print(sel.compile().params)\n",
    "rp=connection.execute(sel).fetchall()\n",
    "print(rp)"
   ]
  },
  {
   "cell_type": "markdown",
   "metadata": {},
   "source": [
    "# 4. Наполнение таблиц\n",
    "<img src=\"./Img/Antwerpen_5.png\">\n",
    "\n",
    "## 4.1.  Таблица *listings*\n",
    "\n",
    "В процессе наполнения таблицы *listings* мы будем подставлять вместо названий районов, названий типов комнат и имен владельцев их идентификаторы. Для этого испоьзуем ранее созданные справочники районов, типов комнат и владельцев, откуда будем подставлять в таблицу соовтетствующие значения идентификаторов.\n",
    "\n",
    "**Пример.** Пусть у нас имеется справочник типов комнат - таблица *room_types*. Посмотрим, какие она содержит записи."
   ]
  },
  {
   "cell_type": "code",
   "execution_count": 30,
   "metadata": {
    "scrolled": true
   },
   "outputs": [
    {
     "name": "stdout",
     "output_type": "stream",
     "text": [
      "[(1, 'Entire home/apt'),\n",
      " (2, 'Hotel room'),\n",
      " (3, 'Private room'),\n",
      " (4, 'Shared room')]\n"
     ]
    }
   ],
   "source": [
    "sel = select([room_types])\n",
    "result = connection.execute(sel).fetchall()\n",
    "pprint(result)"
   ]
  },
  {
   "cell_type": "markdown",
   "metadata": {},
   "source": [
    "Теперь посмотрим, какой тип комнаты у первой записи таблицы набора данных \"Антверпен\"."
   ]
  },
  {
   "cell_type": "code",
   "execution_count": 31,
   "metadata": {},
   "outputs": [
    {
     "data": {
      "text/plain": [
       "'Hotel room'"
      ]
     },
     "execution_count": 31,
     "metadata": {},
     "output_type": "execute_result"
    }
   ],
   "source": [
    "df.loc[0, 'room_type']"
   ]
  },
  {
   "cell_type": "markdown",
   "metadata": {},
   "source": [
    "Это `'Hotel room'`. Чтобы получить идентификатор этого типа комнаты выполним запрос:"
   ]
  },
  {
   "cell_type": "code",
   "execution_count": 32,
   "metadata": {},
   "outputs": [
    {
     "name": "stdout",
     "output_type": "stream",
     "text": [
      "(2,)\n"
     ]
    }
   ],
   "source": [
    "sel = select([room_types.c.room_type_id])\n",
    "sel = sel.where(room_types.c.room_type_name == df.loc[0, 'room_type'])\n",
    "result = connection.execute(sel).fetchone()\n",
    "print(result)"
   ]
  },
  {
   "cell_type": "markdown",
   "metadata": {},
   "source": [
    "Чтобы узнать, как выглядит запрос, отправляемый в базу данных, можно выполнить команду"
   ]
  },
  {
   "cell_type": "code",
   "execution_count": 33,
   "metadata": {},
   "outputs": [
    {
     "name": "stdout",
     "output_type": "stream",
     "text": [
      "SELECT room_types.room_type_id \n",
      "FROM room_types \n",
      "WHERE room_types.room_type_name = :room_type_name_1\n",
      "{'room_type_name_1': 'Hotel room'}\n"
     ]
    }
   ],
   "source": [
    "print(str(sel))\n",
    "print(sel.compile().params)"
   ]
  },
  {
   "cell_type": "markdown",
   "metadata": {},
   "source": [
    "### Задание 4.1.1. \n",
    "Наполните данными таблицу *listings*"
   ]
  },
  {
   "cell_type": "code",
   "execution_count": 110,
   "metadata": {},
   "outputs": [],
   "source": [
    "lst = []\n",
    "for row_id in df.index[:]:\n",
    "    \n",
    "    \n",
    "    # Определите значение идентификатора района. \n",
    "    # Присвойте ему имя current_neigh_id\n",
    "    # Ваш код здесь\n",
    "    sel = select([neighbourhoods.c.neigh_id])\n",
    "    sel = sel.where(neighbourhoods.c.neigh_name==df.loc[row_id, 'neighbourhood'])\n",
    "    current_neigh_id = connection.execute(sel).fetchone()[0]\n",
    "    \n",
    "    \n",
    "    # Определите значение идентификатора типа комнаты. \n",
    "    # Присвойте ему имя current_room_type_id\n",
    "    # Ваш код здесь\n",
    "    sel = select([room_types.c.room_type_id])\n",
    "    sel = sel.where(room_types.c.room_type_name==df.loc[row_id, 'room_type'])\n",
    "    current_room_type_id = connection.execute(sel).fetchone()[0]\n",
    "    \n",
    "    \n",
    "    # Значение идентификатора владельца можно взять напрямую из записи набора данных\n",
    "    current_host_id = df.loc[row_id, 'host_id']\n",
    "    \n",
    "    \n",
    "    tmp_dict={\n",
    "        'listing_id': int(df.loc[row_id, 'id']),\n",
    "        'listing_name': df.loc[row_id, 'name'],\n",
    "        'host_id': int(current_host_id),\n",
    "        'neighbourhood_id': int(current_neigh_id),\n",
    "        'latitude': float(df.loc[row_id, 'latitude']),\n",
    "        'longitude': float(df.loc[row_id, 'longitude']),\n",
    "        'room_type_id': int(current_room_type_id),\n",
    "        'price': int(df.loc[row_id, 'price']),\n",
    "        'minimum_nights': int(df.loc[row_id, 'minimum_nights']),\n",
    "        'number_of_reviews': int(df.loc[row_id, 'number_of_reviews']),\n",
    "        'last_review': dt.strptime(df.loc[row_id, 'last_review'],'%Y-%m-%d'),\n",
    "        'reviews_per_month': df.loc[row_id, 'reviews_per_month'],\n",
    "        'availability_365': int(df.loc[row_id, 'availability_365'])\n",
    "    }    \n",
    "    lst.append(tmp_dict)"
   ]
  },
  {
   "cell_type": "code",
   "execution_count": 35,
   "metadata": {},
   "outputs": [
    {
     "data": {
      "text/plain": [
       "{'listing_id': 50904,\n",
       " 'listing_name': 'aplace/antwerp: cosy suite - fashion district',\n",
       " 'host_id': 234077,\n",
       " 'neighbourhood_id': 19,\n",
       " 'latitude': 51.21825,\n",
       " 'longitude': 4.39901,\n",
       " 'room_type_id': 2,\n",
       " 'price': 145,\n",
       " 'minimum_nights': 1,\n",
       " 'number_of_reviews': 1,\n",
       " 'last_review': datetime.datetime(2015, 5, 6, 0, 0),\n",
       " 'reviews_per_month': 0.01,\n",
       " 'availability_365': 226}"
      ]
     },
     "execution_count": 35,
     "metadata": {},
     "output_type": "execute_result"
    }
   ],
   "source": [
    "lst[0]"
   ]
  },
  {
   "cell_type": "code",
   "execution_count": 36,
   "metadata": {},
   "outputs": [],
   "source": [
    "ins=listings.insert()\n",
    "result=connection.execute(ins, lst)"
   ]
  },
  {
   "cell_type": "markdown",
   "metadata": {},
   "source": [
    "Проверка с помощью запроса"
   ]
  },
  {
   "cell_type": "code",
   "execution_count": 37,
   "metadata": {},
   "outputs": [
    {
     "name": "stdout",
     "output_type": "stream",
     "text": [
      "(50904, 'aplace/antwerp: cosy suite - fashion district', 234077, 19, Decimal('51.22'), Decimal('4.40'), 2, 145, 1, 1, datetime.date(2015, 5, 6), Decimal('0.01'), 226)\n"
     ]
    },
    {
     "name": "stderr",
     "output_type": "stream",
     "text": [
      "C:\\Users\\myfri\\anaconda3\\lib\\site-packages\\sqlalchemy\\sql\\sqltypes.py:666: SAWarning: Dialect sqlite+pysqlite does *not* support Decimal objects natively, and SQLAlchemy must convert from floating point - rounding errors and other issues may occur. Please consider storing Decimal numbers as strings or integers on this platform for lossless storage.\n",
      "  \"storage.\" % (dialect.name, dialect.driver)\n"
     ]
    }
   ],
   "source": [
    "sel=select([listings])\n",
    "rp=connection.execute(sel).fetchone()\n",
    "pprint(rp)"
   ]
  },
  {
   "cell_type": "code",
   "execution_count": 38,
   "metadata": {},
   "outputs": [
    {
     "name": "stdout",
     "output_type": "stream",
     "text": [
      "51.21825 <class 'numpy.float64'> <class 'float'>\n"
     ]
    }
   ],
   "source": [
    "l=df.loc[0,'latitude']\n",
    "print(l, type(l), type(float(l)))"
   ]
  },
  {
   "cell_type": "markdown",
   "metadata": {},
   "source": [
    "## 4.2 Таблицы *users, orders, line_items*\n",
    "\n",
    "### Задание 4.2.1.\n",
    "Наполните данными таблицы *users, orders, line_items*"
   ]
  },
  {
   "cell_type": "code",
   "execution_count": 39,
   "metadata": {},
   "outputs": [],
   "source": [
    "def insert_values(table, values_list):\n",
    "    for value in values_list:\n",
    "        ins = insert(table).values(value)\n",
    "        connection.execute(ins)"
   ]
  },
  {
   "cell_type": "code",
   "execution_count": 40,
   "metadata": {},
   "outputs": [],
   "source": [
    "user_list=[(1,'Nicolas','nicolas@rambler.ru','+7-929-616-88-77','@#$%890'),\n",
    "           (2,'Lida','lidaok@gmail.com','+7-929-616-88-77','yyT$%333'),\n",
    "           (3,'Vera','lveramuns@gmail.com','+7-353-214-12-90','yyT$%333'),\n",
    "           (4,'Ivan','ivaturgenev@yandex.ru','+7-047-121-89-95','tT6^7&#20Oy'),\n",
    "           (5,'Svetlana','svetaivanova@microsoft.com','+7-812-555-48-71','SD%@OUsdc7')\n",
    "          ]\n",
    "insert_values(users,user_list)"
   ]
  },
  {
   "cell_type": "code",
   "execution_count": 41,
   "metadata": {},
   "outputs": [
    {
     "data": {
      "text/plain": [
       "(1, 'Nicolas', 'nicolas@rambler.ru', '+7-929-616-88-77', '@#$%890', datetime.date(2021, 5, 6), datetime.date(2021, 5, 6))"
      ]
     },
     "execution_count": 41,
     "metadata": {},
     "output_type": "execute_result"
    }
   ],
   "source": [
    "sel=select([users])\n",
    "connection.execute(sel).fetchone()"
   ]
  },
  {
   "cell_type": "code",
   "execution_count": 42,
   "metadata": {},
   "outputs": [],
   "source": [
    "orders_list=[(1,1,True,500),\n",
    "             (2,2,True,150),\n",
    "             (3,3,True,180),\n",
    "             (4,1,True,200),\n",
    "             (5,2,True,220)]\n",
    "insert_values(orders,orders_list)"
   ]
  },
  {
   "cell_type": "code",
   "execution_count": 43,
   "metadata": {},
   "outputs": [
    {
     "data": {
      "text/plain": [
       "(1, 1)"
      ]
     },
     "execution_count": 43,
     "metadata": {},
     "output_type": "execute_result"
    }
   ],
   "source": [
    "sel=select([orders])\n",
    "connection.execute(sel).fetchone()"
   ]
  },
  {
   "cell_type": "markdown",
   "metadata": {},
   "source": [
    "## 5. Выполните задания\n",
    "<img src=\"./Img/Antwerpen_6b.png\">\n",
    "\n",
    "Выполните следующие задания с помощью запросов к базе данных *Antwerp.db*\n",
    "\n",
    "1. Распечатать названия районов и количество объектов в каждом районе. Упорядочить результат по убыванию числа объектов.\n",
    "2. Распечатать название района, имя владельца, название объекта для всех объектов размещения в районах *Dam* и *Donk*. Отсортировать результат по названию района и в каждом районе по имени владельца.\n",
    "3. Распечатать имя владельца и число объектов, которым он владеет, для всех владельцев, которые владеют семью и более объектами. Результат отсортировать по числу объектов в порядке убывания.\n",
    "4. Сколько комнат каждого типа в районе *Central Station?*\n",
    "5. Распечатать имена вледельцев и число объектов каждого владельца для всех владельцев, владеющих двумя и более объектами.\n",
    "6. Комнатами какого типа владеет *Mari?*. Распечатать число комнат каждого типа.\n",
    "7. Распечатать все объекты, принадлежащие владельцам *Mari* и *Marie*. Выполнить этот запрос с помощью подзапроса и без использования JOIN.  \n",
    "8. Найти объект размещения максимальной цены.\n",
    "9. Найти среднюю цену объекта в районе *Hoogte*.\n",
    "9. Распечатать названия и цены объектов в районе *Hoogte* с ценой ниже средней цены по району *Hoogte*."
   ]
  }
 ],
 "metadata": {
  "kernelspec": {
   "display_name": "Python 3",
   "language": "python",
   "name": "python3"
  },
  "language_info": {
   "codemirror_mode": {
    "name": "ipython",
    "version": 3
   },
   "file_extension": ".py",
   "mimetype": "text/x-python",
   "name": "python",
   "nbconvert_exporter": "python",
   "pygments_lexer": "ipython3",
   "version": "3.7.6"
  }
 },
 "nbformat": 4,
 "nbformat_minor": 2
}
