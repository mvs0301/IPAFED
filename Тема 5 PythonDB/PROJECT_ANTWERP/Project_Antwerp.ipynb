{
 "cells": [
  {
   "cell_type": "markdown",
   "metadata": {},
   "source": [
    "# ANTWERP"
   ]
  },
  {
   "cell_type": "markdown",
   "metadata": {},
   "source": [
    "## Изучение источника данных"
   ]
  },
  {
   "cell_type": "code",
   "execution_count": 46,
   "metadata": {},
   "outputs": [],
   "source": [
    "import pandas as pd\n",
    "from sqlalchemy.sql import func"
   ]
  },
  {
   "cell_type": "code",
   "execution_count": 2,
   "metadata": {},
   "outputs": [
    {
     "data": {
      "text/html": [
       "<div>\n",
       "<style scoped>\n",
       "    .dataframe tbody tr th:only-of-type {\n",
       "        vertical-align: middle;\n",
       "    }\n",
       "\n",
       "    .dataframe tbody tr th {\n",
       "        vertical-align: top;\n",
       "    }\n",
       "\n",
       "    .dataframe thead th {\n",
       "        text-align: right;\n",
       "    }\n",
       "</style>\n",
       "<table border=\"1\" class=\"dataframe\">\n",
       "  <thead>\n",
       "    <tr style=\"text-align: right;\">\n",
       "      <th></th>\n",
       "      <th>id</th>\n",
       "      <th>name</th>\n",
       "      <th>host_id</th>\n",
       "      <th>host_name</th>\n",
       "      <th>neighbourhood</th>\n",
       "      <th>latitude</th>\n",
       "      <th>longitude</th>\n",
       "      <th>room_type</th>\n",
       "      <th>price</th>\n",
       "      <th>minimum_nights</th>\n",
       "      <th>number_of_reviews</th>\n",
       "      <th>last_review</th>\n",
       "      <th>reviews_per_month</th>\n",
       "      <th>calculated_host_listings_count</th>\n",
       "      <th>availability_365</th>\n",
       "    </tr>\n",
       "  </thead>\n",
       "  <tbody>\n",
       "    <tr>\n",
       "      <th>0</th>\n",
       "      <td>50904</td>\n",
       "      <td>aplace/antwerp: cosy suite - fashion district</td>\n",
       "      <td>234077</td>\n",
       "      <td>Karin</td>\n",
       "      <td>Historisch Centrum</td>\n",
       "      <td>51.21825</td>\n",
       "      <td>4.39901</td>\n",
       "      <td>Hotel room</td>\n",
       "      <td>145</td>\n",
       "      <td>1</td>\n",
       "      <td>1</td>\n",
       "      <td>2015-05-06</td>\n",
       "      <td>0.01</td>\n",
       "      <td>4</td>\n",
       "      <td>226</td>\n",
       "    </tr>\n",
       "    <tr>\n",
       "      <th>1</th>\n",
       "      <td>67776</td>\n",
       "      <td>Beautiful Big House Center Antwerp</td>\n",
       "      <td>334804</td>\n",
       "      <td>Ann</td>\n",
       "      <td>Sint-Andries</td>\n",
       "      <td>51.21467</td>\n",
       "      <td>4.39225</td>\n",
       "      <td>Entire home/apt</td>\n",
       "      <td>50</td>\n",
       "      <td>7</td>\n",
       "      <td>9</td>\n",
       "      <td>2016-10-24</td>\n",
       "      <td>0.08</td>\n",
       "      <td>2</td>\n",
       "      <td>210</td>\n",
       "    </tr>\n",
       "    <tr>\n",
       "      <th>2</th>\n",
       "      <td>116134</td>\n",
       "      <td>Trendy Vacation Apartment Antwerp</td>\n",
       "      <td>586942</td>\n",
       "      <td>Paul</td>\n",
       "      <td>Eilandje</td>\n",
       "      <td>51.23051</td>\n",
       "      <td>4.40593</td>\n",
       "      <td>Entire home/apt</td>\n",
       "      <td>150</td>\n",
       "      <td>2</td>\n",
       "      <td>102</td>\n",
       "      <td>2020-11-16</td>\n",
       "      <td>0.93</td>\n",
       "      <td>1</td>\n",
       "      <td>351</td>\n",
       "    </tr>\n",
       "    <tr>\n",
       "      <th>3</th>\n",
       "      <td>224333</td>\n",
       "      <td>Large stylish room in 1930s house + garden</td>\n",
       "      <td>1167377</td>\n",
       "      <td>Geert</td>\n",
       "      <td>Deurne Zuid West</td>\n",
       "      <td>51.19772</td>\n",
       "      <td>4.45853</td>\n",
       "      <td>Private room</td>\n",
       "      <td>16</td>\n",
       "      <td>14</td>\n",
       "      <td>2</td>\n",
       "      <td>2020-07-04</td>\n",
       "      <td>0.02</td>\n",
       "      <td>2</td>\n",
       "      <td>310</td>\n",
       "    </tr>\n",
       "    <tr>\n",
       "      <th>4</th>\n",
       "      <td>224682</td>\n",
       "      <td>APARTMENT ROSCAM - OLD CENTRE ANTWERP</td>\n",
       "      <td>1263933</td>\n",
       "      <td>Kristien</td>\n",
       "      <td>Sint-Andries</td>\n",
       "      <td>51.21722</td>\n",
       "      <td>4.39790</td>\n",
       "      <td>Entire home/apt</td>\n",
       "      <td>70</td>\n",
       "      <td>2</td>\n",
       "      <td>344</td>\n",
       "      <td>2021-01-28</td>\n",
       "      <td>3.13</td>\n",
       "      <td>1</td>\n",
       "      <td>299</td>\n",
       "    </tr>\n",
       "  </tbody>\n",
       "</table>\n",
       "</div>"
      ],
      "text/plain": [
       "       id                                           name  host_id host_name  \\\n",
       "0   50904  aplace/antwerp: cosy suite - fashion district   234077     Karin   \n",
       "1   67776             Beautiful Big House Center Antwerp   334804       Ann   \n",
       "2  116134              Trendy Vacation Apartment Antwerp   586942      Paul   \n",
       "3  224333     Large stylish room in 1930s house + garden  1167377     Geert   \n",
       "4  224682          APARTMENT ROSCAM - OLD CENTRE ANTWERP  1263933  Kristien   \n",
       "\n",
       "        neighbourhood  latitude  longitude        room_type  price  \\\n",
       "0  Historisch Centrum  51.21825    4.39901       Hotel room    145   \n",
       "1        Sint-Andries  51.21467    4.39225  Entire home/apt     50   \n",
       "2            Eilandje  51.23051    4.40593  Entire home/apt    150   \n",
       "3    Deurne Zuid West  51.19772    4.45853     Private room     16   \n",
       "4        Sint-Andries  51.21722    4.39790  Entire home/apt     70   \n",
       "\n",
       "   minimum_nights  number_of_reviews last_review  reviews_per_month  \\\n",
       "0               1                  1  2015-05-06               0.01   \n",
       "1               7                  9  2016-10-24               0.08   \n",
       "2               2                102  2020-11-16               0.93   \n",
       "3              14                  2  2020-07-04               0.02   \n",
       "4               2                344  2021-01-28               3.13   \n",
       "\n",
       "   calculated_host_listings_count  availability_365  \n",
       "0                               4               226  \n",
       "1                               2               210  \n",
       "2                               1               351  \n",
       "3                               2               310  \n",
       "4                               1               299  "
      ]
     },
     "execution_count": 2,
     "metadata": {},
     "output_type": "execute_result"
    }
   ],
   "source": [
    "df=pd.read_csv(\"Data/listings_antwerp.csv\")\n",
    "df.drop(\"neighbourhood_group\", axis=1, inplace=True)\n",
    "df.head()"
   ]
  },
  {
   "cell_type": "code",
   "execution_count": 3,
   "metadata": {
    "scrolled": true
   },
   "outputs": [
    {
     "name": "stdout",
     "output_type": "stream",
     "text": [
      "Requirement already satisfied: sqlalchemy in c:\\programdata\\anaconda3\\lib\\site-packages (1.2.7)\n"
     ]
    },
    {
     "name": "stderr",
     "output_type": "stream",
     "text": [
      "WARNING: You are using pip version 20.2.3; however, version 21.0.1 is available.\n",
      "You should consider upgrading via the 'c:\\programdata\\anaconda3\\python.exe -m pip install --upgrade pip' command.\n"
     ]
    }
   ],
   "source": [
    "import warnings\n",
    "warnings.filterwarnings(\"ignore\")\n",
    "\n",
    "! pip install sqlalchemy"
   ]
  },
  {
   "cell_type": "markdown",
   "metadata": {},
   "source": [
    "## Создание БД"
   ]
  },
  {
   "cell_type": "code",
   "execution_count": 4,
   "metadata": {},
   "outputs": [],
   "source": [
    "import sqlalchemy\n",
    "from sqlalchemy import create_engine\n",
    "\n",
    "from datetime import datetime\n",
    "\n",
    "from sqlalchemy import (MetaData, Table, Column, Integer, Numeric, String, DateTime, \n",
    "                        Boolean, ForeignKey, create_engine, PrimaryKeyConstraint, \n",
    "                        UniqueConstraint, CheckConstraint, ForeignKeyConstraint,\n",
    "                        Index, insert, BigInteger, select)\n",
    "\n",
    "engine = create_engine('sqlite:///Antwerp.db')"
   ]
  },
  {
   "cell_type": "code",
   "execution_count": 5,
   "metadata": {},
   "outputs": [],
   "source": [
    "from sqlalchemy import MetaData\n",
    "metadata = MetaData()"
   ]
  },
  {
   "cell_type": "code",
   "execution_count": 6,
   "metadata": {},
   "outputs": [
    {
     "data": {
      "text/plain": [
       "Index(['id', 'name', 'host_id', 'host_name', 'neighbourhood', 'latitude',\n",
       "       'longitude', 'room_type', 'price', 'minimum_nights',\n",
       "       'number_of_reviews', 'last_review', 'reviews_per_month',\n",
       "       'calculated_host_listings_count', 'availability_365'],\n",
       "      dtype='object')"
      ]
     },
     "execution_count": 6,
     "metadata": {},
     "output_type": "execute_result"
    }
   ],
   "source": [
    "df.columns"
   ]
  },
  {
   "cell_type": "code",
   "execution_count": 7,
   "metadata": {},
   "outputs": [],
   "source": [
    "listings=Table('listings', metadata,\n",
    "            Column('listing_id',Integer(),primary_key=True),\n",
    "            Column('name',String(50),index=True),\n",
    "            Column('host_id',Integer()),\n",
    "            Column('neighbourhood_id',Integer()),\n",
    "            Column('latitude',Numeric(4,2)),\n",
    "            Column('longitude',Numeric(4,2)),\n",
    "            Column('room_type',String(50)),\n",
    "            Column('price',Numeric(7,2)),\n",
    "            CheckConstraint('price >= 0.00', name='listing_price_positive'),\n",
    "            ForeignKeyConstraint(['host_id'], ['host.host_id']),\n",
    "            ForeignKeyConstraint(['neighbourhood_id'], ['neighbourhood.neighbourhood_id']),\n",
    "            extend_existing=True)"
   ]
  },
  {
   "cell_type": "code",
   "execution_count": 8,
   "metadata": {},
   "outputs": [],
   "source": [
    "user=Table('user',metadata,\n",
    "            Column('user_id',Integer(),primary_key=True),\n",
    "            Column('user_name',String(15),nullable=False,unique=True),\n",
    "            Column('email_address',String(255),nullable=False),\n",
    "            Column('phone',String(20),nullable=False),\n",
    "            Column('password',String(25),nullable=False),\n",
    "            Column('created_on',DateTime(),default=datetime.now),\n",
    "            Column('updated_on',DateTime(),default=datetime.now,onupdate=datetime.now)\n",
    "           )"
   ]
  },
  {
   "cell_type": "code",
   "execution_count": 9,
   "metadata": {},
   "outputs": [],
   "source": [
    "order = Table('order', metadata,\n",
    "               Column('order_id', Integer(),primary_key=True),\n",
    "               Column('user_id', ForeignKey('user.user_id')),\n",
    "               Column('confirmed', Boolean(),default=False),\n",
    "               Column('order_price', Integer()),\n",
    "               extend_existing=True\n",
    "              )"
   ]
  },
  {
   "cell_type": "code",
   "execution_count": 10,
   "metadata": {},
   "outputs": [],
   "source": [
    "line_item = Table('line_item', metadata,\n",
    "                   Column('line_item_id', Integer(), primary_key=True),\n",
    "                   Column('order_id', ForeignKey('order.order_id')),\n",
    "                   Column('listing_id', ForeignKey('listings.listing_id')),\n",
    "                   Column('item_start_date', DateTime()),\n",
    "                   Column('item_end_date', DateTime()),\n",
    "                   Column('item_price', Integer()),\n",
    "                   extend_existing=True\n",
    "                  )"
   ]
  },
  {
   "cell_type": "code",
   "execution_count": 11,
   "metadata": {},
   "outputs": [],
   "source": [
    "neighbourhood=Table('neighbourhood',metadata,\n",
    "                    Column('neighbourhood_id',Integer(),primary_key=True),\n",
    "                    Column('name',String(30)),\n",
    "                   )"
   ]
  },
  {
   "cell_type": "code",
   "execution_count": 12,
   "metadata": {},
   "outputs": [],
   "source": [
    "host=Table('host',metadata,\n",
    "           Column('host_id',Integer(),primary_key=True),\n",
    "           Column('name',String(30))\n",
    "          )"
   ]
  },
  {
   "cell_type": "code",
   "execution_count": 13,
   "metadata": {},
   "outputs": [],
   "source": [
    "room_type=Table('room_type',metadata,\n",
    "                Column('room_type_id',Integer(),primary_key=True),\n",
    "                Column('name',String(30))\n",
    "               )"
   ]
  },
  {
   "cell_type": "code",
   "execution_count": 14,
   "metadata": {},
   "outputs": [],
   "source": [
    "metadata.create_all(engine)"
   ]
  },
  {
   "cell_type": "markdown",
   "metadata": {},
   "source": [
    "## Наполнение таблиц"
   ]
  },
  {
   "cell_type": "markdown",
   "metadata": {},
   "source": [
    "Соединение"
   ]
  },
  {
   "cell_type": "code",
   "execution_count": 15,
   "metadata": {},
   "outputs": [],
   "source": [
    "connection=engine.connect()"
   ]
  },
  {
   "cell_type": "markdown",
   "metadata": {},
   "source": [
    "1. Словарь районов"
   ]
  },
  {
   "cell_type": "code",
   "execution_count": 16,
   "metadata": {},
   "outputs": [
    {
     "data": {
      "text/html": [
       "<div>\n",
       "<style scoped>\n",
       "    .dataframe tbody tr th:only-of-type {\n",
       "        vertical-align: middle;\n",
       "    }\n",
       "\n",
       "    .dataframe tbody tr th {\n",
       "        vertical-align: top;\n",
       "    }\n",
       "\n",
       "    .dataframe thead th {\n",
       "        text-align: right;\n",
       "    }\n",
       "</style>\n",
       "<table border=\"1\" class=\"dataframe\">\n",
       "  <thead>\n",
       "    <tr style=\"text-align: right;\">\n",
       "      <th></th>\n",
       "      <th>id</th>\n",
       "      <th>name</th>\n",
       "      <th>host_id</th>\n",
       "      <th>host_name</th>\n",
       "      <th>neighbourhood</th>\n",
       "      <th>latitude</th>\n",
       "      <th>longitude</th>\n",
       "      <th>room_type</th>\n",
       "      <th>price</th>\n",
       "      <th>minimum_nights</th>\n",
       "      <th>number_of_reviews</th>\n",
       "      <th>last_review</th>\n",
       "      <th>reviews_per_month</th>\n",
       "      <th>calculated_host_listings_count</th>\n",
       "      <th>availability_365</th>\n",
       "    </tr>\n",
       "  </thead>\n",
       "  <tbody>\n",
       "    <tr>\n",
       "      <th>0</th>\n",
       "      <td>50904</td>\n",
       "      <td>aplace/antwerp: cosy suite - fashion district</td>\n",
       "      <td>234077</td>\n",
       "      <td>Karin</td>\n",
       "      <td>Historisch Centrum</td>\n",
       "      <td>51.21825</td>\n",
       "      <td>4.39901</td>\n",
       "      <td>Hotel room</td>\n",
       "      <td>145</td>\n",
       "      <td>1</td>\n",
       "      <td>1</td>\n",
       "      <td>2015-05-06</td>\n",
       "      <td>0.01</td>\n",
       "      <td>4</td>\n",
       "      <td>226</td>\n",
       "    </tr>\n",
       "    <tr>\n",
       "      <th>1</th>\n",
       "      <td>67776</td>\n",
       "      <td>Beautiful Big House Center Antwerp</td>\n",
       "      <td>334804</td>\n",
       "      <td>Ann</td>\n",
       "      <td>Sint-Andries</td>\n",
       "      <td>51.21467</td>\n",
       "      <td>4.39225</td>\n",
       "      <td>Entire home/apt</td>\n",
       "      <td>50</td>\n",
       "      <td>7</td>\n",
       "      <td>9</td>\n",
       "      <td>2016-10-24</td>\n",
       "      <td>0.08</td>\n",
       "      <td>2</td>\n",
       "      <td>210</td>\n",
       "    </tr>\n",
       "    <tr>\n",
       "      <th>2</th>\n",
       "      <td>116134</td>\n",
       "      <td>Trendy Vacation Apartment Antwerp</td>\n",
       "      <td>586942</td>\n",
       "      <td>Paul</td>\n",
       "      <td>Eilandje</td>\n",
       "      <td>51.23051</td>\n",
       "      <td>4.40593</td>\n",
       "      <td>Entire home/apt</td>\n",
       "      <td>150</td>\n",
       "      <td>2</td>\n",
       "      <td>102</td>\n",
       "      <td>2020-11-16</td>\n",
       "      <td>0.93</td>\n",
       "      <td>1</td>\n",
       "      <td>351</td>\n",
       "    </tr>\n",
       "    <tr>\n",
       "      <th>3</th>\n",
       "      <td>224333</td>\n",
       "      <td>Large stylish room in 1930s house + garden</td>\n",
       "      <td>1167377</td>\n",
       "      <td>Geert</td>\n",
       "      <td>Deurne Zuid West</td>\n",
       "      <td>51.19772</td>\n",
       "      <td>4.45853</td>\n",
       "      <td>Private room</td>\n",
       "      <td>16</td>\n",
       "      <td>14</td>\n",
       "      <td>2</td>\n",
       "      <td>2020-07-04</td>\n",
       "      <td>0.02</td>\n",
       "      <td>2</td>\n",
       "      <td>310</td>\n",
       "    </tr>\n",
       "    <tr>\n",
       "      <th>4</th>\n",
       "      <td>224682</td>\n",
       "      <td>APARTMENT ROSCAM - OLD CENTRE ANTWERP</td>\n",
       "      <td>1263933</td>\n",
       "      <td>Kristien</td>\n",
       "      <td>Sint-Andries</td>\n",
       "      <td>51.21722</td>\n",
       "      <td>4.39790</td>\n",
       "      <td>Entire home/apt</td>\n",
       "      <td>70</td>\n",
       "      <td>2</td>\n",
       "      <td>344</td>\n",
       "      <td>2021-01-28</td>\n",
       "      <td>3.13</td>\n",
       "      <td>1</td>\n",
       "      <td>299</td>\n",
       "    </tr>\n",
       "  </tbody>\n",
       "</table>\n",
       "</div>"
      ],
      "text/plain": [
       "       id                                           name  host_id host_name  \\\n",
       "0   50904  aplace/antwerp: cosy suite - fashion district   234077     Karin   \n",
       "1   67776             Beautiful Big House Center Antwerp   334804       Ann   \n",
       "2  116134              Trendy Vacation Apartment Antwerp   586942      Paul   \n",
       "3  224333     Large stylish room in 1930s house + garden  1167377     Geert   \n",
       "4  224682          APARTMENT ROSCAM - OLD CENTRE ANTWERP  1263933  Kristien   \n",
       "\n",
       "        neighbourhood  latitude  longitude        room_type  price  \\\n",
       "0  Historisch Centrum  51.21825    4.39901       Hotel room    145   \n",
       "1        Sint-Andries  51.21467    4.39225  Entire home/apt     50   \n",
       "2            Eilandje  51.23051    4.40593  Entire home/apt    150   \n",
       "3    Deurne Zuid West  51.19772    4.45853     Private room     16   \n",
       "4        Sint-Andries  51.21722    4.39790  Entire home/apt     70   \n",
       "\n",
       "   minimum_nights  number_of_reviews last_review  reviews_per_month  \\\n",
       "0               1                  1  2015-05-06               0.01   \n",
       "1               7                  9  2016-10-24               0.08   \n",
       "2               2                102  2020-11-16               0.93   \n",
       "3              14                  2  2020-07-04               0.02   \n",
       "4               2                344  2021-01-28               3.13   \n",
       "\n",
       "   calculated_host_listings_count  availability_365  \n",
       "0                               4               226  \n",
       "1                               2               210  \n",
       "2                               1               351  \n",
       "3                               2               310  \n",
       "4                               1               299  "
      ]
     },
     "execution_count": 16,
     "metadata": {},
     "output_type": "execute_result"
    }
   ],
   "source": [
    "df.head(5)"
   ]
  },
  {
   "cell_type": "code",
   "execution_count": 17,
   "metadata": {},
   "outputs": [],
   "source": [
    "# df.info()"
   ]
  },
  {
   "cell_type": "code",
   "execution_count": 18,
   "metadata": {},
   "outputs": [
    {
     "data": {
      "text/plain": [
       "[{'neighbourhood_id': 0, 'name': 'Historisch Centrum'},\n",
       " {'neighbourhood_id': 1, 'name': 'Sint-Andries'},\n",
       " {'neighbourhood_id': 2, 'name': 'Eilandje'}]"
      ]
     },
     "execution_count": 18,
     "metadata": {},
     "output_type": "execute_result"
    }
   ],
   "source": [
    "neigh_names=df[\"neighbourhood\"].unique()\n",
    "# neigh_dict={i: x for i, x in enumerate(neigh_names)}\n",
    "# neigh_list=[neigh_dict]\n",
    "# neigh_list\n",
    "neigh_list = []\n",
    "for i, x in enumerate(neigh_names):\n",
    "    neigh_dict = {'neighbourhood_id': i, 'name': x}\n",
    "    neigh_list.append(neigh_dict)\n",
    "neigh_list[:3]"
   ]
  },
  {
   "cell_type": "code",
   "execution_count": 19,
   "metadata": {},
   "outputs": [],
   "source": [
    "neigh_dict = {x: i for i, x in enumerate(neigh_names)}\n",
    "# neigh_dict"
   ]
  },
  {
   "cell_type": "code",
   "execution_count": 20,
   "metadata": {},
   "outputs": [],
   "source": [
    "ins=neighbourhood.insert()\n",
    "result=connection.execute(ins,neigh_list)"
   ]
  },
  {
   "cell_type": "code",
   "execution_count": 21,
   "metadata": {},
   "outputs": [
    {
     "data": {
      "text/plain": [
       "(0, 'Historisch Centrum')"
      ]
     },
     "execution_count": 21,
     "metadata": {},
     "output_type": "execute_result"
    }
   ],
   "source": [
    "sel=select([neighbourhood])\n",
    "connection.execute(sel).fetchone()"
   ]
  },
  {
   "cell_type": "code",
   "execution_count": 22,
   "metadata": {},
   "outputs": [
    {
     "data": {
      "text/html": [
       "<div>\n",
       "<style scoped>\n",
       "    .dataframe tbody tr th:only-of-type {\n",
       "        vertical-align: middle;\n",
       "    }\n",
       "\n",
       "    .dataframe tbody tr th {\n",
       "        vertical-align: top;\n",
       "    }\n",
       "\n",
       "    .dataframe thead th {\n",
       "        text-align: right;\n",
       "    }\n",
       "</style>\n",
       "<table border=\"1\" class=\"dataframe\">\n",
       "  <thead>\n",
       "    <tr style=\"text-align: right;\">\n",
       "      <th></th>\n",
       "      <th>id</th>\n",
       "      <th>name</th>\n",
       "      <th>host_id</th>\n",
       "      <th>host_name</th>\n",
       "      <th>neighbourhood</th>\n",
       "      <th>latitude</th>\n",
       "      <th>longitude</th>\n",
       "      <th>room_type</th>\n",
       "      <th>price</th>\n",
       "      <th>minimum_nights</th>\n",
       "      <th>number_of_reviews</th>\n",
       "      <th>last_review</th>\n",
       "      <th>reviews_per_month</th>\n",
       "      <th>calculated_host_listings_count</th>\n",
       "      <th>availability_365</th>\n",
       "    </tr>\n",
       "  </thead>\n",
       "  <tbody>\n",
       "    <tr>\n",
       "      <th>0</th>\n",
       "      <td>50904</td>\n",
       "      <td>aplace/antwerp: cosy suite - fashion district</td>\n",
       "      <td>234077</td>\n",
       "      <td>Karin</td>\n",
       "      <td>Historisch Centrum</td>\n",
       "      <td>51.21825</td>\n",
       "      <td>4.39901</td>\n",
       "      <td>Hotel room</td>\n",
       "      <td>145</td>\n",
       "      <td>1</td>\n",
       "      <td>1</td>\n",
       "      <td>2015-05-06</td>\n",
       "      <td>0.01</td>\n",
       "      <td>4</td>\n",
       "      <td>226</td>\n",
       "    </tr>\n",
       "  </tbody>\n",
       "</table>\n",
       "</div>"
      ],
      "text/plain": [
       "      id                                           name  host_id host_name  \\\n",
       "0  50904  aplace/antwerp: cosy suite - fashion district   234077     Karin   \n",
       "\n",
       "        neighbourhood  latitude  longitude   room_type  price  minimum_nights  \\\n",
       "0  Historisch Centrum  51.21825    4.39901  Hotel room    145               1   \n",
       "\n",
       "   number_of_reviews last_review  reviews_per_month  \\\n",
       "0                  1  2015-05-06               0.01   \n",
       "\n",
       "   calculated_host_listings_count  availability_365  \n",
       "0                               4               226  "
      ]
     },
     "execution_count": 22,
     "metadata": {},
     "output_type": "execute_result"
    }
   ],
   "source": [
    "df.head(1)"
   ]
  },
  {
   "cell_type": "code",
   "execution_count": null,
   "metadata": {},
   "outputs": [],
   "source": []
  },
  {
   "cell_type": "code",
   "execution_count": 23,
   "metadata": {},
   "outputs": [
    {
     "data": {
      "text/plain": [
       "{'id': 67776,\n",
       " 'name': 'Beautiful Big House Center Antwerp',\n",
       " 'neighbourhood_id': 1,\n",
       " 'latitude': 51.21467,\n",
       " 'longitude': 4.39225,\n",
       " 'room_type': 'Entire home/apt',\n",
       " 'price': 50}"
      ]
     },
     "execution_count": 23,
     "metadata": {},
     "output_type": "execute_result"
    }
   ],
   "source": [
    "listings_list = []\n",
    "for rec_id in df.index:\n",
    "    listings_list.append(\n",
    "        {'id': df.loc[rec_id, 'id'],\n",
    "         'name': df.loc[rec_id, 'name'],\n",
    "         'neighbourhood_id': neigh_dict[df.loc[rec_id, 'neighbourhood']],\n",
    "         'latitude': df.loc[rec_id, 'latitude'],\n",
    "         'longitude': df.loc[rec_id, 'longitude'],\n",
    "         'room_type': df.loc[rec_id, 'room_type'],\n",
    "         'price': df.loc[rec_id, 'price'],\n",
    "        }\n",
    "    )\n",
    "listings_list[1]"
   ]
  },
  {
   "cell_type": "code",
   "execution_count": 24,
   "metadata": {},
   "outputs": [],
   "source": [
    "ins=listings.insert()\n",
    "result=connection.execute(ins,listings_list)"
   ]
  },
  {
   "cell_type": "code",
   "execution_count": 25,
   "metadata": {},
   "outputs": [
    {
     "data": {
      "text/plain": [
       "(1, 'aplace/antwerp: cosy suite - fashion district', None, 0, Decimal('51.22'), Decimal('4.40'), 'Hotel room', Decimal('145.00'))"
      ]
     },
     "execution_count": 25,
     "metadata": {},
     "output_type": "execute_result"
    }
   ],
   "source": [
    "sel=select([listings])\n",
    "connection.execute(sel).fetchone()"
   ]
  },
  {
   "cell_type": "code",
   "execution_count": 33,
   "metadata": {},
   "outputs": [],
   "source": [
    "def insert_values(table, values_list):\n",
    "    for value in values_list:\n",
    "        ins = insert(table).values(value)\n",
    "        connection.execute(ins)"
   ]
  },
  {
   "cell_type": "code",
   "execution_count": 34,
   "metadata": {},
   "outputs": [],
   "source": [
    "user_list=[(1,'Nicolas','nicolas@rambler.ru','+7-929-616-88-77','@#$%890'),\n",
    "           (2,'Lida','lidaok@gmail.com','+7-929-616-88-77','yyT$%333'),\n",
    "           (3,'Vera','lveramuns@gmail.com','+7-353-214-12-90','yyT$%333'),\n",
    "           (4,'Ivan','ivaturgenev@yandex.ru','+7-047-121-89-95','tT6^7&#20Oy'),\n",
    "           (5,'Svetlana','svetaivanova@microsoft.com','+7-812-555-48-71','SD%@OUsdc7')\n",
    "          ]\n",
    "insert_values(user,user_list)"
   ]
  },
  {
   "cell_type": "code",
   "execution_count": 35,
   "metadata": {},
   "outputs": [
    {
     "data": {
      "text/plain": [
       "(1, 'Nicolas', 'nicolas@rambler.ru', '+7-929-616-88-77', '@#$%890', datetime.datetime(2021, 4, 10, 15, 21, 42, 790318), datetime.datetime(2021, 4, 10, 15, 21, 42, 790318))"
      ]
     },
     "execution_count": 35,
     "metadata": {},
     "output_type": "execute_result"
    }
   ],
   "source": [
    "sel=select([user])\n",
    "connection.execute(sel).fetchone()"
   ]
  },
  {
   "cell_type": "code",
   "execution_count": 36,
   "metadata": {},
   "outputs": [],
   "source": [
    "order_list=[(1,1,True,500),\n",
    "            (2,2,True,150),\n",
    "            (3,3,True,180),\n",
    "            (4,1,True,200),\n",
    "            (5,2,True,220)]\n",
    "insert_values(order,order_list)"
   ]
  },
  {
   "cell_type": "code",
   "execution_count": 40,
   "metadata": {},
   "outputs": [
    {
     "data": {
      "text/plain": [
       "(1, 1, True, 500)"
      ]
     },
     "execution_count": 40,
     "metadata": {},
     "output_type": "execute_result"
    }
   ],
   "source": [
    "sel=select([order])\n",
    "connection.execute(sel).fetchone()"
   ]
  },
  {
   "cell_type": "code",
   "execution_count": 41,
   "metadata": {},
   "outputs": [
    {
     "data": {
      "text/plain": [
       "(Decimal('145.00'),)"
      ]
     },
     "execution_count": 41,
     "metadata": {},
     "output_type": "execute_result"
    }
   ],
   "source": [
    "sel=select([listings.c.price])\n",
    "connection.execute(sel).fetchone()"
   ]
  },
  {
   "cell_type": "code",
   "execution_count": 49,
   "metadata": {},
   "outputs": [
    {
     "data": {
      "text/plain": [
       "Decimal('3200.00')"
      ]
     },
     "execution_count": 49,
     "metadata": {},
     "output_type": "execute_result"
    }
   ],
   "source": [
    "sel = select([func.max(listings.c.price)])\n",
    "connection.execute(sel).scalar()"
   ]
  }
 ],
 "metadata": {
  "kernelspec": {
   "display_name": "Python 3",
   "language": "python",
   "name": "python3"
  },
  "language_info": {
   "codemirror_mode": {
    "name": "ipython",
    "version": 3
   },
   "file_extension": ".py",
   "mimetype": "text/x-python",
   "name": "python",
   "nbconvert_exporter": "python",
   "pygments_lexer": "ipython3",
   "version": "3.6.5"
  }
 },
 "nbformat": 4,
 "nbformat_minor": 2
}
